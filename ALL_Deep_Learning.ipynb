{
  "nbformat": 4,
  "nbformat_minor": 0,
  "metadata": {
    "accelerator": "GPU",
    "colab": {
      "name": "ALL_Deep_Learning.ipynb",
      "provenance": [],
      "collapsed_sections": [],
      "toc_visible": true,
      "include_colab_link": true
    },
    "kernelspec": {
      "display_name": "Python 3",
      "name": "python3"
    }
  },
  "cells": [
    {
      "cell_type": "markdown",
      "metadata": {
        "id": "view-in-github",
        "colab_type": "text"
      },
      "source": [
        "<a href=\"https://colab.research.google.com/github/Anonymous1846/ALL-Detection-Using-CNN/blob/master/ALL_Deep_Learning.ipynb\" target=\"_parent\"><img src=\"https://colab.research.google.com/assets/colab-badge.svg\" alt=\"Open In Colab\"/></a>"
      ]
    },
    {
      "cell_type": "markdown",
      "metadata": {
        "id": "bz8z3s6bmZ-L"
      },
      "source": [
        "# **Importing All The Necessary Dependancies.**"
      ]
    },
    {
      "cell_type": "code",
      "metadata": {
        "colab": {
          "base_uri": "https://localhost:8080/"
        },
        "id": "A7XLGtoAl0zO",
        "outputId": "eec685b1-a7d6-4daf-8cac-0985d7948ec1"
      },
      "source": [
        "'''\n",
        "Importing all the necessary dependencies for the Binary Classification model !\n",
        "In the end we have verified the keras installtion, by printing out the keras version.\n",
        "\n",
        "keras/tensorflow - for developing and training the DL(CNN) model !\n",
        "os,random - for selection of the images from the directory !\n",
        "Each Model is stored in its respective directory along with its history file !\n",
        "'''\n",
        "from keras.layers import MaxPooling2D,Conv2D,Dropout,Dense,Flatten,BatchNormalization,MaxPool2D #layers\n",
        "from keras.applications.imagenet_utils import decode_predictions\n",
        "from keras.preprocessing.image import ImageDataGenerator            #for augmentation\n",
        "from keras.applications.vgg16 import preprocess_input as vg16pi     #for vgg16 preporcessing\n",
        "from keras.applications.vgg19 import preprocess_input as vg19pi     #for vgg19 preporcessing\n",
        "from tensorflow.keras.optimizers import RMSprop,Adam\n",
        "from keras.callbacks import ModelCheckpoint                         # for checkpoint calculation and callback\n",
        "from keras.preprocessing import image\n",
        "from keras.applications import VGG19\n",
        "from keras.applications import VGG16\n",
        "from keras.models import Sequential\n",
        "import matplotlib.pyplot as plt # for plotting \n",
        "import tensorflow as tf\n",
        "from cv2 import imread\n",
        "import numpy as np\n",
        "import pickle #for pickling the history dictionary !\n",
        "import keras\n",
        "import os \n",
        "\n",
        "# reading the image via  a path \n",
        "#causes an error if the keras installtion didn't went well !\n",
        "print(keras.__version__)"
      ],
      "execution_count": null,
      "outputs": [
        {
          "output_type": "stream",
          "text": [
            "2.4.3\n"
          ],
          "name": "stdout"
        }
      ]
    },
    {
      "cell_type": "markdown",
      "metadata": {
        "id": "Q_JFZFFZFzII"
      },
      "source": [
        "# **Loading the Dataset(i.e Cancer cell images).**"
      ]
    },
    {
      "cell_type": "code",
      "metadata": {
        "colab": {
          "base_uri": "https://localhost:8080/"
        },
        "id": "fm-5FTeSxHP4",
        "outputId": "fcd8d327-95eb-4402-d82f-d33c348f2e94"
      },
      "source": [
        "'''\n",
        "This is an optional block of code which can be executed if the \n",
        "google drive needs to be mounted on different account\n",
        "'''\n",
        "\n",
        "from google.colab import drive\n",
        "drive.mount('/content/drive')"
      ],
      "execution_count": null,
      "outputs": [
        {
          "output_type": "stream",
          "text": [
            "Mounted at /content/drive\n"
          ],
          "name": "stdout"
        }
      ]
    },
    {
      "cell_type": "code",
      "metadata": {
        "colab": {
          "base_uri": "https://localhost:8080/"
        },
        "id": "ZNvpvCN5TJqy",
        "outputId": "78200645-18f3-4501-9706-63da95d56271"
      },
      "source": [
        "'''\n",
        "The Images required for the training, validation, and testing is found in the /Architecture Datasets directory !\n",
        "Architecture Datasets \n",
        "|\n",
        "|\n",
        "|\n",
        " ---- Training(80 %)\n",
        "      |\n",
        "      |\n",
        "      ----Normal \n",
        "      |\n",
        "      ----Blasts\n",
        "|\n",
        "|\n",
        "---- Validation (10 %)\n",
        "      |\n",
        "      |\n",
        "      ----Normal \n",
        "      |\n",
        "      ----Blasts\n",
        "|\n",
        "|\n",
        "---- Testing (10 %)\n",
        "      |\n",
        "      |\n",
        "      ----Normal \n",
        "      |\n",
        "      ----Blasts\n",
        "\n",
        "      The images/dataset is divided into 80% training, 10% testing and 10% validation\n",
        "'''\n",
        "training_data_path    = \"/content/drive/MyDrive/Architecture Datasets/Training\"\n",
        "validation_data_path  = \"/content/drive/MyDrive/Architecture Datasets/Validation\"\n",
        "testing_data_path     = \"/content/drive/MyDrive/Architecture Datasets/Testing\"\n",
        "\n",
        "print(f'The Training Images Path :{training_data_path}')\n",
        "print(f'The Validation Images Path :{validation_data_path}')\n",
        "print(f'The Testing Images Path :{testing_data_path}')\n"
      ],
      "execution_count": null,
      "outputs": [
        {
          "output_type": "stream",
          "text": [
            "The Training Images Path :/content/drive/MyDrive/Architecture Datasets/Training\n",
            "The Validation Images Path :/content/drive/MyDrive/Architecture Datasets/Validation\n",
            "The Testing Images Path :/content/drive/MyDrive/Architecture Datasets/Testing\n"
          ],
          "name": "stdout"
        }
      ]
    },
    {
      "cell_type": "markdown",
      "metadata": {
        "id": "9yT7JaUnVPpU"
      },
      "source": [
        "# **Image Preprocessing Custom**"
      ]
    },
    {
      "cell_type": "code",
      "metadata": {
        "id": "qPeiTL-oVTay"
      },
      "source": [
        "'''\n",
        "ALL-IDB1 and ALL IDB2 both contains roughly 334 images, but after spiltting of the images,\n",
        "the size becomes significantly low, and this leads significant amount of overfitting.\n",
        "So, inorder to solve the problem of overfitting, we have to apply data augmentation \n",
        "to increase the number of images, from the previous existing images !\n",
        "'''\n",
        "\n",
        "training_images_preprocessed = ImageDataGenerator(rescale=1./255,\n",
        "                                                rotation_range=40,\n",
        "                                                horizontal_flip=True,\n",
        "                                                fill_mode='nearest')\n",
        "\n",
        "validate_images_preprocessed = ImageDataGenerator(rescale=1./255,rotation_range=40)"
      ],
      "execution_count": null,
      "outputs": []
    },
    {
      "cell_type": "markdown",
      "metadata": {
        "id": "70QLveVNCGv6"
      },
      "source": [
        "# **Preprocessing Via Pre-Process Function**"
      ]
    },
    {
      "cell_type": "code",
      "metadata": {
        "id": "-GM0qi7fCFaB"
      },
      "source": [
        "'''\n",
        "Important Note : If you're running the custom model please run the above function only.\n",
        "This block is only applicable to Transfer Learning !\n",
        "'''\n",
        "\n",
        "training_images_preprocessed=ImageDataGenerator(preprocessing_function=vg19pi)\n",
        "\n",
        "validate_images_preprocessed = ImageDataGenerator(preprocessing_function=vg19pi)"
      ],
      "execution_count": null,
      "outputs": []
    },
    {
      "cell_type": "markdown",
      "metadata": {
        "id": "FLAop9bDXLv9"
      },
      "source": [
        ""
      ]
    },
    {
      "cell_type": "markdown",
      "metadata": {
        "id": "xGPm_71JXPeC"
      },
      "source": [
        "# **Applying the Image Augmentation to Training and Validation Set !**"
      ]
    },
    {
      "cell_type": "code",
      "metadata": {
        "colab": {
          "base_uri": "https://localhost:8080/"
        },
        "id": "G9G6VPiSXVsR",
        "outputId": "e988d29c-942b-4046-b6b3-0d561ba91b06"
      },
      "source": [
        "'''\n",
        "The function augments the data, according to the processing mode.\n",
        "The processing mode has defined earlier seperately for training and validation set !\n",
        "\n",
        "params: training/validation directory and the processing mode(different for training and validation dataset)\n",
        "\n",
        "return: augmented data \n",
        "'''\n",
        "\n",
        "def apply_augmentation(data_directory,processing_mode,flag):\n",
        "  model_dict = {'AlexNet':(227,227),'Binary':(300,300),'VGG':(224,224)}\n",
        "  data_gen = processing_mode.flow_from_directory(\n",
        "  data_directory,                               # the directory as provided to the function as an arguement !\n",
        "  target_size = model_dict[flag],               # 300x 300 pixels for custom,224 for VGG, and 227 for AlexNet \n",
        "  batch_size = 128,                             # Number of Images Excepted at Iteration !\n",
        "  class_mode='binary')\n",
        "  print(f'Image Shape : {model_dict[flag]}')\n",
        "  return data_gen\n",
        "\n",
        "\n",
        "architecture='VGG'\n",
        "\n",
        "training_images_datagen = apply_augmentation(training_data_path,            #path to training dir\n",
        "                                             training_images_preprocessed,  #mode of processing\n",
        "                                             architecture)                  #architecture\n",
        "\n",
        "valid_images_datagen = apply_augmentation(validation_data_path,             #validation dir\n",
        "                                          validate_images_preprocessed,\n",
        "                                          architecture)\n",
        "\n",
        "test_images_datagen = apply_augmentation(testing_data_path,\n",
        "                                         validate_images_preprocessed,\n",
        "                                         architecture)\n",
        "\n",
        "print(training_images_datagen.class_indices) # class indices refer to the numerical equivalent whether they are cancerours or not !\n"
      ],
      "execution_count": null,
      "outputs": [
        {
          "output_type": "stream",
          "text": [
            "Found 268 images belonging to 2 classes.\n",
            "Image Shape : (224, 224)\n",
            "Found 33 images belonging to 2 classes.\n",
            "Image Shape : (224, 224)\n",
            "Found 33 images belonging to 2 classes.\n",
            "Image Shape : (224, 224)\n",
            "{'Blasts': 0, 'Normal': 1}\n"
          ],
          "name": "stdout"
        }
      ]
    },
    {
      "cell_type": "markdown",
      "metadata": {
        "id": "lbC-FfxiDtCO"
      },
      "source": [
        "#**Using the mean pixel we have calculated the number of features !**"
      ]
    },
    {
      "cell_type": "code",
      "metadata": {
        "colab": {
          "base_uri": "https://localhost:8080/"
        },
        "id": "wtkmIsQNDssN",
        "outputId": "14669333-8288-4a27-d16f-35dbdef752f6"
      },
      "source": [
        "sample_image0=imread('/content/drive/MyDrive/Architecture Datasets/Training/Blasts/Im031_1.jpg')\n",
        "print(\"The diemensions of the cancer cell: {}\".format(sample_image0.shape))\n",
        "feature_matrix0 = np.zeros((sample_image0.shape[0], sample_image0.shape[1])) # for cancer cell\n",
        "\n",
        "'''\n",
        "The function will calculate the mean pixels values which are essential in understanding the number of possible \n",
        "values/ features in the image !\n",
        "\n",
        "params: fetaure matrix and image\n",
        "\n",
        "return: None\n",
        "'''\n",
        "def show_features(feature_matrix,img):\n",
        "  for i in range(1,img.shape[0]):\n",
        "    for j in range(1,img.shape[1]):\n",
        "        feature_matrix[i][j] = ((int(img[i,j,0]) + int(img[i,j,1]) + int(img[i,j,2]))/3) # mean for three channels !\n",
        "\n",
        "  features = np.reshape(feature_matrix, (img.shape[0]*img.shape[1])) \n",
        "  print(\"The mean pixels values for the cancer cells: {}\".format(features.shape[0]))\n",
        "\n",
        "show_features(feature_matrix0,sample_image0) # for cancer cell \n"
      ],
      "execution_count": null,
      "outputs": [
        {
          "output_type": "stream",
          "text": [
            "The diemensions of the cancer cell: (1368, 1712, 3)\n",
            "The mean pixels values for the cancer cells: 2342016\n"
          ],
          "name": "stdout"
        }
      ]
    },
    {
      "cell_type": "markdown",
      "metadata": {
        "id": "psRQ77sbYuqN"
      },
      "source": [
        "# **Representation of Images.**"
      ]
    },
    {
      "cell_type": "code",
      "metadata": {
        "colab": {
          "base_uri": "https://localhost:8080/",
          "height": 321
        },
        "id": "W3oV8CEwY6p8",
        "outputId": "5bcadbfe-7dc5-473b-eb2a-2916e05d4dc9"
      },
      "source": [
        "'''\n",
        "The function is used to plot the augmented figures of the images, for visual demonstartion !\n",
        "\n",
        "params: image object\n",
        "return: 5 plotted images\n",
        "'''\n",
        "def plot(image):\n",
        "  fig,axes=plt.subplots(1,5,figsize=(20,20))# 20 x 20 images \n",
        "  axes=axes.flatten()\n",
        "  for imag,axis in zip(image,axes):\n",
        "    #the zip function takes two params(iteratables and combines then to form a list of tuples !)\n",
        "    axis.imshow(imag)\n",
        "  plt.tight_layout()\n",
        "  plt.show()\n",
        "\n",
        "training_images_datagen.class_indices\n",
        "sample_images=[training_images_datagen[0][0][0] for i in range(5)]\n",
        "plot(sample_images)"
      ],
      "execution_count": null,
      "outputs": [
        {
          "output_type": "stream",
          "text": [
            "Clipping input data to the valid range for imshow with RGB data ([0..1] for floats or [0..255] for integers).\n",
            "Clipping input data to the valid range for imshow with RGB data ([0..1] for floats or [0..255] for integers).\n",
            "Clipping input data to the valid range for imshow with RGB data ([0..1] for floats or [0..255] for integers).\n",
            "Clipping input data to the valid range for imshow with RGB data ([0..1] for floats or [0..255] for integers).\n",
            "Clipping input data to the valid range for imshow with RGB data ([0..1] for floats or [0..255] for integers).\n"
          ],
          "name": "stderr"
        },
        {
          "output_type": "display_data",
          "data": {
            "image/png": "[encoded data removed]",
            "text/plain": [
              "<Figure size 1440x1440 with 5 Axes>"
            ]
          },
          "metadata": {
            "tags": [],
            "needs_background": "light"
          }
        }
      ]
    },
    {
      "cell_type": "markdown",
      "metadata": {
        "id": "6ExfBhm4YE0f"
      },
      "source": [
        "# **Binary CNN Classifier 0!**"
      ]
    },
    {
      "cell_type": "code",
      "metadata": {
        "colab": {
          "base_uri": "https://localhost:8080/"
        },
        "id": "66QFUFr1YNlW",
        "outputId": "4670183b-0ef2-40e1-d6bd-352f125e73ee"
      },
      "source": [
        "'''\n",
        "The CNN model is used to predict whether the given data image is cancerous or not,\n",
        "it contains 5 convolution and corresponding number of maxpooling layers.\n",
        "RelU function is added to each layer so that it can introduce non-linearity and \n",
        "avoid the negative values !\n",
        "'''\n",
        "the_binary_cnn_model0=Sequential([\n",
        "                                    Conv2D(16, (3,3), activation='relu', input_shape=(300, 300, 3)), # relu function is used to negate the negative values from the models, replace them with zeros !\n",
        "                                    MaxPooling2D(2, 2),\n",
        "                                    Conv2D(32, (3,3), activation='relu'),# The second convolution\n",
        "                                    MaxPooling2D(2,2),                                    \n",
        "                                    Conv2D(64, (3,3), activation='relu'),# The third convolution\n",
        "                                    MaxPooling2D(2,2),                                   \n",
        "                                    Conv2D(64, (3,3), activation='relu'), # The fourth convolution\n",
        "                                    MaxPooling2D(2,2),                                   \n",
        "                                    Conv2D(64, (3,3), activation='relu'), # The fifth convolution\n",
        "                                    MaxPooling2D(2,2),                                   \n",
        "                                    \n",
        "                                    Flatten(),                            # Flatten the  results to feed into a DNN                                    \n",
        "                                    Dense(512, activation='relu'),        # 512 neuron hidden layer\n",
        "                                    # Only 1 output neuron. It will contain a value from 0-1 where 0 for 1 class ('normal') and 0 for the other 'cancer'\n",
        "                                    Dense(1, activation='sigmoid') # the output will be the range of -1 and 1(graph will be S shaped !)\n",
        "                                        ])\n",
        "\n",
        "the_binary_cnn_model0.summary()"
      ],
      "execution_count": null,
      "outputs": [
        {
          "output_type": "stream",
          "text": [
            "Model: \"sequential\"\n",
            "_________________________________________________________________\n",
            "Layer (type)                 Output Shape              Param #   \n",
            "=================================================================\n",
            "conv2d (Conv2D)              (None, 298, 298, 16)      448       \n",
            "_________________________________________________________________\n",
            "max_pooling2d (MaxPooling2D) (None, 149, 149, 16)      0         \n",
            "_________________________________________________________________\n",
            "conv2d_1 (Conv2D)            (None, 147, 147, 32)      4640      \n",
            "_________________________________________________________________\n",
            "max_pooling2d_1 (MaxPooling2 (None, 73, 73, 32)        0         \n",
            "_________________________________________________________________\n",
            "conv2d_2 (Conv2D)            (None, 71, 71, 64)        18496     \n",
            "_________________________________________________________________\n",
            "max_pooling2d_2 (MaxPooling2 (None, 35, 35, 64)        0         \n",
            "_________________________________________________________________\n",
            "conv2d_3 (Conv2D)            (None, 33, 33, 64)        36928     \n",
            "_________________________________________________________________\n",
            "max_pooling2d_3 (MaxPooling2 (None, 16, 16, 64)        0         \n",
            "_________________________________________________________________\n",
            "conv2d_4 (Conv2D)            (None, 14, 14, 64)        36928     \n",
            "_________________________________________________________________\n",
            "max_pooling2d_4 (MaxPooling2 (None, 7, 7, 64)          0         \n",
            "_________________________________________________________________\n",
            "flatten (Flatten)            (None, 3136)              0         \n",
            "_________________________________________________________________\n",
            "dense (Dense)                (None, 512)               1606144   \n",
            "_________________________________________________________________\n",
            "dense_1 (Dense)              (None, 1)                 513       \n",
            "=================================================================\n",
            "Total params: 1,704,097\n",
            "Trainable params: 1,704,097\n",
            "Non-trainable params: 0\n",
            "_________________________________________________________________\n"
          ],
          "name": "stdout"
        }
      ]
    },
    {
      "cell_type": "markdown",
      "metadata": {
        "id": "sD7ModzzAYbr"
      },
      "source": [
        "# **Binary Classifier Based On AlexNet Architecture**"
      ]
    },
    {
      "cell_type": "code",
      "metadata": {
        "colab": {
          "base_uri": "https://localhost:8080/"
        },
        "id": "s6K8U_fjAYGC",
        "outputId": "bbbabbd4-a00d-4b26-bcda-cdddc80aae63"
      },
      "source": [
        "'''\n",
        "Implementation of the AlexNet architecture, which is an common architecture of the CNN model\n",
        "The AlexNet Alrchitecture has been modified since, the original one is capable of classifiying\n",
        "upto 1000 tensors, and requires more computational power !\n",
        "'''\n",
        "alexnet_model =Sequential([\n",
        "                    Conv2D(96, (11, 11), strides=(4,4), activation='relu', input_shape=(227, 227, 3)),\n",
        "                   \n",
        "                    MaxPooling2D((3, 3),strides=(2,2)),\n",
        "                    Conv2D(256, (5, 5),padding='same', activation='relu'),\n",
        "                    \n",
        "                    MaxPooling2D((3, 3),strides=(2, 2)),\n",
        "                    Conv2D(384, (3, 3), padding='same',activation='relu'),\n",
        "                    Conv2D(384, (3, 3), padding='same',activation='relu'),\n",
        "                    Conv2D(256, (3, 3), padding='same',activation='relu'),\n",
        "                    \n",
        "                    MaxPooling2D((3, 3),strides=(2, 2)),\n",
        "                    Flatten(),\n",
        "                    Dense(4096, activation='relu'),# two sense layers with 4096 nuerons each \n",
        "                    Dropout(0.5),\n",
        "                    Dense(4096, activation='relu'),\n",
        "                    Dropout(0.5),\n",
        "                    Dense(1, activation='sigmoid')# sigmoid used to binary other wise softmax will be used for probabilitic classification!\n",
        "                    #Padding calculation = input_size + 2 * padding_size-(filter_size-1)\n",
        "])\n",
        "print(alexnet_model.summary())"
      ],
      "execution_count": null,
      "outputs": [
        {
          "output_type": "stream",
          "text": [
            "Model: \"sequential\"\n",
            "_________________________________________________________________\n",
            "Layer (type)                 Output Shape              Param #   \n",
            "=================================================================\n",
            "conv2d (Conv2D)              (None, 55, 55, 96)        34944     \n",
            "_________________________________________________________________\n",
            "max_pooling2d (MaxPooling2D) (None, 27, 27, 96)        0         \n",
            "_________________________________________________________________\n",
            "conv2d_1 (Conv2D)            (None, 27, 27, 256)       614656    \n",
            "_________________________________________________________________\n",
            "max_pooling2d_1 (MaxPooling2 (None, 13, 13, 256)       0         \n",
            "_________________________________________________________________\n",
            "conv2d_2 (Conv2D)            (None, 13, 13, 384)       885120    \n",
            "_________________________________________________________________\n",
            "conv2d_3 (Conv2D)            (None, 13, 13, 384)       1327488   \n",
            "_________________________________________________________________\n",
            "conv2d_4 (Conv2D)            (None, 13, 13, 256)       884992    \n",
            "_________________________________________________________________\n",
            "max_pooling2d_2 (MaxPooling2 (None, 6, 6, 256)         0         \n",
            "_________________________________________________________________\n",
            "flatten (Flatten)            (None, 9216)              0         \n",
            "_________________________________________________________________\n",
            "dense (Dense)                (None, 4096)              37752832  \n",
            "_________________________________________________________________\n",
            "dropout (Dropout)            (None, 4096)              0         \n",
            "_________________________________________________________________\n",
            "dense_1 (Dense)              (None, 4096)              16781312  \n",
            "_________________________________________________________________\n",
            "dropout_1 (Dropout)          (None, 4096)              0         \n",
            "_________________________________________________________________\n",
            "dense_2 (Dense)              (None, 1)                 4097      \n",
            "=================================================================\n",
            "Total params: 58,285,441\n",
            "Trainable params: 58,285,441\n",
            "Non-trainable params: 0\n",
            "_________________________________________________________________\n",
            "None\n"
          ],
          "name": "stdout"
        }
      ]
    },
    {
      "cell_type": "markdown",
      "metadata": {
        "id": "4V9Q4xfeGuBv"
      },
      "source": [
        "# **Binary Classifier Based On VGG 19**"
      ]
    },
    {
      "cell_type": "code",
      "metadata": {
        "colab": {
          "base_uri": "https://localhost:8080/"
        },
        "id": "nSEI99r4Gtzi",
        "outputId": "121f3216-fe11-4056-add0-4276c954281c"
      },
      "source": [
        "vgg_net19 =  VGG19(\n",
        "              weights='imagenet',\n",
        "              include_top=False,\n",
        "              input_shape=(224, 224, 3)\n",
        "                    )\n",
        "\n",
        "trainable = False\n",
        "for layer in vgg_net19.layers:\n",
        "    if layer.name == 'block5_conv1':\n",
        "        trainable = True\n",
        "    if trainable:\n",
        "        layer.trainable = True\n",
        "    else:\n",
        "        layer.trainable = False\n",
        "\n",
        "vggnet_19model = Sequential(\n",
        "                          [vgg_net19,\n",
        "                          Flatten(),\n",
        "                          Dropout(0.5),\n",
        "                          Dense(256,activation='relu'),\n",
        "                          Dense(1,activation='sigmoid')\n",
        "                          ])\n",
        "\n",
        "vggnet_19model.summary()"
      ],
      "execution_count": null,
      "outputs": [
        {
          "output_type": "stream",
          "text": [
            "Model: \"sequential\"\n",
            "_________________________________________________________________\n",
            "Layer (type)                 Output Shape              Param #   \n",
            "=================================================================\n",
            "vgg19 (Functional)           (None, 7, 7, 512)         20024384  \n",
            "_________________________________________________________________\n",
            "flatten (Flatten)            (None, 25088)             0         \n",
            "_________________________________________________________________\n",
            "dropout (Dropout)            (None, 25088)             0         \n",
            "_________________________________________________________________\n",
            "dense (Dense)                (None, 256)               6422784   \n",
            "_________________________________________________________________\n",
            "dense_1 (Dense)              (None, 1)                 257       \n",
            "=================================================================\n",
            "Total params: 26,447,425\n",
            "Trainable params: 15,862,273\n",
            "Non-trainable params: 10,585,152\n",
            "_________________________________________________________________\n"
          ],
          "name": "stdout"
        }
      ]
    },
    {
      "cell_type": "markdown",
      "metadata": {
        "id": "uBDUE7k3bmsx"
      },
      "source": [
        "# **Binary Classifier Based On VGG Net 16**"
      ]
    },
    {
      "cell_type": "code",
      "metadata": {
        "colab": {
          "base_uri": "https://localhost:8080/"
        },
        "id": "gA2utGcI3CvX",
        "outputId": "48d54c66-8ab0-4f4c-c3c2-de121146a4f4"
      },
      "source": [
        "vgg_net16 =  VGG16(\n",
        "              weights='imagenet',\n",
        "              include_top=False,\n",
        "              input_shape=(224, 224, 3)\n",
        "                    )\n",
        "\n",
        "trainable = False\n",
        "for layer in vgg_net16.layers:\n",
        "    if layer.name == 'block5_conv1':\n",
        "        trainable = True\n",
        "    if trainable:\n",
        "        layer.trainable = True\n",
        "    else:\n",
        "        layer.trainable = False\n",
        "\n",
        "vggnet_16model = Sequential(\n",
        "                          [vgg_net16,\n",
        "                          Flatten(),\n",
        "                          Dropout(0.5),\n",
        "                          Dense(256,activation='relu'),\n",
        "                          Dense(1,activation='sigmoid')\n",
        "                          ])\n",
        "\n",
        "vggnet_16model.summary()"
      ],
      "execution_count": null,
      "outputs": [
        {
          "output_type": "stream",
          "text": [
            "Downloading data from https://storage.googleapis.com/tensorflow/keras-applications/vgg16/vgg16_weights_tf_dim_ordering_tf_kernels_notop.h5\n",
            "58892288/58889256 [==============================] - 0s 0us/step\n",
            "Model: \"sequential_1\"\n",
            "_________________________________________________________________\n",
            "Layer (type)                 Output Shape              Param #   \n",
            "=================================================================\n",
            "vgg16 (Functional)           (None, 7, 7, 512)         14714688  \n",
            "_________________________________________________________________\n",
            "flatten_1 (Flatten)          (None, 25088)             0         \n",
            "_________________________________________________________________\n",
            "dropout_1 (Dropout)          (None, 25088)             0         \n",
            "_________________________________________________________________\n",
            "dense_2 (Dense)              (None, 256)               6422784   \n",
            "_________________________________________________________________\n",
            "dense_3 (Dense)              (None, 1)                 257       \n",
            "=================================================================\n",
            "Total params: 21,137,729\n",
            "Trainable params: 13,502,465\n",
            "Non-trainable params: 7,635,264\n",
            "_________________________________________________________________\n"
          ],
          "name": "stdout"
        }
      ]
    },
    {
      "cell_type": "markdown",
      "metadata": {
        "id": "EVvlM0Zt59cN"
      },
      "source": [
        "# **Compile the model**"
      ]
    },
    {
      "cell_type": "code",
      "metadata": {
        "id": "w5dFUoZ46AMX"
      },
      "source": [
        "'''\n",
        "Compiling the model using the loss function binary crossentropy and RMSProp !\n",
        "\n",
        "return : None\n",
        "\n",
        "params : model object \n",
        "'''\n",
        "def compile_model(model):\n",
        "  model.compile(loss='binary_crossentropy',\n",
        "                optimizer=RMSprop(lr=1e-4),\n",
        "                metrics=['accuracy'])\n",
        "compile_model(alexnet_model)\n"
      ],
      "execution_count": null,
      "outputs": []
    },
    {
      "cell_type": "markdown",
      "metadata": {
        "id": "5i-9ZzE5qICk"
      },
      "source": [
        "# **Validation and CallBack Lists**"
      ]
    },
    {
      "cell_type": "code",
      "metadata": {
        "id": "lQQikA-3D72T"
      },
      "source": [
        "'''\n",
        "The below callback list is used to moniter the validation accuracy, and the save the best version of the\n",
        "CNN model. The paths has been specified for later use !\n",
        "\n",
        "The Classifier model and the history file are saved in the Binary Classifier Models directory, in the format:\n",
        "\n",
        "Model_Name_Directory\n",
        "                | \n",
        "                |\n",
        "                 ---- Model_File.h5\n",
        "                 ---- Model_History.pickle\n",
        "'''\n",
        "\n",
        "model_path    = '/content/drive/MyDrive/Binary Classifier Models /Binary Classifier Model 0/Binary_Classifier_Model.h5'\n",
        "alexnet_path  = '/content/drive/MyDrive/Binary Classifier Models /AlexNet Classifier/AlexNet_Classifier.h5'\n",
        "vgg19_path    = '/content/drive/MyDrive/Binary Classifier Models /VGG 19/VGG_19.h5' \n",
        "vgg16_path    = '/content/drive/MyDrive/Binary Classifier Models /VGG 16/VGG_16.h5'"
      ],
      "execution_count": null,
      "outputs": []
    },
    {
      "cell_type": "code",
      "metadata": {
        "id": "kR2Rgy-AQvml"
      },
      "source": [
        "callback_checkpoint=ModelCheckpoint(alexnet_path,monitor='val_accuracy',verbose=1,save_best_only=True,mode='max')\n",
        "callback_checkpoint_list=[callback_checkpoint]"
      ],
      "execution_count": null,
      "outputs": []
    },
    {
      "cell_type": "markdown",
      "metadata": {
        "id": "UovyYQST6aey"
      },
      "source": [
        "# **Training the datset based on given model !**"
      ]
    },
    {
      "cell_type": "code",
      "metadata": {
        "colab": {
          "base_uri": "https://localhost:8080/"
        },
        "id": "IASzW7LI6e7N",
        "outputId": "9b8f462b-c6cf-4f47-c805-842c9964fea2"
      },
      "source": [
        "'''\n",
        "The below function takes in an arguement, which is the model to be trained and it trains the dataset with the specified model\n",
        "epochs:100\n",
        "\n",
        "Params: model object\n",
        "\n",
        "Return the trained object\n",
        "'''\n",
        "\n",
        "def train_the_model(model):\n",
        "  the_final_train = model.fit(\n",
        "                      training_images_datagen,\n",
        "                      callbacks       = callback_checkpoint_list,\n",
        "                      validation_data = valid_images_datagen,\n",
        "                      steps_per_epoch = 3, #the steps per epoch is set to 2, but cannot be set to more than 3(because of error !) \n",
        "                      epochs          = 100,\n",
        "                      verbose         = 2,\n",
        "                    )\n",
        "  return the_final_train\n",
        "\n",
        "\n",
        "trained_model=train_the_model(alexnet_model)"
      ],
      "execution_count": null,
      "outputs": [
        {
          "output_type": "stream",
          "text": [
            "Epoch 1/100\n",
            "3/3 - 18s - loss: 0.6980 - accuracy: 0.5037 - val_loss: 0.6912 - val_accuracy: 0.5455\n",
            "\n",
            "Epoch 00001: val_accuracy improved from -inf to 0.54545, saving model to /content/drive/MyDrive/Binary Classifier Models /AlexNet Classifier/AlexNet_Classifier.h5\n",
            "Epoch 2/100\n",
            "3/3 - 9s - loss: 0.6906 - accuracy: 0.5560 - val_loss: 0.6905 - val_accuracy: 0.5455\n",
            "\n",
            "Epoch 00002: val_accuracy did not improve from 0.54545\n",
            "Epoch 3/100\n",
            "3/3 - 10s - loss: 0.6937 - accuracy: 0.5299 - val_loss: 0.6862 - val_accuracy: 0.5455\n",
            "\n",
            "Epoch 00003: val_accuracy did not improve from 0.54545\n",
            "Epoch 4/100\n",
            "3/3 - 9s - loss: 0.6866 - accuracy: 0.5336 - val_loss: 0.9023 - val_accuracy: 0.5455\n",
            "\n",
            "Epoch 00004: val_accuracy did not improve from 0.54545\n",
            "Epoch 5/100\n",
            "3/3 - 9s - loss: 0.7900 - accuracy: 0.5522 - val_loss: 0.6882 - val_accuracy: 0.7576\n",
            "\n",
            "Epoch 00005: val_accuracy improved from 0.54545 to 0.75758, saving model to /content/drive/MyDrive/Binary Classifier Models /AlexNet Classifier/AlexNet_Classifier.h5\n",
            "Epoch 6/100\n",
            "3/3 - 9s - loss: 0.6896 - accuracy: 0.5784 - val_loss: 0.6770 - val_accuracy: 0.5455\n",
            "\n",
            "Epoch 00006: val_accuracy did not improve from 0.75758\n",
            "Epoch 7/100\n",
            "3/3 - 10s - loss: 0.6823 - accuracy: 0.5336 - val_loss: 0.6422 - val_accuracy: 0.5455\n",
            "\n",
            "Epoch 00007: val_accuracy did not improve from 0.75758\n",
            "Epoch 8/100\n",
            "3/3 - 9s - loss: 0.6731 - accuracy: 0.6045 - val_loss: 0.6330 - val_accuracy: 0.5455\n",
            "\n",
            "Epoch 00008: val_accuracy did not improve from 0.75758\n",
            "Epoch 9/100\n",
            "3/3 - 9s - loss: 0.6915 - accuracy: 0.6045 - val_loss: 0.6724 - val_accuracy: 0.5455\n",
            "\n",
            "Epoch 00009: val_accuracy did not improve from 0.75758\n",
            "Epoch 10/100\n",
            "3/3 - 9s - loss: 0.6843 - accuracy: 0.5784 - val_loss: 0.6577 - val_accuracy: 0.8485\n",
            "\n",
            "Epoch 00010: val_accuracy improved from 0.75758 to 0.84848, saving model to /content/drive/MyDrive/Binary Classifier Models /AlexNet Classifier/AlexNet_Classifier.h5\n",
            "Epoch 11/100\n",
            "3/3 - 9s - loss: 0.6634 - accuracy: 0.6157 - val_loss: 0.6972 - val_accuracy: 0.4545\n",
            "\n",
            "Epoch 00011: val_accuracy did not improve from 0.84848\n",
            "Epoch 12/100\n",
            "3/3 - 10s - loss: 0.6865 - accuracy: 0.5410 - val_loss: 0.6238 - val_accuracy: 0.9394\n",
            "\n",
            "Epoch 00012: val_accuracy improved from 0.84848 to 0.93939, saving model to /content/drive/MyDrive/Binary Classifier Models /AlexNet Classifier/AlexNet_Classifier.h5\n",
            "Epoch 13/100\n",
            "3/3 - 9s - loss: 0.6765 - accuracy: 0.6119 - val_loss: 0.6665 - val_accuracy: 0.7273\n",
            "\n",
            "Epoch 00013: val_accuracy did not improve from 0.93939\n",
            "Epoch 14/100\n",
            "3/3 - 10s - loss: 0.6919 - accuracy: 0.5485 - val_loss: 0.6495 - val_accuracy: 0.7576\n",
            "\n",
            "Epoch 00014: val_accuracy did not improve from 0.93939\n",
            "Epoch 15/100\n",
            "3/3 - 9s - loss: 0.6661 - accuracy: 0.5634 - val_loss: 0.5646 - val_accuracy: 0.7273\n",
            "\n",
            "Epoch 00015: val_accuracy did not improve from 0.93939\n",
            "Epoch 16/100\n",
            "3/3 - 9s - loss: 0.6442 - accuracy: 0.6119 - val_loss: 0.7135 - val_accuracy: 0.4545\n",
            "\n",
            "Epoch 00016: val_accuracy did not improve from 0.93939\n",
            "Epoch 17/100\n",
            "3/3 - 9s - loss: 0.6967 - accuracy: 0.4664 - val_loss: 0.6875 - val_accuracy: 0.5455\n",
            "\n",
            "Epoch 00017: val_accuracy did not improve from 0.93939\n",
            "Epoch 18/100\n",
            "3/3 - 9s - loss: 0.6980 - accuracy: 0.5336 - val_loss: 0.6855 - val_accuracy: 0.7273\n",
            "\n",
            "Epoch 00018: val_accuracy did not improve from 0.93939\n",
            "Epoch 19/100\n",
            "3/3 - 9s - loss: 0.6847 - accuracy: 0.5187 - val_loss: 0.6562 - val_accuracy: 0.5455\n",
            "\n",
            "Epoch 00019: val_accuracy did not improve from 0.93939\n",
            "Epoch 20/100\n",
            "3/3 - 9s - loss: 0.6771 - accuracy: 0.5336 - val_loss: 0.6570 - val_accuracy: 0.5455\n",
            "\n",
            "Epoch 00020: val_accuracy did not improve from 0.93939\n",
            "Epoch 21/100\n",
            "3/3 - 9s - loss: 0.6608 - accuracy: 0.5634 - val_loss: 0.9768 - val_accuracy: 0.5455\n",
            "\n",
            "Epoch 00021: val_accuracy did not improve from 0.93939\n",
            "Epoch 22/100\n",
            "3/3 - 9s - loss: 1.1078 - accuracy: 0.5858 - val_loss: 0.6290 - val_accuracy: 0.7273\n",
            "\n",
            "Epoch 00022: val_accuracy did not improve from 0.93939\n",
            "Epoch 23/100\n",
            "3/3 - 9s - loss: 0.6498 - accuracy: 0.5821 - val_loss: 0.6049 - val_accuracy: 0.7273\n",
            "\n",
            "Epoch 00023: val_accuracy did not improve from 0.93939\n",
            "Epoch 24/100\n",
            "3/3 - 9s - loss: 0.6346 - accuracy: 0.6119 - val_loss: 0.5392 - val_accuracy: 0.7273\n",
            "\n",
            "Epoch 00024: val_accuracy did not improve from 0.93939\n",
            "Epoch 25/100\n",
            "3/3 - 9s - loss: 0.6564 - accuracy: 0.6269 - val_loss: 0.5662 - val_accuracy: 0.7273\n",
            "\n",
            "Epoch 00025: val_accuracy did not improve from 0.93939\n",
            "Epoch 26/100\n",
            "3/3 - 9s - loss: 0.6281 - accuracy: 0.6007 - val_loss: 0.6181 - val_accuracy: 0.7273\n",
            "\n",
            "Epoch 00026: val_accuracy did not improve from 0.93939\n",
            "Epoch 27/100\n",
            "3/3 - 9s - loss: 0.6174 - accuracy: 0.6455 - val_loss: 0.4548 - val_accuracy: 0.9697\n",
            "\n",
            "Epoch 00027: val_accuracy improved from 0.93939 to 0.96970, saving model to /content/drive/MyDrive/Binary Classifier Models /AlexNet Classifier/AlexNet_Classifier.h5\n",
            "Epoch 28/100\n",
            "3/3 - 9s - loss: 0.7160 - accuracy: 0.6455 - val_loss: 0.5542 - val_accuracy: 0.8182\n",
            "\n",
            "Epoch 00028: val_accuracy did not improve from 0.96970\n",
            "Epoch 29/100\n",
            "3/3 - 10s - loss: 0.6043 - accuracy: 0.6455 - val_loss: 0.5057 - val_accuracy: 0.7273\n",
            "\n",
            "Epoch 00029: val_accuracy did not improve from 0.96970\n",
            "Epoch 30/100\n",
            "3/3 - 9s - loss: 0.5995 - accuracy: 0.6306 - val_loss: 0.5358 - val_accuracy: 0.7273\n",
            "\n",
            "Epoch 00030: val_accuracy did not improve from 0.96970\n",
            "Epoch 31/100\n",
            "3/3 - 9s - loss: 0.6209 - accuracy: 0.5858 - val_loss: 0.5367 - val_accuracy: 0.7273\n",
            "\n",
            "Epoch 00031: val_accuracy did not improve from 0.96970\n",
            "Epoch 32/100\n",
            "3/3 - 9s - loss: 0.6198 - accuracy: 0.6082 - val_loss: 0.5307 - val_accuracy: 0.7273\n",
            "\n",
            "Epoch 00032: val_accuracy did not improve from 0.96970\n",
            "Epoch 33/100\n",
            "3/3 - 9s - loss: 0.6033 - accuracy: 0.6866 - val_loss: 0.4769 - val_accuracy: 0.8788\n",
            "\n",
            "Epoch 00033: val_accuracy did not improve from 0.96970\n",
            "Epoch 34/100\n",
            "3/3 - 9s - loss: 0.5495 - accuracy: 0.6716 - val_loss: 0.4540 - val_accuracy: 0.9697\n",
            "\n",
            "Epoch 00034: val_accuracy did not improve from 0.96970\n",
            "Epoch 35/100\n",
            "3/3 - 9s - loss: 0.5497 - accuracy: 0.6567 - val_loss: 0.4907 - val_accuracy: 0.7273\n",
            "\n",
            "Epoch 00035: val_accuracy did not improve from 0.96970\n",
            "Epoch 36/100\n",
            "3/3 - 9s - loss: 0.5979 - accuracy: 0.5970 - val_loss: 0.4791 - val_accuracy: 0.7273\n",
            "\n",
            "Epoch 00036: val_accuracy did not improve from 0.96970\n",
            "Epoch 37/100\n",
            "3/3 - 9s - loss: 0.7071 - accuracy: 0.5709 - val_loss: 0.6603 - val_accuracy: 0.6667\n",
            "\n",
            "Epoch 00037: val_accuracy did not improve from 0.96970\n",
            "Epoch 38/100\n",
            "3/3 - 9s - loss: 0.6460 - accuracy: 0.6343 - val_loss: 0.4864 - val_accuracy: 0.8788\n",
            "\n",
            "Epoch 00038: val_accuracy did not improve from 0.96970\n",
            "Epoch 39/100\n",
            "3/3 - 9s - loss: 0.6028 - accuracy: 0.6455 - val_loss: 0.4904 - val_accuracy: 0.7273\n",
            "\n",
            "Epoch 00039: val_accuracy did not improve from 0.96970\n",
            "Epoch 40/100\n",
            "3/3 - 9s - loss: 0.5703 - accuracy: 0.6343 - val_loss: 0.5009 - val_accuracy: 0.7273\n",
            "\n",
            "Epoch 00040: val_accuracy did not improve from 0.96970\n",
            "Epoch 41/100\n",
            "3/3 - 9s - loss: 0.5291 - accuracy: 0.7500 - val_loss: 0.4850 - val_accuracy: 0.7273\n",
            "\n",
            "Epoch 00041: val_accuracy did not improve from 0.96970\n",
            "Epoch 42/100\n",
            "3/3 - 9s - loss: 0.5042 - accuracy: 0.7799 - val_loss: 0.4917 - val_accuracy: 0.7273\n",
            "\n",
            "Epoch 00042: val_accuracy did not improve from 0.96970\n",
            "Epoch 43/100\n",
            "3/3 - 9s - loss: 0.5561 - accuracy: 0.6604 - val_loss: 0.4599 - val_accuracy: 0.7879\n",
            "\n",
            "Epoch 00043: val_accuracy did not improve from 0.96970\n",
            "Epoch 44/100\n",
            "3/3 - 9s - loss: 0.5326 - accuracy: 0.6642 - val_loss: 0.4909 - val_accuracy: 0.7273\n",
            "\n",
            "Epoch 00044: val_accuracy did not improve from 0.96970\n",
            "Epoch 45/100\n",
            "3/3 - 9s - loss: 0.4797 - accuracy: 0.7873 - val_loss: 0.5202 - val_accuracy: 0.7273\n",
            "\n",
            "Epoch 00045: val_accuracy did not improve from 0.96970\n",
            "Epoch 46/100\n",
            "3/3 - 9s - loss: 0.5957 - accuracy: 0.6716 - val_loss: 0.5718 - val_accuracy: 0.5455\n",
            "\n",
            "Epoch 00046: val_accuracy did not improve from 0.96970\n",
            "Epoch 47/100\n",
            "3/3 - 9s - loss: 0.5855 - accuracy: 0.6604 - val_loss: 0.8833 - val_accuracy: 0.5455\n",
            "\n",
            "Epoch 00047: val_accuracy did not improve from 0.96970\n",
            "Epoch 48/100\n",
            "3/3 - 9s - loss: 0.5440 - accuracy: 0.7649 - val_loss: 0.4597 - val_accuracy: 0.7273\n",
            "\n",
            "Epoch 00048: val_accuracy did not improve from 0.96970\n",
            "Epoch 49/100\n",
            "3/3 - 9s - loss: 0.4666 - accuracy: 0.7910 - val_loss: 0.5165 - val_accuracy: 0.7273\n",
            "\n",
            "Epoch 00049: val_accuracy did not improve from 0.96970\n",
            "Epoch 50/100\n",
            "3/3 - 9s - loss: 0.4845 - accuracy: 0.8022 - val_loss: 0.4110 - val_accuracy: 0.8788\n",
            "\n",
            "Epoch 00050: val_accuracy did not improve from 0.96970\n",
            "Epoch 51/100\n",
            "3/3 - 9s - loss: 0.4558 - accuracy: 0.7500 - val_loss: 0.4762 - val_accuracy: 0.7273\n",
            "\n",
            "Epoch 00051: val_accuracy did not improve from 0.96970\n",
            "Epoch 52/100\n",
            "3/3 - 9s - loss: 0.4476 - accuracy: 0.7948 - val_loss: 0.4794 - val_accuracy: 0.7576\n",
            "\n",
            "Epoch 00052: val_accuracy did not improve from 0.96970\n",
            "Epoch 53/100\n",
            "3/3 - 9s - loss: 0.4256 - accuracy: 0.8209 - val_loss: 0.6077 - val_accuracy: 0.7273\n",
            "\n",
            "Epoch 00053: val_accuracy did not improve from 0.96970\n",
            "Epoch 54/100\n",
            "3/3 - 9s - loss: 0.4573 - accuracy: 0.8022 - val_loss: 0.4060 - val_accuracy: 0.9091\n",
            "\n",
            "Epoch 00054: val_accuracy did not improve from 0.96970\n",
            "Epoch 55/100\n",
            "3/3 - 9s - loss: 0.4748 - accuracy: 0.7910 - val_loss: 0.3795 - val_accuracy: 0.8485\n",
            "\n",
            "Epoch 00055: val_accuracy did not improve from 0.96970\n",
            "Epoch 56/100\n",
            "3/3 - 9s - loss: 0.4005 - accuracy: 0.8060 - val_loss: 0.5607 - val_accuracy: 0.5455\n",
            "\n",
            "Epoch 00056: val_accuracy did not improve from 0.96970\n",
            "Epoch 57/100\n",
            "3/3 - 9s - loss: 0.4537 - accuracy: 0.7500 - val_loss: 0.4722 - val_accuracy: 0.7879\n",
            "\n",
            "Epoch 00057: val_accuracy did not improve from 0.96970\n",
            "Epoch 58/100\n",
            "3/3 - 9s - loss: 0.4341 - accuracy: 0.8060 - val_loss: 0.5490 - val_accuracy: 0.5455\n",
            "\n",
            "Epoch 00058: val_accuracy did not improve from 0.96970\n",
            "Epoch 59/100\n",
            "3/3 - 9s - loss: 0.5871 - accuracy: 0.7351 - val_loss: 0.7345 - val_accuracy: 0.6364\n",
            "\n",
            "Epoch 00059: val_accuracy did not improve from 0.96970\n",
            "Epoch 60/100\n",
            "3/3 - 9s - loss: 0.8802 - accuracy: 0.5896 - val_loss: 0.5768 - val_accuracy: 0.7576\n",
            "\n",
            "Epoch 00060: val_accuracy did not improve from 0.96970\n",
            "Epoch 61/100\n",
            "3/3 - 9s - loss: 0.5493 - accuracy: 0.7500 - val_loss: 0.3419 - val_accuracy: 0.8788\n",
            "\n",
            "Epoch 00061: val_accuracy did not improve from 0.96970\n",
            "Epoch 62/100\n",
            "3/3 - 9s - loss: 0.4409 - accuracy: 0.7948 - val_loss: 0.3520 - val_accuracy: 0.8788\n",
            "\n",
            "Epoch 00062: val_accuracy did not improve from 0.96970\n",
            "Epoch 63/100\n",
            "3/3 - 9s - loss: 0.3613 - accuracy: 0.8582 - val_loss: 0.5802 - val_accuracy: 0.5758\n",
            "\n",
            "Epoch 00063: val_accuracy did not improve from 0.96970\n",
            "Epoch 64/100\n",
            "3/3 - 9s - loss: 0.4818 - accuracy: 0.7127 - val_loss: 0.3407 - val_accuracy: 0.8788\n",
            "\n",
            "Epoch 00064: val_accuracy did not improve from 0.96970\n",
            "Epoch 65/100\n",
            "3/3 - 9s - loss: 0.3526 - accuracy: 0.8657 - val_loss: 0.2623 - val_accuracy: 0.9394\n",
            "\n",
            "Epoch 00065: val_accuracy did not improve from 0.96970\n",
            "Epoch 66/100\n",
            "3/3 - 9s - loss: 0.3570 - accuracy: 0.8507 - val_loss: 0.2361 - val_accuracy: 0.9394\n",
            "\n",
            "Epoch 00066: val_accuracy did not improve from 0.96970\n",
            "Epoch 67/100\n",
            "3/3 - 9s - loss: 0.3627 - accuracy: 0.8246 - val_loss: 0.4490 - val_accuracy: 0.8182\n",
            "\n",
            "Epoch 00067: val_accuracy did not improve from 0.96970\n",
            "Epoch 68/100\n",
            "3/3 - 9s - loss: 0.3366 - accuracy: 0.8582 - val_loss: 0.2526 - val_accuracy: 0.9091\n",
            "\n",
            "Epoch 00068: val_accuracy did not improve from 0.96970\n",
            "Epoch 69/100\n",
            "3/3 - 9s - loss: 0.4287 - accuracy: 0.7799 - val_loss: 0.4302 - val_accuracy: 0.7879\n",
            "\n",
            "Epoch 00069: val_accuracy did not improve from 0.96970\n",
            "Epoch 70/100\n",
            "3/3 - 9s - loss: 0.4086 - accuracy: 0.8358 - val_loss: 0.3511 - val_accuracy: 0.8788\n",
            "\n",
            "Epoch 00070: val_accuracy did not improve from 0.96970\n",
            "Epoch 71/100\n",
            "3/3 - 9s - loss: 0.3497 - accuracy: 0.8619 - val_loss: 0.2856 - val_accuracy: 0.8788\n",
            "\n",
            "Epoch 00071: val_accuracy did not improve from 0.96970\n",
            "Epoch 72/100\n",
            "3/3 - 9s - loss: 0.3108 - accuracy: 0.8769 - val_loss: 0.2275 - val_accuracy: 0.9697\n",
            "\n",
            "Epoch 00072: val_accuracy did not improve from 0.96970\n",
            "Epoch 73/100\n",
            "3/3 - 9s - loss: 0.3322 - accuracy: 0.8694 - val_loss: 0.1807 - val_accuracy: 0.9394\n",
            "\n",
            "Epoch 00073: val_accuracy did not improve from 0.96970\n",
            "Epoch 74/100\n",
            "3/3 - 9s - loss: 0.3709 - accuracy: 0.8246 - val_loss: 0.2075 - val_accuracy: 0.9394\n",
            "\n",
            "Epoch 00074: val_accuracy did not improve from 0.96970\n",
            "Epoch 75/100\n",
            "3/3 - 9s - loss: 0.3283 - accuracy: 0.8545 - val_loss: 0.2262 - val_accuracy: 0.9697\n",
            "\n",
            "Epoch 00075: val_accuracy did not improve from 0.96970\n",
            "Epoch 76/100\n",
            "3/3 - 9s - loss: 0.3498 - accuracy: 0.8358 - val_loss: 0.2619 - val_accuracy: 0.9394\n",
            "\n",
            "Epoch 00076: val_accuracy did not improve from 0.96970\n",
            "Epoch 77/100\n",
            "3/3 - 9s - loss: 0.3458 - accuracy: 0.8582 - val_loss: 0.2072 - val_accuracy: 0.9394\n",
            "\n",
            "Epoch 00077: val_accuracy did not improve from 0.96970\n",
            "Epoch 78/100\n",
            "3/3 - 9s - loss: 0.3220 - accuracy: 0.8657 - val_loss: 0.3478 - val_accuracy: 0.8485\n",
            "\n",
            "Epoch 00078: val_accuracy did not improve from 0.96970\n",
            "Epoch 79/100\n",
            "3/3 - 9s - loss: 0.2807 - accuracy: 0.9067 - val_loss: 0.2403 - val_accuracy: 0.9091\n",
            "\n",
            "Epoch 00079: val_accuracy did not improve from 0.96970\n",
            "Epoch 80/100\n",
            "3/3 - 9s - loss: 0.4202 - accuracy: 0.8209 - val_loss: 0.1938 - val_accuracy: 0.9394\n",
            "\n",
            "Epoch 00080: val_accuracy did not improve from 0.96970\n",
            "Epoch 81/100\n",
            "3/3 - 9s - loss: 0.2327 - accuracy: 0.9291 - val_loss: 0.6237 - val_accuracy: 0.7273\n",
            "\n",
            "Epoch 00081: val_accuracy did not improve from 0.96970\n",
            "Epoch 82/100\n",
            "3/3 - 9s - loss: 1.7046 - accuracy: 0.7164 - val_loss: 0.7284 - val_accuracy: 0.4545\n",
            "\n",
            "Epoch 00082: val_accuracy did not improve from 0.96970\n",
            "Epoch 83/100\n",
            "3/3 - 9s - loss: 0.9850 - accuracy: 0.5709 - val_loss: 0.5871 - val_accuracy: 0.7273\n",
            "\n",
            "Epoch 00083: val_accuracy did not improve from 0.96970\n",
            "Epoch 84/100\n",
            "3/3 - 9s - loss: 0.5126 - accuracy: 0.7649 - val_loss: 0.2647 - val_accuracy: 0.9394\n",
            "\n",
            "Epoch 00084: val_accuracy did not improve from 0.96970\n",
            "Epoch 85/100\n",
            "3/3 - 9s - loss: 0.3909 - accuracy: 0.8358 - val_loss: 0.2725 - val_accuracy: 0.8788\n",
            "\n",
            "Epoch 00085: val_accuracy did not improve from 0.96970\n",
            "Epoch 86/100\n",
            "3/3 - 9s - loss: 0.3146 - accuracy: 0.8843 - val_loss: 0.5490 - val_accuracy: 0.6970\n",
            "\n",
            "Epoch 00086: val_accuracy did not improve from 0.96970\n",
            "Epoch 87/100\n",
            "3/3 - 9s - loss: 0.5165 - accuracy: 0.7910 - val_loss: 0.2179 - val_accuracy: 0.9394\n",
            "\n",
            "Epoch 00087: val_accuracy did not improve from 0.96970\n",
            "Epoch 88/100\n",
            "3/3 - 9s - loss: 0.2765 - accuracy: 0.9067 - val_loss: 0.1755 - val_accuracy: 0.9091\n",
            "\n",
            "Epoch 00088: val_accuracy did not improve from 0.96970\n",
            "Epoch 89/100\n",
            "3/3 - 9s - loss: 0.5564 - accuracy: 0.6903 - val_loss: 0.3491 - val_accuracy: 0.8788\n",
            "\n",
            "Epoch 00089: val_accuracy did not improve from 0.96970\n",
            "Epoch 90/100\n",
            "3/3 - 9s - loss: 0.3391 - accuracy: 0.8731 - val_loss: 0.2813 - val_accuracy: 0.9091\n",
            "\n",
            "Epoch 00090: val_accuracy did not improve from 0.96970\n",
            "Epoch 91/100\n",
            "3/3 - 9s - loss: 0.3503 - accuracy: 0.8358 - val_loss: 0.2004 - val_accuracy: 0.9697\n",
            "\n",
            "Epoch 00091: val_accuracy did not improve from 0.96970\n",
            "Epoch 92/100\n",
            "3/3 - 9s - loss: 0.3476 - accuracy: 0.8545 - val_loss: 0.2267 - val_accuracy: 0.9394\n",
            "\n",
            "Epoch 00092: val_accuracy did not improve from 0.96970\n",
            "Epoch 93/100\n",
            "3/3 - 9s - loss: 0.3189 - accuracy: 0.8769 - val_loss: 0.2638 - val_accuracy: 0.8788\n",
            "\n",
            "Epoch 00093: val_accuracy did not improve from 0.96970\n",
            "Epoch 94/100\n",
            "3/3 - 9s - loss: 0.3161 - accuracy: 0.8657 - val_loss: 0.2144 - val_accuracy: 0.9394\n",
            "\n",
            "Epoch 00094: val_accuracy did not improve from 0.96970\n",
            "Epoch 95/100\n",
            "3/3 - 9s - loss: 0.2976 - accuracy: 0.8619 - val_loss: 0.2771 - val_accuracy: 0.8788\n",
            "\n",
            "Epoch 00095: val_accuracy did not improve from 0.96970\n",
            "Epoch 96/100\n",
            "3/3 - 9s - loss: 0.2663 - accuracy: 0.9067 - val_loss: 0.1700 - val_accuracy: 0.9697\n",
            "\n",
            "Epoch 00096: val_accuracy did not improve from 0.96970\n",
            "Epoch 97/100\n",
            "3/3 - 9s - loss: 0.2325 - accuracy: 0.8993 - val_loss: 0.2408 - val_accuracy: 0.9091\n",
            "\n",
            "Epoch 00097: val_accuracy did not improve from 0.96970\n",
            "Epoch 98/100\n",
            "3/3 - 9s - loss: 0.3666 - accuracy: 0.8396 - val_loss: 0.1654 - val_accuracy: 0.9394\n",
            "\n",
            "Epoch 00098: val_accuracy did not improve from 0.96970\n",
            "Epoch 99/100\n",
            "3/3 - 9s - loss: 0.2445 - accuracy: 0.9142 - val_loss: 0.1421 - val_accuracy: 0.9394\n",
            "\n",
            "Epoch 00099: val_accuracy did not improve from 0.96970\n",
            "Epoch 100/100\n",
            "3/3 - 9s - loss: 0.3618 - accuracy: 0.8097 - val_loss: 0.3259 - val_accuracy: 0.8485\n",
            "\n",
            "Epoch 00100: val_accuracy did not improve from 0.96970\n"
          ],
          "name": "stdout"
        }
      ]
    },
    {
      "cell_type": "markdown",
      "metadata": {
        "id": "SnfCsHlkHZzZ"
      },
      "source": [
        "# **Saving History Pickle File !**"
      ]
    },
    {
      "cell_type": "code",
      "metadata": {
        "id": "uevOvCWNHZex"
      },
      "source": [
        "binary_class_pickle  = '/content/drive/MyDrive/Binary Classifier Models /Binary Classifier Model 0/BinaryClass.pickle'\n",
        "alexnet_pickle       = '/content/drive/MyDrive/Binary Classifier Models /AlexNet Classifier/AlexNet.pickle' \n",
        "vgg19_pickle         = '/content/drive/MyDrive/Binary Classifier Models /VGG 19/VGG19.pickle'\n",
        "vgg16_pickle         = '/content/drive/MyDrive/Binary Classifier Models /VGG 16/VGG16.pickle'"
      ],
      "execution_count": null,
      "outputs": []
    },
    {
      "cell_type": "code",
      "metadata": {
        "colab": {
          "base_uri": "https://localhost:8080/"
        },
        "id": "aGvDV7DyW4Ls",
        "outputId": "b9eb0cb1-7154-435c-ffb8-59ea07177076"
      },
      "source": [
        "'''\n",
        "The model cannot path cannot be directly used to retrieve the history thats\n",
        "why we are saving the respective model history to a pickle file \n",
        "\n",
        "return : None\n",
        "\n",
        "params : model_history and path of pickle file \n",
        "'''\n",
        "\n",
        "def save_file(pickle_dir,model_history):\n",
        "  with open(pickle_dir,'wb') as binary_pickle:\n",
        "    binary_pickle.write(pickle.dumps(model_history)) #dumping to pickle before writing to pickle file !\n",
        "    print(f'History Saved to {pickle_dir}')\n",
        "\n",
        "save_file(alexnet_pickle,trained_model.history) #the path of the model history pickle and the current model history !"
      ],
      "execution_count": null,
      "outputs": [
        {
          "output_type": "stream",
          "text": [
            "History Saved to /content/drive/MyDrive/Binary Classifier Models /AlexNet Classifier/AlexNet.pickle\n"
          ],
          "name": "stdout"
        }
      ]
    },
    {
      "cell_type": "markdown",
      "metadata": {
        "id": "AKqlawEa-J0E"
      },
      "source": [
        "# **Accuracy and Loss Graph !**"
      ]
    },
    {
      "cell_type": "code",
      "metadata": {
        "colab": {
          "base_uri": "https://localhost:8080/",
          "height": 606
        },
        "id": "_8dEYa0P-JQY",
        "outputId": "2f46fd26-bb3d-4144-d501-ce5f02c206e7"
      },
      "source": [
        "with open(alexnet_pickle,'rb') as model_history: #opening the pickle file which contains the dictionary !\n",
        "  model_history_dict=model_history.read()\n",
        "'''\n",
        "The accuracy and the losses at each iteration/epoch is evaluated in the graph below\n",
        "matplotlib is used for plotting.\n",
        "\n",
        "return:None\n",
        "\n",
        "params:model history path\n",
        "'''\n",
        "def plot_metrics(model):\n",
        "  model=pickle.loads(model)\n",
        "  plt.plot(model['accuracy'])\n",
        "  plt.plot(model['val_accuracy'])\n",
        "  plt.title('model_accuracy')\n",
        "  plt.ylabel('accuracy')\n",
        "  plt.xlabel('epoch')\n",
        "  plt.legend(['train','test'],loc='lower left')\n",
        "  plt.show()\n",
        "\n",
        "  plt.plot(model['loss'])\n",
        "  plt.plot(model['val_loss'])\n",
        "  plt.title('model_loss')\n",
        "  plt.ylabel('loss')\n",
        "  plt.xlabel('epoch')\n",
        "  plt.legend(['train','val loss'],loc='lower left')\n",
        "  plt.show()\n",
        "\n",
        "\n",
        "plot_metrics(model_history_dict)\n",
        "print(pickle.loads(model_history_dict)['accuracy'][-1]*100)\n",
        "print(pickle.loads(model_history_dict)['val_accuracy'][-1]*100)"
      ],
      "execution_count": null,
      "outputs": [
        {
          "output_type": "display_data",
          "data": {
            "image/png": "[encoded data removed]",
            "text/plain": [
              "<Figure size 432x288 with 1 Axes>"
            ]
          },
          "metadata": {
            "tags": [],
            "needs_background": "light"
          }
        },
        {
          "output_type": "display_data",
          "data": {
            "image/png": "[encoded data removed]",
            "text/plain": [
              "<Figure size 432x288 with 1 Axes>"
            ]
          },
          "metadata": {
            "tags": [],
            "needs_background": "light"
          }
        },
        {
          "output_type": "stream",
          "text": [
            "80.97015023231506\n",
            "84.84848737716675\n"
          ],
          "name": "stdout"
        }
      ]
    },
    {
      "cell_type": "markdown",
      "metadata": {
        "id": "SsPLPfYqXlJ1"
      },
      "source": [
        "#**Testing for Cancer vs Normal**"
      ]
    },
    {
      "cell_type": "code",
      "metadata": {
        "colab": {
          "base_uri": "https://localhost:8080/"
        },
        "id": "r9hAShN3yULC",
        "outputId": "5ddfdb75-b902-45c8-a0d5-f316de7fd47b"
      },
      "source": [
        "'''\n",
        "The final module of the system which basically predicts whether given cell is a blast or normal cell,\n",
        "based on the image and the prediction model file !\n",
        "\n",
        "return: Blast or Not \n",
        "\n",
        "params: path to the model and the path to the image !\n",
        "'''\n",
        "\n",
        "def check_for_cancer(model,image_path):\n",
        "  model = keras.models.load_model(model) #loading the model.h5 from the drive !\n",
        "  img = image.load_img(image_path, target_size=(224,224)) # loading the image in 300x300 diemensions(227x227x3 for AlexNet)\n",
        "  img = image.img_to_array(img)\n",
        "  img = np.expand_dims(img, axis=0)#expanding along one axis \n",
        "  result_vector = model.predict(img).round(1) #the array is passed to the model for prediction\n",
        "  print(result_vector[0])\n",
        "  if result_vector[0] == 0:\n",
        "      return \"Cancer Cell\"\n",
        "  else:\n",
        "      return \"Normal Cell\"\n",
        "\n",
        "print('Prediction Based on the Binary Classifier 0 Classifier !')\n",
        "print(check_for_cancer(vgg16_path,'/content/drive/MyDrive/Architecture Datasets/Testing/Blasts/Im006_1.jpg'))\n",
        "print(check_for_cancer(vgg16_path,'/content/drive/MyDrive/Architecture Datasets/Testing/Normal/Im073_0.jpg'))"
      ],
      "execution_count": null,
      "outputs": [
        {
          "output_type": "stream",
          "text": [
            "Prediction Based on the Binary Classifier 0 Classifier !\n",
            "[0.]\n",
            "Cancer Cell\n",
            "[0.3]\n",
            "Normal Cell\n"
          ],
          "name": "stdout"
        }
      ]
    },
    {
      "cell_type": "code",
      "metadata": {
        "id": "TitqEKz9nhWV"
      },
      "source": [
        "bin_test= '/content/drive/MyDrive/Binary Classifier Models /Binary Classifier Model 0/binary_acc.pickle'\n",
        "alexnet_test= '/content/drive/MyDrive/Binary Classifier Models /AlexNet Classifier/alexnet_acc.pickle'\n",
        "vgg16_test= '/content/drive/MyDrive/Binary Classifier Models /VGG 16/vgg16_acc.pickle'\n",
        "vgg19_test= '/content/drive/MyDrive/Binary Classifier Models /VGG 19/vgg19_acc.pickle'\n"
      ],
      "execution_count": null,
      "outputs": []
    },
    {
      "cell_type": "markdown",
      "metadata": {
        "id": "kgto-0NzLjgb"
      },
      "source": [
        "# **Metrics Analysis**"
      ]
    },
    {
      "cell_type": "code",
      "metadata": {
        "id": "QoLOpSkUzKd0",
        "colab": {
          "base_uri": "https://localhost:8080/"
        },
        "outputId": "e8bef9e3-5029-4032-92e8-82b336fb7ce5"
      },
      "source": [
        "def get_accuracy(model,test_datagen,pickle_file):\n",
        "  model = keras.models.load_model(model)\n",
        "  loss,accuracy = model.evaluate(test_datagen,batch_size = 128)\n",
        "  with open(pickle_file,'wb') as binary_pickle:\n",
        "    binary_pickle.write(pickle.dumps((loss,accuracy))) #dumping to pickle before writing to pickle file !\n",
        "    print(f'Accuracy Saved to {pickle_file}')\n",
        "\n",
        "get_accuracy(vgg19_path,test_images_datagen,vgg19_test)"
      ],
      "execution_count": null,
      "outputs": [
        {
          "output_type": "stream",
          "text": [
            "1/1 [==============================] - 3s 3s/step - loss: 0.1725 - accuracy: 0.9091\n",
            "Accuracy Saved to /content/drive/MyDrive/Binary Classifier Models /VGG 19/vgg19_acc.pickle\n"
          ],
          "name": "stdout"
        }
      ]
    }
  ]
}