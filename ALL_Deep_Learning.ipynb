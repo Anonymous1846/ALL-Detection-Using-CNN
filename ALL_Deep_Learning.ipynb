{
  "nbformat": 4,
  "nbformat_minor": 0,
  "metadata": {
    "accelerator": "GPU",
    "colab": {
      "name": "ALL_Deep_Learning.ipynb",
      "provenance": [],
      "collapsed_sections": [],
      "toc_visible": true,
      "include_colab_link": true
    },
    "kernelspec": {
      "display_name": "Python 3",
      "name": "python3"
    }
  },
  "cells": [
    {
      "cell_type": "markdown",
      "metadata": {
        "id": "view-in-github",
        "colab_type": "text"
      },
      "source": [
        "<a href=\"https://colab.research.google.com/github/Anonymous1846/ALL-Detection-Using-CNN/blob/master/ALL_Deep_Learning.ipynb\" target=\"_parent\"><img src=\"https://colab.research.google.com/assets/colab-badge.svg\" alt=\"Open In Colab\"/></a>"
      ]
    },
    {
      "cell_type": "markdown",
      "metadata": {
        "id": "bz8z3s6bmZ-L"
      },
      "source": [
        "# **Importing All The Necessary Dependancies.**"
      ]
    },
    {
      "cell_type": "code",
      "metadata": {
        "colab": {
          "base_uri": "https://localhost:8080/"
        },
        "id": "A7XLGtoAl0zO",
        "outputId": "dfb438b7-14a6-4722-a29b-a22eb15d2624"
      },
      "source": [
        "'''\n",
        "Importing all the necessary dependencies for the Binary Classification model !\n",
        "In the end we have verified the keras installtion, by printing out the keras version.\n",
        "\n",
        "keras/tensorflow - for developing and training the DL(CNN) model !\n",
        "os,random - for selection of the images from the directory !\n",
        "Each Model is stored in its respective directory along with its history file !\n",
        "'''\n",
        "from keras.layers import MaxPooling2D,Conv2D,Dropout,Dense,Flatten,BatchNormalization,MaxPool2D,AveragePooling2D #layers\n",
        "from keras.applications.imagenet_utils import decode_predictions  \n",
        "from keras.callbacks import ModelCheckpoint,EarlyStopping \n",
        "from keras.preprocessing.image import ImageDataGenerator \n",
        "from tensorflow.keras.optimizers import RMSprop,Adam                              # for checkpoint calculation and callback   \n",
        "from keras.applications import ResNet50\n",
        "from sklearn.metrics import roc_auc_score    \n",
        "from sklearn.metrics import roc_curve    \n",
        "from sklearn.metrics import auc \n",
        "from sklearn.metrics import confusion_matrix \n",
        "from sklearn.metrics import classification_report                                \n",
        "from keras.preprocessing import image\n",
        "from keras.applications import VGG19\n",
        "from keras.applications import VGG16\n",
        "from keras.models import Sequential\n",
        "import matplotlib.pyplot as plt                                                   # for plotting \n",
        "import tensorflow as tf\n",
        "from cv2 import imread\n",
        "import numpy as np\n",
        "import pickle                                                                    #for pickling the history dictionary !\n",
        "import keras\n",
        "import os \n",
        "\n",
        "# reading the image via  a path \n",
        "#causes an error if the keras installtion didn't went well !\n",
        "print(keras.__version__)"
      ],
      "execution_count": 5,
      "outputs": [
        {
          "output_type": "stream",
          "text": [
            "2.4.3\n"
          ],
          "name": "stdout"
        }
      ]
    },
    {
      "cell_type": "markdown",
      "metadata": {
        "id": "Q_JFZFFZFzII"
      },
      "source": [
        "# **Loading the Dataset(i.e Cancer cell images).**"
      ]
    },
    {
      "cell_type": "code",
      "metadata": {
        "colab": {
          "base_uri": "https://localhost:8080/"
        },
        "id": "fm-5FTeSxHP4",
        "outputId": "2db9709c-7df5-4b25-9f28-bf27c0d13c82"
      },
      "source": [
        "'''\n",
        "This is an optional block of code which can be executed if the \n",
        "google drive needs to be mounted on different account\n",
        "'''\n",
        "\n",
        "from google.colab import drive\n",
        "drive.mount('/content/drive',force_remount=False)"
      ],
      "execution_count": 1,
      "outputs": [
        {
          "output_type": "stream",
          "text": [
            "Mounted at /content/drive\n"
          ],
          "name": "stdout"
        }
      ]
    },
    {
      "cell_type": "code",
      "metadata": {
        "colab": {
          "base_uri": "https://localhost:8080/"
        },
        "id": "ZNvpvCN5TJqy",
        "outputId": "d03c783c-0c3c-434d-a061-8f685477f0f0"
      },
      "source": [
        "'''\n",
        "The Images required for the training, validation, and testing is found in the /Architecture Datasets directory !\n",
        "Architecture Datasets \n",
        "|\n",
        "|\n",
        "|\n",
        " ---- Training(80 %)\n",
        "      |\n",
        "      |\n",
        "      ----Normal \n",
        "      |\n",
        "      ----Blasts\n",
        "|\n",
        "|\n",
        "---- Validation (10 %)\n",
        "      |\n",
        "      |\n",
        "      ----Normal \n",
        "      |\n",
        "      ----Blasts\n",
        "|\n",
        "|\n",
        "---- Testing (10 %)\n",
        "      |\n",
        "      |\n",
        "      ----Normal \n",
        "      |\n",
        "      ----Blasts\n",
        "\n",
        "      The images/dataset is divided into 80% training, 10% testing and 10% validation\n",
        "'''\n",
        "training_data_path    = \"/content/drive/MyDrive/Architecture Datasets/Training\"\n",
        "validation_data_path  = \"/content/drive/MyDrive/Architecture Datasets/Validation\"\n",
        "testing_data_path     = \"/content/drive/MyDrive/Architecture Datasets/Testing\"\n",
        "\n",
        "print(f'The Training Images Path   :  {training_data_path}')\n",
        "print(f'The Validation Images Path :  {validation_data_path}')\n",
        "print(f'The Testing Images Path    :  {testing_data_path}')\n"
      ],
      "execution_count": null,
      "outputs": [
        {
          "output_type": "stream",
          "text": [
            "The Training Images Path   :  /content/drive/MyDrive/Architecture Datasets/Training\n",
            "The Validation Images Path :  /content/drive/MyDrive/Architecture Datasets/Validation\n",
            "The Testing Images Path    :  /content/drive/MyDrive/Architecture Datasets/Testing\n"
          ],
          "name": "stdout"
        }
      ]
    },
    {
      "cell_type": "markdown",
      "metadata": {
        "id": "9yT7JaUnVPpU"
      },
      "source": [
        "# **Image Preprocessing Custom**"
      ]
    },
    {
      "cell_type": "code",
      "metadata": {
        "id": "qPeiTL-oVTay"
      },
      "source": [
        "'''\n",
        "ALL-IDB1 and ALL IDB2 both contains roughly 334 images, but after spiltting of the images,\n",
        "the size becomes significantly low, and this leads significant amount of overfitting.\n",
        "So, inorder to solve the problem of overfitting, we have to apply data augmentation \n",
        "to increase the number of images, from the previous existing images !\n",
        "\n",
        "Note: This block of code should only be executed if and only if the model used is AlexNet or Custom !\n",
        "'''\n",
        "\n",
        "training_images_preprocessed = ImageDataGenerator(rescale=1./255,\n",
        "                                                  rotation_range=40,\n",
        "                                                  width_shift_range=0.2,\n",
        "                                                  height_shift_range=0.2,\n",
        "                                                  shear_range=0.2,\n",
        "                                                  zoom_range=0.2,\n",
        "                                                  horizontal_flip=True,\n",
        "                                                  vertical_flip=True,\n",
        "                                                  fill_mode='nearest')\n",
        "\n",
        "validate_images_preprocessed = ImageDataGenerator(rescale=1./255)"
      ],
      "execution_count": null,
      "outputs": []
    },
    {
      "cell_type": "markdown",
      "metadata": {
        "id": "70QLveVNCGv6"
      },
      "source": [
        "# **Preprocessing Via Pre-Process Function (For VGG Pre-Trained Models)**"
      ]
    },
    {
      "cell_type": "code",
      "metadata": {
        "id": "-GM0qi7fCFaB"
      },
      "source": [
        "'''\n",
        "Important Note : If you're running the custom model please run the above function only.\n",
        "This block is only applicable to Transfer Learning  VGG 19 !\n",
        "'''\n",
        "from keras.applications.vgg19 import preprocess_input \n",
        "training_images_preprocessed=ImageDataGenerator(preprocessing_function=preprocess_input)\n",
        "\n",
        "validate_images_preprocessed = ImageDataGenerator(preprocessing_function=preprocess_input)"
      ],
      "execution_count": null,
      "outputs": []
    },
    {
      "cell_type": "code",
      "metadata": {
        "id": "Ck7dwfIcoH87"
      },
      "source": [
        "'''\n",
        "Important Note : If you're running the custom model please run the above function only.\n",
        "This block is only applicable to Transfer Learning  VGG 16 !\n",
        "'''\n",
        "from keras.applications.vgg16 import preprocess_input \n",
        "training_images_preprocessed=ImageDataGenerator(preprocessing_function=preprocess_input)\n",
        "\n",
        "validate_images_preprocessed = ImageDataGenerator(preprocessing_function=preprocess_input)"
      ],
      "execution_count": null,
      "outputs": []
    },
    {
      "cell_type": "markdown",
      "metadata": {
        "id": "cVD91RrJ36PC"
      },
      "source": [
        "# **Process Input For ResNet50**"
      ]
    },
    {
      "cell_type": "code",
      "metadata": {
        "id": "DdO5HIKZ35wM"
      },
      "source": [
        "'''\n",
        "Important Note : If you're running the custom model please run the above function only.\n",
        "This block is only applicable to Transfer Learning  ResNet50 !\n",
        "'''\n",
        "from keras.applications.resnet50 import preprocess_input\n",
        "training_images_preprocessed=ImageDataGenerator(preprocessing_function=preprocess_input)\n",
        "\n",
        "validate_images_preprocessed = ImageDataGenerator(preprocessing_function=preprocess_input)"
      ],
      "execution_count": null,
      "outputs": []
    },
    {
      "cell_type": "markdown",
      "metadata": {
        "id": "FLAop9bDXLv9"
      },
      "source": [
        ""
      ]
    },
    {
      "cell_type": "markdown",
      "metadata": {
        "id": "xGPm_71JXPeC"
      },
      "source": [
        "# **Applying the Image Augmentation to Training and Validation Set !**"
      ]
    },
    {
      "cell_type": "code",
      "metadata": {
        "id": "3DCGcbxQ09wm"
      },
      "source": [
        "#the below dict is for the image diemension info only and is used for applying the augemntaion to other datasets !\n",
        "\n",
        "model_dict = {'AlexNet':(227,227),'Binary':(300,300),'VGG':(224,224),'ResNet':(224,224)}\n",
        "architecture='ResNet'             # actual flag for the image diemensions !"
      ],
      "execution_count": null,
      "outputs": []
    },
    {
      "cell_type": "code",
      "metadata": {
        "colab": {
          "base_uri": "https://localhost:8080/"
        },
        "id": "G9G6VPiSXVsR",
        "outputId": "53e31c6b-03fb-48e3-8078-6c732a4b5a61"
      },
      "source": [
        "'''\n",
        "The function augments the data, according to the processing mode.\n",
        "The processing mode has defined earlier seperately for training and validation set !\n",
        "\n",
        "params: training/validation directory,the processing mode(different for training and validation dataset), and flag for model !\n",
        "\n",
        "return: augmented data \n",
        "'''\n",
        "\n",
        "def apply_augmentation(data_directory,processing_mode,flag):\n",
        "  \n",
        "  data_gen = processing_mode.flow_from_directory(\n",
        "  data_directory,                               # the directory as provided to the function as an arguement !\n",
        "  target_size = model_dict[flag],               # 300x 300 pixels for custom,224 for VGG, and 227 for AlexNet \n",
        "  batch_size = 128,                             # Number of Images Excepted at Iteration !\n",
        "  class_mode='binary')\n",
        "  print(f'Image Shape : {model_dict[flag]}')\n",
        "  return data_gen\n",
        "\n",
        "\n",
        "training_images_datagen = apply_augmentation(training_data_path,            #path to training dir\n",
        "                                             training_images_preprocessed,  #mode of processing\n",
        "                                             architecture)                  #architecture\n",
        "\n",
        "valid_images_datagen = apply_augmentation(validation_data_path,             #validation dir\n",
        "                                          validate_images_preprocessed,\n",
        "                                          architecture)\n",
        "\n",
        "test_images_datagen = apply_augmentation(testing_data_path,                 #testing dir !\n",
        "                                         validate_images_preprocessed,\n",
        "                                         architecture)\n",
        "\n",
        "print(training_images_datagen.class_indices) # class indices refer to the numerical equivalent whether they are cancerours or not !\n"
      ],
      "execution_count": null,
      "outputs": [
        {
          "output_type": "stream",
          "text": [
            "Found 268 images belonging to 2 classes.\n",
            "Image Shape : (224, 224)\n",
            "Found 33 images belonging to 2 classes.\n",
            "Image Shape : (224, 224)\n",
            "Found 33 images belonging to 2 classes.\n",
            "Image Shape : (224, 224)\n",
            "{'Blasts': 0, 'Normal': 1}\n"
          ],
          "name": "stdout"
        }
      ]
    },
    {
      "cell_type": "markdown",
      "metadata": {
        "id": "lbC-FfxiDtCO"
      },
      "source": [
        "#**Using the mean pixel we have calculated the number of features !**"
      ]
    },
    {
      "cell_type": "code",
      "metadata": {
        "colab": {
          "base_uri": "https://localhost:8080/"
        },
        "id": "wtkmIsQNDssN",
        "outputId": "14669333-8288-4a27-d16f-35dbdef752f6"
      },
      "source": [
        "sample_image0=imread('/content/drive/MyDrive/Architecture Datasets/Training/Blasts/Im031_1.jpg')\n",
        "print(\"The diemensions of the cancer cell: {}\".format(sample_image0.shape))\n",
        "feature_matrix0 = np.zeros((sample_image0.shape[0], sample_image0.shape[1])) # for cancer cell\n",
        "\n",
        "'''\n",
        "The function will calculate the mean pixels values which are essential in understanding the number of possible \n",
        "values/ features in the image !\n",
        "\n",
        "params: fetaure matrix and image\n",
        "\n",
        "return: None\n",
        "'''\n",
        "def show_features(feature_matrix,img):\n",
        "  for i in range(1,img.shape[0]):\n",
        "    for j in range(1,img.shape[1]):\n",
        "        feature_matrix[i][j] = ((int(img[i,j,0]) + int(img[i,j,1]) + int(img[i,j,2]))/3) # mean for three channels !\n",
        "\n",
        "  features = np.reshape(feature_matrix, (img.shape[0]*img.shape[1])) \n",
        "  print(\"The mean pixels values for the cancer cells: {}\".format(features.shape[0]))\n",
        "\n",
        "show_features(feature_matrix0,sample_image0) # for cancer cell \n"
      ],
      "execution_count": null,
      "outputs": [
        {
          "output_type": "stream",
          "text": [
            "The diemensions of the cancer cell: (1368, 1712, 3)\n",
            "The mean pixels values for the cancer cells: 2342016\n"
          ],
          "name": "stdout"
        }
      ]
    },
    {
      "cell_type": "markdown",
      "metadata": {
        "id": "psRQ77sbYuqN"
      },
      "source": [
        "# **Representation of Images.**"
      ]
    },
    {
      "cell_type": "code",
      "metadata": {
        "colab": {
          "base_uri": "https://localhost:8080/",
          "height": 321
        },
        "id": "W3oV8CEwY6p8",
        "outputId": "59873cea-3891-4b73-8f83-e2b46fbfcbee"
      },
      "source": [
        "'''\n",
        "The function is used to plot the augmented figures of the images, for visual demonstartion !\n",
        "\n",
        "params: image object\n",
        "return: 5 plotted images\n",
        "'''\n",
        "def plot(image):\n",
        "  fig,axes=plt.subplots(1,5,figsize=(20,20))# 20 x 20 images \n",
        "  axes=axes.flatten()\n",
        "  for imag,axis in zip(image,axes):\n",
        "    #the zip function takes two params(iteratables and combines then to form a list of tuples !)\n",
        "    axis.imshow(imag)\n",
        "  plt.tight_layout()\n",
        "  plt.show()\n",
        "\n",
        "training_images_datagen.class_indices\n",
        "sample_images=[training_images_datagen[0][0][0] for i in range(5)]\n",
        "plot(sample_images)"
      ],
      "execution_count": null,
      "outputs": [
        {
          "output_type": "stream",
          "text": [
            "Clipping input data to the valid range for imshow with RGB data ([0..1] for floats or [0..255] for integers).\n",
            "Clipping input data to the valid range for imshow with RGB data ([0..1] for floats or [0..255] for integers).\n",
            "Clipping input data to the valid range for imshow with RGB data ([0..1] for floats or [0..255] for integers).\n",
            "Clipping input data to the valid range for imshow with RGB data ([0..1] for floats or [0..255] for integers).\n",
            "Clipping input data to the valid range for imshow with RGB data ([0..1] for floats or [0..255] for integers).\n"
          ],
          "name": "stderr"
        },
        {
          "output_type": "display_data",
          "data": {
            "image/png": "[encoded data removed]",
            "text/plain": [
              "<Figure size 1440x1440 with 5 Axes>"
            ]
          },
          "metadata": {
            "tags": [],
            "needs_background": "light"
          }
        }
      ]
    },
    {
      "cell_type": "markdown",
      "metadata": {
        "id": "6ExfBhm4YE0f"
      },
      "source": [
        "# **Binary CNN Classifier 0!**"
      ]
    },
    {
      "cell_type": "code",
      "metadata": {
        "colab": {
          "base_uri": "https://localhost:8080/"
        },
        "id": "66QFUFr1YNlW",
        "outputId": "9d8e818d-a12b-4224-e93a-487be2ad78a6"
      },
      "source": [
        "'''\n",
        "The CNN model is used to predict whether the given data image is cancerous or not,\n",
        "it contains 5 convolution and corresponding number of maxpooling layers.\n",
        "RelU function is added to each layer so that it can introduce non-linearity and \n",
        "avoid the negative values !\n",
        "'''\n",
        "the_binary_cnn_model0=Sequential([\n",
        "                                    Conv2D(16, (3,3), activation='relu', input_shape=(300, 300, 3)), # relu function is used to negate the negative values from the models, replace them with zeros !\n",
        "                                    MaxPooling2D(2, 2),\n",
        "                                    Conv2D(32, (3,3), activation='relu'),# The second convolution\n",
        "                                    MaxPooling2D(2,2),                                    \n",
        "                                    Conv2D(64, (3,3), activation='relu'),# The third convolution\n",
        "                                    MaxPooling2D(2,2),                                   \n",
        "                                    Conv2D(64, (3,3), activation='relu'), # The fourth convolution\n",
        "                                    MaxPooling2D(2,2),                                   \n",
        "                                    Conv2D(64, (3,3), activation='relu'), # The fifth convolution\n",
        "                                    MaxPooling2D(2,2),                                   \n",
        "                                    Flatten(),                            # Flatten the  results to feed into a DNN                                    \n",
        "                                    Dense(512, activation='relu'),        # 512 neuron hidden layer\n",
        "                                    # Only 1 output neuron. It will contain a value from 0-1 where 0 for 1 class ('normal') and 0 for the other 'cancer'\n",
        "                                    Dense(1, activation='sigmoid') # the output will be the range of -1 and 1(graph will be S shaped !)\n",
        "                                        ])\n",
        "\n",
        "the_binary_cnn_model0.summary()"
      ],
      "execution_count": null,
      "outputs": [
        {
          "output_type": "stream",
          "text": [
            "Model: \"sequential_4\"\n",
            "_________________________________________________________________\n",
            "Layer (type)                 Output Shape              Param #   \n",
            "=================================================================\n",
            "conv2d_20 (Conv2D)           (None, 298, 298, 16)      448       \n",
            "_________________________________________________________________\n",
            "max_pooling2d_20 (MaxPooling (None, 149, 149, 16)      0         \n",
            "_________________________________________________________________\n",
            "conv2d_21 (Conv2D)           (None, 147, 147, 32)      4640      \n",
            "_________________________________________________________________\n",
            "max_pooling2d_21 (MaxPooling (None, 73, 73, 32)        0         \n",
            "_________________________________________________________________\n",
            "conv2d_22 (Conv2D)           (None, 71, 71, 64)        18496     \n",
            "_________________________________________________________________\n",
            "max_pooling2d_22 (MaxPooling (None, 35, 35, 64)        0         \n",
            "_________________________________________________________________\n",
            "conv2d_23 (Conv2D)           (None, 33, 33, 64)        36928     \n",
            "_________________________________________________________________\n",
            "max_pooling2d_23 (MaxPooling (None, 16, 16, 64)        0         \n",
            "_________________________________________________________________\n",
            "conv2d_24 (Conv2D)           (None, 14, 14, 64)        36928     \n",
            "_________________________________________________________________\n",
            "max_pooling2d_24 (MaxPooling (None, 7, 7, 64)          0         \n",
            "_________________________________________________________________\n",
            "flatten_4 (Flatten)          (None, 3136)              0         \n",
            "_________________________________________________________________\n",
            "dense_8 (Dense)              (None, 512)               1606144   \n",
            "_________________________________________________________________\n",
            "dense_9 (Dense)              (None, 1)                 513       \n",
            "=================================================================\n",
            "Total params: 1,704,097\n",
            "Trainable params: 1,704,097\n",
            "Non-trainable params: 0\n",
            "_________________________________________________________________\n"
          ],
          "name": "stdout"
        }
      ]
    },
    {
      "cell_type": "markdown",
      "metadata": {
        "id": "sD7ModzzAYbr"
      },
      "source": [
        "# **Binary Classifier Based On AlexNet Architecture**"
      ]
    },
    {
      "cell_type": "code",
      "metadata": {
        "colab": {
          "base_uri": "https://localhost:8080/"
        },
        "id": "s6K8U_fjAYGC",
        "outputId": "055deeb2-e7b0-4787-acdf-397aa0ebd111"
      },
      "source": [
        "'''\n",
        "Implementation of the AlexNet architecture, which is an common architecture of the CNN model\n",
        "The AlexNet Alrchitecture has been modified since, the original one is capable of classifiying\n",
        "upto 1000 tensors, and requires more computational power !\n",
        "'''\n",
        "alexnet_model =Sequential([\n",
        "                    Conv2D(96, (11, 11), strides=(4,4), activation='relu', input_shape=(227, 227, 3)),\n",
        "                    BatchNormalization(),\n",
        "                    MaxPooling2D((3, 3),strides=(2,2)),\n",
        "                    Conv2D(256, (5, 5),padding='same', activation='relu'),                    \n",
        "                    MaxPooling2D((3, 3),strides=(2, 2)),\n",
        "                    Conv2D(384, (3, 3), padding='same',activation='relu'),\n",
        "                    Conv2D(384, (3, 3), padding='same',activation='relu'),\n",
        "                    Conv2D(256, (3, 3), padding='same',activation='relu'),\n",
        "                    MaxPooling2D((3, 3),strides=(2, 2)),\n",
        "                    Flatten(),\n",
        "                    Dense(4096, activation='relu'),# two sense layers with 4096 nuerons each                 \n",
        "                    Dropout(0.5),\n",
        "                    Dense(4096, activation='relu'),                \n",
        "                    Dropout(0.5),\n",
        "                    Dense(1, activation='sigmoid')# sigmoid used to binary other wise softmax will be used for probabilitic classification!\n",
        "                                                  #Padding calculation = input_size + 2 * padding_size-(filter_size-1)\n",
        "])\n",
        "print(alexnet_model.summary())"
      ],
      "execution_count": null,
      "outputs": [
        {
          "output_type": "stream",
          "text": [
            "Model: \"sequential_10\"\n",
            "_________________________________________________________________\n",
            "Layer (type)                 Output Shape              Param #   \n",
            "=================================================================\n",
            "conv2d_45 (Conv2D)           (None, 55, 55, 96)        34944     \n",
            "_________________________________________________________________\n",
            "batch_normalization_18 (Batc (None, 55, 55, 96)        384       \n",
            "_________________________________________________________________\n",
            "max_pooling2d_27 (MaxPooling (None, 27, 27, 96)        0         \n",
            "_________________________________________________________________\n",
            "conv2d_46 (Conv2D)           (None, 27, 27, 256)       614656    \n",
            "_________________________________________________________________\n",
            "max_pooling2d_28 (MaxPooling (None, 13, 13, 256)       0         \n",
            "_________________________________________________________________\n",
            "conv2d_47 (Conv2D)           (None, 13, 13, 384)       885120    \n",
            "_________________________________________________________________\n",
            "conv2d_48 (Conv2D)           (None, 13, 13, 384)       1327488   \n",
            "_________________________________________________________________\n",
            "conv2d_49 (Conv2D)           (None, 13, 13, 256)       884992    \n",
            "_________________________________________________________________\n",
            "max_pooling2d_29 (MaxPooling (None, 6, 6, 256)         0         \n",
            "_________________________________________________________________\n",
            "flatten_10 (Flatten)         (None, 9216)              0         \n",
            "_________________________________________________________________\n",
            "dense_29 (Dense)             (None, 4096)              37752832  \n",
            "_________________________________________________________________\n",
            "dropout_19 (Dropout)         (None, 4096)              0         \n",
            "_________________________________________________________________\n",
            "dense_30 (Dense)             (None, 4096)              16781312  \n",
            "_________________________________________________________________\n",
            "dropout_20 (Dropout)         (None, 4096)              0         \n",
            "_________________________________________________________________\n",
            "dense_31 (Dense)             (None, 1)                 4097      \n",
            "=================================================================\n",
            "Total params: 58,285,825\n",
            "Trainable params: 58,285,633\n",
            "Non-trainable params: 192\n",
            "_________________________________________________________________\n",
            "None\n"
          ],
          "name": "stdout"
        }
      ]
    },
    {
      "cell_type": "markdown",
      "metadata": {
        "id": "4V9Q4xfeGuBv"
      },
      "source": [
        "# **Binary Classifier Based On VGG 19**"
      ]
    },
    {
      "cell_type": "code",
      "metadata": {
        "colab": {
          "base_uri": "https://localhost:8080/"
        },
        "id": "nSEI99r4Gtzi",
        "outputId": "45616cb0-7647-4699-9f53-812ae24f5e43"
      },
      "source": [
        "'''\n",
        "The VGG 19 is a part of VGG CNN model, which has 138 million trainable params !\n",
        "The base layers of the model has been set to trainable while the top ones were untrained for \n",
        "fine tuning !\n",
        "'''\n",
        "\n",
        "vgg_net19 =  VGG19(\n",
        "              weights='imagenet',\n",
        "              include_top=False,\n",
        "              input_shape=(224, 224, 3)\n",
        "                    )\n",
        "\n",
        "trainable = False\n",
        "for layer in vgg_net19.layers:\n",
        "    if layer.name == 'block5_conv1':\n",
        "        trainable = True\n",
        "    if trainable:\n",
        "        layer.trainable = True\n",
        "    else:\n",
        "        layer.trainable = False\n",
        "        \n",
        "vggnet_19model = Sequential(\n",
        "                          [vgg_net19,\n",
        "                          Flatten(),\n",
        "                          Dropout(0.3),\n",
        "                          Dense(128,activation='relu'),\n",
        "                          Dense(1,activation='sigmoid')\n",
        "                          ])\n",
        "\n",
        "vggnet_19model.summary()"
      ],
      "execution_count": null,
      "outputs": [
        {
          "output_type": "stream",
          "text": [
            "False\n",
            "False\n",
            "False\n",
            "False\n",
            "False\n",
            "False\n",
            "False\n",
            "False\n",
            "False\n",
            "False\n",
            "False\n",
            "False\n",
            "False\n",
            "False\n",
            "False\n",
            "False\n",
            "False\n",
            "True\n",
            "True\n",
            "True\n",
            "True\n",
            "True\n",
            "Model: \"sequential_1\"\n",
            "_________________________________________________________________\n",
            "Layer (type)                 Output Shape              Param #   \n",
            "=================================================================\n",
            "vgg19 (Functional)           (None, 7, 7, 512)         20024384  \n",
            "_________________________________________________________________\n",
            "flatten_1 (Flatten)          (None, 25088)             0         \n",
            "_________________________________________________________________\n",
            "dropout_1 (Dropout)          (None, 25088)             0         \n",
            "_________________________________________________________________\n",
            "dense_2 (Dense)              (None, 128)               3211392   \n",
            "_________________________________________________________________\n",
            "dense_3 (Dense)              (None, 1)                 129       \n",
            "=================================================================\n",
            "Total params: 23,235,905\n",
            "Trainable params: 12,650,753\n",
            "Non-trainable params: 10,585,152\n",
            "_________________________________________________________________\n"
          ],
          "name": "stdout"
        }
      ]
    },
    {
      "cell_type": "markdown",
      "metadata": {
        "id": "uBDUE7k3bmsx"
      },
      "source": [
        "# **Binary Classifier Based On VGG 16**"
      ]
    },
    {
      "cell_type": "code",
      "metadata": {
        "colab": {
          "base_uri": "https://localhost:8080/"
        },
        "id": "gA2utGcI3CvX",
        "outputId": "48d54c66-8ab0-4f4c-c3c2-de121146a4f4"
      },
      "source": [
        "vgg_net16 =  VGG16(\n",
        "              weights='imagenet',\n",
        "              include_top=False,\n",
        "              input_shape=(224, 224, 3)\n",
        "                    )\n",
        "\n",
        "trainable = False\n",
        "for layer in vgg_net16.layers:\n",
        "    if layer.name == 'block5_conv1':\n",
        "        trainable = True\n",
        "    if trainable:\n",
        "        layer.trainable = True\n",
        "    else:\n",
        "        layer.trainable = False\n",
        "\n",
        "vggnet_16model = Sequential(\n",
        "                          [vgg_net16,\n",
        "                          Flatten(),\n",
        "                          Dropout(0.5),\n",
        "                          Dense(256,activation='relu'),\n",
        "                          Dense(1,activation='sigmoid')\n",
        "                          ])\n",
        "\n",
        "vggnet_16model.summary()"
      ],
      "execution_count": null,
      "outputs": [
        {
          "output_type": "stream",
          "text": [
            "Downloading data from https://storage.googleapis.com/tensorflow/keras-applications/vgg16/vgg16_weights_tf_dim_ordering_tf_kernels_notop.h5\n",
            "58892288/58889256 [==============================] - 0s 0us/step\n",
            "Model: \"sequential_1\"\n",
            "_________________________________________________________________\n",
            "Layer (type)                 Output Shape              Param #   \n",
            "=================================================================\n",
            "vgg16 (Functional)           (None, 7, 7, 512)         14714688  \n",
            "_________________________________________________________________\n",
            "flatten_1 (Flatten)          (None, 25088)             0         \n",
            "_________________________________________________________________\n",
            "dropout_1 (Dropout)          (None, 25088)             0         \n",
            "_________________________________________________________________\n",
            "dense_2 (Dense)              (None, 256)               6422784   \n",
            "_________________________________________________________________\n",
            "dense_3 (Dense)              (None, 1)                 257       \n",
            "=================================================================\n",
            "Total params: 21,137,729\n",
            "Trainable params: 13,502,465\n",
            "Non-trainable params: 7,635,264\n",
            "_________________________________________________________________\n"
          ],
          "name": "stdout"
        }
      ]
    },
    {
      "cell_type": "markdown",
      "metadata": {
        "id": "9DgfCoeE4fa9"
      },
      "source": [
        "# **Model Based On ResNet**"
      ]
    },
    {
      "cell_type": "code",
      "metadata": {
        "colab": {
          "base_uri": "https://localhost:8080/"
        },
        "id": "cT64MEEA4e3H",
        "outputId": "6254f3ba-9b6f-4b7e-86f7-3a52829a0c0e"
      },
      "source": [
        "'''\n",
        "The transfer learning mechanism applied to ResNet 50, which is a Residual network\n",
        "It has 22 million params !\n",
        "Last layers is set to trainable , from 165 onwards !\n",
        "'''\n",
        "\n",
        "resnet = ResNet50(\n",
        "    include_top=False,\n",
        "    weights=\"imagenet\",\n",
        "    \n",
        "    input_shape=(224,224,3),\n",
        ")\n",
        "for layer in resnet.layers[:165]:\n",
        "   layer.trainable = False\n",
        "for layer in resnet.layers[165:]:\n",
        "   layer.trainable = True\n",
        "resnet_model = Sequential(\n",
        "                          [resnet,                         \n",
        "                          Flatten(),\n",
        "                          Dropout(0.5),\n",
        "                          Dense(256,activation='relu'),\n",
        "                          Dropout(0.5),\n",
        "                          Dense(1,activation='sigmoid')\n",
        "                          ])\n",
        "resnet_model.summary()"
      ],
      "execution_count": null,
      "outputs": [
        {
          "output_type": "stream",
          "text": [
            "Model: \"sequential_6\"\n",
            "_________________________________________________________________\n",
            "Layer (type)                 Output Shape              Param #   \n",
            "=================================================================\n",
            "resnet50 (Functional)        (None, 7, 7, 2048)        23587712  \n",
            "_________________________________________________________________\n",
            "flatten_6 (Flatten)          (None, 100352)            0         \n",
            "_________________________________________________________________\n",
            "dropout_12 (Dropout)         (None, 100352)            0         \n",
            "_________________________________________________________________\n",
            "dense_12 (Dense)             (None, 256)               25690368  \n",
            "_________________________________________________________________\n",
            "dropout_13 (Dropout)         (None, 256)               0         \n",
            "_________________________________________________________________\n",
            "dense_13 (Dense)             (None, 1)                 257       \n",
            "=================================================================\n",
            "Total params: 49,278,337\n",
            "Trainable params: 30,156,289\n",
            "Non-trainable params: 19,122,048\n",
            "_________________________________________________________________\n"
          ],
          "name": "stdout"
        }
      ]
    },
    {
      "cell_type": "markdown",
      "metadata": {
        "id": "EVvlM0Zt59cN"
      },
      "source": [
        "# **Compile the model**"
      ]
    },
    {
      "cell_type": "code",
      "metadata": {
        "id": "w5dFUoZ46AMX"
      },
      "source": [
        "'''\n",
        "Compiling the model using the loss function binary crossentropy and RMSProp !\n",
        "\n",
        "return : None\n",
        "\n",
        "params : model object \n",
        "'''\n",
        "def compile_model(model):\n",
        "  model.compile(loss='binary_crossentropy',\n",
        "                optimizer=RMSprop(lr=1e-5), #optionally use the Adam with learning rate 0.001 - 1e-5\n",
        "                metrics=['accuracy'])\n",
        "compile_model(resnet_model)\n"
      ],
      "execution_count": null,
      "outputs": []
    },
    {
      "cell_type": "markdown",
      "metadata": {
        "id": "5i-9ZzE5qICk"
      },
      "source": [
        "# **Validation and CallBack Lists**"
      ]
    },
    {
      "cell_type": "code",
      "metadata": {
        "id": "lQQikA-3D72T"
      },
      "source": [
        "'''\n",
        "The below callback list is used to moniter the validation accuracy, and the save the best version of the\n",
        "CNN model. The paths has been specified for later use !\n",
        "\n",
        "The Classifier model and the history file are saved in the Binary Classifier Models directory, in the format:\n",
        "\n",
        "Model_Name_Directory\n",
        "                | \n",
        "                |\n",
        "                 ---- Model_File.h5\n",
        "                 ---- Model_History.pickle\n",
        "                 -----Model_Test_Acc.pickle\n",
        "'''\n",
        "\n",
        "model_path    = '/content/drive/MyDrive/Binary Classifier Models /Binary Classifier Model 0/Binary_Classifier_Model.h5'\n",
        "alexnet_path  = '/content/drive/MyDrive/Binary Classifier Models /AlexNet Classifier/AlexNet_Classifier.h5'\n",
        "vgg19_path    = '/content/drive/MyDrive/Binary Classifier Models /VGG 19/VGG_19v1.h5' \n",
        "vgg16_path    = '/content/drive/MyDrive/Binary Classifier Models /VGG 16/VGG_16.h5'\n",
        "resnet_path   = '/content/drive/MyDrive/Binary Classifier Models /ResNet/ResNet.h5'"
      ],
      "execution_count": null,
      "outputs": []
    },
    {
      "cell_type": "code",
      "metadata": {
        "id": "PgWlesAC4SI7"
      },
      "source": [
        "'''\n",
        "Early stopping is a mechanism, which allows to moniter a value, specially the val_loss, and stop the \n",
        "training, at a particular patience level, to avoid overfitting !\n",
        "'''\n",
        "\n",
        "early_call_back = EarlyStopping(monitor=\"val_loss\",patience=4,verbose=1,mode=\"auto\",restore_best_weights=True)"
      ],
      "execution_count": null,
      "outputs": []
    },
    {
      "cell_type": "code",
      "metadata": {
        "id": "kR2Rgy-AQvml"
      },
      "source": [
        "callback_checkpoint=ModelCheckpoint(resnet_path,monitor='val_accuracy',verbose=1,save_best_only=True,mode='max')\n",
        "callback_checkpoint_list=[callback_checkpoint,early_call_back]#can remove the early stopping if needed !"
      ],
      "execution_count": null,
      "outputs": []
    },
    {
      "cell_type": "markdown",
      "metadata": {
        "id": "UovyYQST6aey"
      },
      "source": [
        "# **Training the datset based on given model !**"
      ]
    },
    {
      "cell_type": "code",
      "metadata": {
        "id": "IASzW7LI6e7N"
      },
      "source": [
        "'''\n",
        "The below function takes in an arguement, which is the model to be trained and it trains the dataset with the specified model\n",
        "epochs:100\n",
        "\n",
        "Params: model object\n",
        "\n",
        "Return the trained object\n",
        "'''\n",
        "\n",
        "def train_the_model(model):\n",
        "  the_final_train = model.fit(\n",
        "                      training_images_datagen,\n",
        "                      callbacks       = callback_checkpoint_list,\n",
        "                      validation_data = valid_images_datagen,\n",
        "                      steps_per_epoch = 3, #the steps per epoch is set to 2, but cannot be set to more than 3(because of error !) \n",
        "                      epochs          = 30,#100 for regular !\n",
        "                      verbose         = 2,\n",
        "                    )\n",
        "  return the_final_train\n",
        "\n",
        "\n",
        "trained_model=train_the_model(resnet_model)"
      ],
      "execution_count": null,
      "outputs": []
    },
    {
      "cell_type": "markdown",
      "metadata": {
        "id": "SnfCsHlkHZzZ"
      },
      "source": [
        "# **Saving History Pickle File !**"
      ]
    },
    {
      "cell_type": "code",
      "metadata": {
        "id": "uevOvCWNHZex"
      },
      "source": [
        "binary_class_pickle  = '/content/drive/MyDrive/Binary Classifier Models /Binary Classifier Model 0/BinaryClass.pickle'\n",
        "alexnet_pickle       = '/content/drive/MyDrive/Binary Classifier Models /AlexNet Classifier/AlexNet.pickle' \n",
        "vgg19_pickle         = '/content/drive/MyDrive/Binary Classifier Models /VGG 19/VGG19v1.pickle'\n",
        "vgg16_pickle         = '/content/drive/MyDrive/Binary Classifier Models /VGG 16/VGG16.pickle'\n",
        "resnet_pickle        = '/content/drive/MyDrive/Binary Classifier Models /ResNet/ResNet.pickle'"
      ],
      "execution_count": 3,
      "outputs": []
    },
    {
      "cell_type": "code",
      "metadata": {
        "colab": {
          "base_uri": "https://localhost:8080/"
        },
        "id": "aGvDV7DyW4Ls",
        "outputId": "44e2a201-540a-4a7a-882f-16a017bbec4c"
      },
      "source": [
        "'''\n",
        "The model cannot path cannot be directly used to retrieve the history thats\n",
        "why we are saving the respective model history to a pickle file \n",
        "\n",
        "return : None\n",
        "\n",
        "params : model_history and path of pickle file \n",
        "'''\n",
        "\n",
        "def save_file(pickle_dir,model_history):\n",
        "  with open(pickle_dir,'wb') as binary_pickle:\n",
        "    binary_pickle.write(pickle.dumps(model_history)) #dumping to pickle before writing to pickle file !\n",
        "    print(f'History Saved to {pickle_dir}')\n",
        "\n",
        "save_file(resnet_pickle,trained_model.history) #the path of the model history pickle and the current model history !"
      ],
      "execution_count": null,
      "outputs": [
        {
          "output_type": "stream",
          "text": [
            "History Saved to /content/drive/MyDrive/Binary Classifier Models /ResNet/ResNetv1.pickle\n"
          ],
          "name": "stdout"
        }
      ]
    },
    {
      "cell_type": "markdown",
      "metadata": {
        "id": "AKqlawEa-J0E"
      },
      "source": [
        "# **Accuracy and Loss Graph !**"
      ]
    },
    {
      "cell_type": "code",
      "metadata": {
        "colab": {
          "base_uri": "https://localhost:8080/",
          "height": 606
        },
        "id": "_8dEYa0P-JQY",
        "outputId": "e7b8fdfe-17d0-4592-e084-2e5aa2099196"
      },
      "source": [
        "'''\n",
        "The accuracy and the losses at each iteration/epoch is evaluated in the graph below\n",
        "matplotlib is used for plotting.\n",
        "\n",
        "return:None\n",
        "\n",
        "params:model history path\n",
        "'''\n",
        "def plot_metrics(acc_path):\n",
        "  with open(acc_path,'rb') as model_history: #opening the pickle file which contains the dictionary !\n",
        "    model=model_history.read()\n",
        "  model=pickle.loads(model)\n",
        "  plt.plot(model['accuracy'])\n",
        "  plt.plot(model['val_accuracy'])\n",
        "  plt.title('model_accuracy')\n",
        "  plt.ylabel('accuracy')\n",
        "  plt.xlabel('epoch')\n",
        "  plt.legend(['train','test'],loc='lower left')\n",
        "  plt.show()\n",
        "\n",
        "  plt.plot(model['loss'])\n",
        "  plt.plot(model['val_loss'])\n",
        "  plt.title('model_loss')\n",
        "  plt.ylabel('loss')\n",
        "  plt.xlabel('epoch')\n",
        "  plt.legend(['train','val loss'],loc='lower left')\n",
        "  plt.show()\n",
        "  train_acc = pickle.loads(model_history_dict)['accuracy'][-1]*100\n",
        "  val_acc   = pickle.loads(model_history_dict)['val_accuracy'][-1]*100\n",
        "  print(f'Training Accuracy : {round(train_acc,2)} %')\n",
        "  print(f'Validation Accuracy : {round(val_acc,2)} %')\n",
        "\n",
        "plot_metrics(vgg16_pickle)\n"
      ],
      "execution_count": 17,
      "outputs": [
        {
          "output_type": "display_data",
          "data": {
            "image/png": "[encoded data removed]",
            "text/plain": [
              "<Figure size 432x288 with 1 Axes>"
            ]
          },
          "metadata": {
            "tags": [],
            "needs_background": "light"
          }
        },
        {
          "output_type": "display_data",
          "data": {
            "image/png": "[encoded data removed]",
            "text/plain": [
              "<Figure size 432x288 with 1 Axes>"
            ]
          },
          "metadata": {
            "tags": [],
            "needs_background": "light"
          }
        },
        {
          "output_type": "stream",
          "text": [
            "Training Accuracy : 96.64 %\n",
            "Validation Accuracy : 90.91 %\n"
          ],
          "name": "stdout"
        }
      ]
    },
    {
      "cell_type": "markdown",
      "metadata": {
        "id": "bPMoOHtuXxV0"
      },
      "source": [
        "# **ROC Curve Graph and Model Analytics**"
      ]
    },
    {
      "cell_type": "code",
      "metadata": {
        "id": "xV5hYKsAXxC4",
        "colab": {
          "base_uri": "https://localhost:8080/"
        },
        "outputId": "b27809b4-f75b-41d3-9363-b3b26e5d2e83"
      },
      "source": [
        "blasts = testing_data_path+'/Blasts'\n",
        "normal = testing_data_path+'/Normal'\n",
        "test_blasts = [ os.path.join(blasts,i) for i in os.listdir(blasts)]\n",
        "test_normal = [ os.path.join(normal,i) for i in os.listdir(normal)]\n",
        "tests = test_blasts+test_normal\n",
        "print(f'{len(tests)} Test Images Found !')"
      ],
      "execution_count": null,
      "outputs": [
        {
          "output_type": "stream",
          "text": [
            "33 Test Images Found !\n"
          ],
          "name": "stdout"
        }
      ]
    },
    {
      "cell_type": "code",
      "metadata": {
        "id": "6jaER7Xn5u0F"
      },
      "source": [
        "def get_preds(model,image_path):\n",
        "  size = (224,224)      #default set to 224 x 224 for simplicity !\n",
        "  if model == 'AlexNet':\n",
        "    model,size = alexnet_path,model_dict['AlexNet']\n",
        "  elif model == 'Binary':\n",
        "    model,size = model_path,model_dict['Binary']\n",
        "  elif model == 'VGG 16':\n",
        "    model    = vgg16_path\n",
        "  elif model == 'VGG 19':\n",
        "    model = vgg19_path\n",
        "  elif model == 'ResNet':\n",
        "    model = resnet_path\n",
        "  else:\n",
        "    raise Exception('Invalid Model Arguments !')             #exception thrown for invalid path !\n",
        "\n",
        "  model = keras.models.load_model(model)                     #loading the model.h5 from the drive !\n",
        "  img   = image.load_img(image_path, target_size=size)       # loading the image in 300x300 diemensions(227x227x3 for AlexNet)\n",
        "  img   = image.img_to_array(img)\n",
        "  img   = np.expand_dims(img, axis=0)                        #expanding along one axis \n",
        "  result_vector = model.predict(img).round(1)\n",
        "  return result_vector[0]"
      ],
      "execution_count": null,
      "outputs": []
    },
    {
      "cell_type": "code",
      "metadata": {
        "colab": {
          "base_uri": "https://localhost:8080/"
        },
        "id": "_ikNBk-S6iFL",
        "outputId": "2f85f7eb-3224-4d4c-a89f-4a7ff4bb94ff"
      },
      "source": [
        "y_preds = [get_preds('ResNet',x) for x in tests]\n",
        "y_true = test_images_datagen.classes\n",
        "class_labels = list(test_images_datagen.class_indices.keys())"
      ],
      "execution_count": null,
      "outputs": [
        {
          "output_type": "stream",
          "text": [
            "WARNING:tensorflow:11 out of the last 11 calls to <function Model.make_predict_function.<locals>.predict_function at 0x7fc5165df440> triggered tf.function retracing. Tracing is expensive and the excessive number of tracings could be due to (1) creating @tf.function repeatedly in a loop, (2) passing tensors with different shapes, (3) passing Python objects instead of tensors. For (1), please define your @tf.function outside of the loop. For (2), @tf.function has experimental_relax_shapes=True option that relaxes argument shapes that can avoid unnecessary retracing. For (3), please refer to https://www.tensorflow.org/guide/function#controlling_retracing and https://www.tensorflow.org/api_docs/python/tf/function for  more details.\n",
            "WARNING:tensorflow:11 out of the last 11 calls to <function Model.make_predict_function.<locals>.predict_function at 0x7fc5603317a0> triggered tf.function retracing. Tracing is expensive and the excessive number of tracings could be due to (1) creating @tf.function repeatedly in a loop, (2) passing tensors with different shapes, (3) passing Python objects instead of tensors. For (1), please define your @tf.function outside of the loop. For (2), @tf.function has experimental_relax_shapes=True option that relaxes argument shapes that can avoid unnecessary retracing. For (3), please refer to https://www.tensorflow.org/guide/function#controlling_retracing and https://www.tensorflow.org/api_docs/python/tf/function for  more details.\n",
            "WARNING:tensorflow:11 out of the last 11 calls to <function Model.make_predict_function.<locals>.predict_function at 0x7fc5178bf440> triggered tf.function retracing. Tracing is expensive and the excessive number of tracings could be due to (1) creating @tf.function repeatedly in a loop, (2) passing tensors with different shapes, (3) passing Python objects instead of tensors. For (1), please define your @tf.function outside of the loop. For (2), @tf.function has experimental_relax_shapes=True option that relaxes argument shapes that can avoid unnecessary retracing. For (3), please refer to https://www.tensorflow.org/guide/function#controlling_retracing and https://www.tensorflow.org/api_docs/python/tf/function for  more details.\n",
            "WARNING:tensorflow:11 out of the last 11 calls to <function Model.make_predict_function.<locals>.predict_function at 0x7fc560110cb0> triggered tf.function retracing. Tracing is expensive and the excessive number of tracings could be due to (1) creating @tf.function repeatedly in a loop, (2) passing tensors with different shapes, (3) passing Python objects instead of tensors. For (1), please define your @tf.function outside of the loop. For (2), @tf.function has experimental_relax_shapes=True option that relaxes argument shapes that can avoid unnecessary retracing. For (3), please refer to https://www.tensorflow.org/guide/function#controlling_retracing and https://www.tensorflow.org/api_docs/python/tf/function for  more details.\n",
            "WARNING:tensorflow:11 out of the last 11 calls to <function Model.make_predict_function.<locals>.predict_function at 0x7fc51e0d18c0> triggered tf.function retracing. Tracing is expensive and the excessive number of tracings could be due to (1) creating @tf.function repeatedly in a loop, (2) passing tensors with different shapes, (3) passing Python objects instead of tensors. For (1), please define your @tf.function outside of the loop. For (2), @tf.function has experimental_relax_shapes=True option that relaxes argument shapes that can avoid unnecessary retracing. For (3), please refer to https://www.tensorflow.org/guide/function#controlling_retracing and https://www.tensorflow.org/api_docs/python/tf/function for  more details.\n",
            "WARNING:tensorflow:11 out of the last 11 calls to <function Model.make_predict_function.<locals>.predict_function at 0x7fc51e159680> triggered tf.function retracing. Tracing is expensive and the excessive number of tracings could be due to (1) creating @tf.function repeatedly in a loop, (2) passing tensors with different shapes, (3) passing Python objects instead of tensors. For (1), please define your @tf.function outside of the loop. For (2), @tf.function has experimental_relax_shapes=True option that relaxes argument shapes that can avoid unnecessary retracing. For (3), please refer to https://www.tensorflow.org/guide/function#controlling_retracing and https://www.tensorflow.org/api_docs/python/tf/function for  more details.\n",
            "WARNING:tensorflow:11 out of the last 11 calls to <function Model.make_predict_function.<locals>.predict_function at 0x7fc560331560> triggered tf.function retracing. Tracing is expensive and the excessive number of tracings could be due to (1) creating @tf.function repeatedly in a loop, (2) passing tensors with different shapes, (3) passing Python objects instead of tensors. For (1), please define your @tf.function outside of the loop. For (2), @tf.function has experimental_relax_shapes=True option that relaxes argument shapes that can avoid unnecessary retracing. For (3), please refer to https://www.tensorflow.org/guide/function#controlling_retracing and https://www.tensorflow.org/api_docs/python/tf/function for  more details.\n",
            "WARNING:tensorflow:11 out of the last 11 calls to <function Model.make_predict_function.<locals>.predict_function at 0x7fc5166a4b00> triggered tf.function retracing. Tracing is expensive and the excessive number of tracings could be due to (1) creating @tf.function repeatedly in a loop, (2) passing tensors with different shapes, (3) passing Python objects instead of tensors. For (1), please define your @tf.function outside of the loop. For (2), @tf.function has experimental_relax_shapes=True option that relaxes argument shapes that can avoid unnecessary retracing. For (3), please refer to https://www.tensorflow.org/guide/function#controlling_retracing and https://www.tensorflow.org/api_docs/python/tf/function for  more details.\n",
            "WARNING:tensorflow:11 out of the last 11 calls to <function Model.make_predict_function.<locals>.predict_function at 0x7fc51e1d5290> triggered tf.function retracing. Tracing is expensive and the excessive number of tracings could be due to (1) creating @tf.function repeatedly in a loop, (2) passing tensors with different shapes, (3) passing Python objects instead of tensors. For (1), please define your @tf.function outside of the loop. For (2), @tf.function has experimental_relax_shapes=True option that relaxes argument shapes that can avoid unnecessary retracing. For (3), please refer to https://www.tensorflow.org/guide/function#controlling_retracing and https://www.tensorflow.org/api_docs/python/tf/function for  more details.\n",
            "WARNING:tensorflow:11 out of the last 11 calls to <function Model.make_predict_function.<locals>.predict_function at 0x7fc5600c4830> triggered tf.function retracing. Tracing is expensive and the excessive number of tracings could be due to (1) creating @tf.function repeatedly in a loop, (2) passing tensors with different shapes, (3) passing Python objects instead of tensors. For (1), please define your @tf.function outside of the loop. For (2), @tf.function has experimental_relax_shapes=True option that relaxes argument shapes that can avoid unnecessary retracing. For (3), please refer to https://www.tensorflow.org/guide/function#controlling_retracing and https://www.tensorflow.org/api_docs/python/tf/function for  more details.\n",
            "WARNING:tensorflow:11 out of the last 11 calls to <function Model.make_predict_function.<locals>.predict_function at 0x7fc5600c4050> triggered tf.function retracing. Tracing is expensive and the excessive number of tracings could be due to (1) creating @tf.function repeatedly in a loop, (2) passing tensors with different shapes, (3) passing Python objects instead of tensors. For (1), please define your @tf.function outside of the loop. For (2), @tf.function has experimental_relax_shapes=True option that relaxes argument shapes that can avoid unnecessary retracing. For (3), please refer to https://www.tensorflow.org/guide/function#controlling_retracing and https://www.tensorflow.org/api_docs/python/tf/function for  more details.\n",
            "WARNING:tensorflow:11 out of the last 11 calls to <function Model.make_predict_function.<locals>.predict_function at 0x7fc56b5018c0> triggered tf.function retracing. Tracing is expensive and the excessive number of tracings could be due to (1) creating @tf.function repeatedly in a loop, (2) passing tensors with different shapes, (3) passing Python objects instead of tensors. For (1), please define your @tf.function outside of the loop. For (2), @tf.function has experimental_relax_shapes=True option that relaxes argument shapes that can avoid unnecessary retracing. For (3), please refer to https://www.tensorflow.org/guide/function#controlling_retracing and https://www.tensorflow.org/api_docs/python/tf/function for  more details.\n",
            "WARNING:tensorflow:11 out of the last 11 calls to <function Model.make_predict_function.<locals>.predict_function at 0x7fc56b501830> triggered tf.function retracing. Tracing is expensive and the excessive number of tracings could be due to (1) creating @tf.function repeatedly in a loop, (2) passing tensors with different shapes, (3) passing Python objects instead of tensors. For (1), please define your @tf.function outside of the loop. For (2), @tf.function has experimental_relax_shapes=True option that relaxes argument shapes that can avoid unnecessary retracing. For (3), please refer to https://www.tensorflow.org/guide/function#controlling_retracing and https://www.tensorflow.org/api_docs/python/tf/function for  more details.\n",
            "WARNING:tensorflow:11 out of the last 11 calls to <function Model.make_predict_function.<locals>.predict_function at 0x7fc560110e60> triggered tf.function retracing. Tracing is expensive and the excessive number of tracings could be due to (1) creating @tf.function repeatedly in a loop, (2) passing tensors with different shapes, (3) passing Python objects instead of tensors. For (1), please define your @tf.function outside of the loop. For (2), @tf.function has experimental_relax_shapes=True option that relaxes argument shapes that can avoid unnecessary retracing. For (3), please refer to https://www.tensorflow.org/guide/function#controlling_retracing and https://www.tensorflow.org/api_docs/python/tf/function for  more details.\n",
            "WARNING:tensorflow:11 out of the last 11 calls to <function Model.make_predict_function.<locals>.predict_function at 0x7fc5600c4680> triggered tf.function retracing. Tracing is expensive and the excessive number of tracings could be due to (1) creating @tf.function repeatedly in a loop, (2) passing tensors with different shapes, (3) passing Python objects instead of tensors. For (1), please define your @tf.function outside of the loop. For (2), @tf.function has experimental_relax_shapes=True option that relaxes argument shapes that can avoid unnecessary retracing. For (3), please refer to https://www.tensorflow.org/guide/function#controlling_retracing and https://www.tensorflow.org/api_docs/python/tf/function for  more details.\n",
            "WARNING:tensorflow:11 out of the last 11 calls to <function Model.make_predict_function.<locals>.predict_function at 0x7fc5175ef5f0> triggered tf.function retracing. Tracing is expensive and the excessive number of tracings could be due to (1) creating @tf.function repeatedly in a loop, (2) passing tensors with different shapes, (3) passing Python objects instead of tensors. For (1), please define your @tf.function outside of the loop. For (2), @tf.function has experimental_relax_shapes=True option that relaxes argument shapes that can avoid unnecessary retracing. For (3), please refer to https://www.tensorflow.org/guide/function#controlling_retracing and https://www.tensorflow.org/api_docs/python/tf/function for  more details.\n",
            "WARNING:tensorflow:11 out of the last 11 calls to <function Model.make_predict_function.<locals>.predict_function at 0x7fc5601ed050> triggered tf.function retracing. Tracing is expensive and the excessive number of tracings could be due to (1) creating @tf.function repeatedly in a loop, (2) passing tensors with different shapes, (3) passing Python objects instead of tensors. For (1), please define your @tf.function outside of the loop. For (2), @tf.function has experimental_relax_shapes=True option that relaxes argument shapes that can avoid unnecessary retracing. For (3), please refer to https://www.tensorflow.org/guide/function#controlling_retracing and https://www.tensorflow.org/api_docs/python/tf/function for  more details.\n",
            "WARNING:tensorflow:11 out of the last 11 calls to <function Model.make_predict_function.<locals>.predict_function at 0x7fc560098050> triggered tf.function retracing. Tracing is expensive and the excessive number of tracings could be due to (1) creating @tf.function repeatedly in a loop, (2) passing tensors with different shapes, (3) passing Python objects instead of tensors. For (1), please define your @tf.function outside of the loop. For (2), @tf.function has experimental_relax_shapes=True option that relaxes argument shapes that can avoid unnecessary retracing. For (3), please refer to https://www.tensorflow.org/guide/function#controlling_retracing and https://www.tensorflow.org/api_docs/python/tf/function for  more details.\n",
            "WARNING:tensorflow:11 out of the last 11 calls to <function Model.make_predict_function.<locals>.predict_function at 0x7fc5601ff050> triggered tf.function retracing. Tracing is expensive and the excessive number of tracings could be due to (1) creating @tf.function repeatedly in a loop, (2) passing tensors with different shapes, (3) passing Python objects instead of tensors. For (1), please define your @tf.function outside of the loop. For (2), @tf.function has experimental_relax_shapes=True option that relaxes argument shapes that can avoid unnecessary retracing. For (3), please refer to https://www.tensorflow.org/guide/function#controlling_retracing and https://www.tensorflow.org/api_docs/python/tf/function for  more details.\n",
            "WARNING:tensorflow:11 out of the last 11 calls to <function Model.make_predict_function.<locals>.predict_function at 0x7fc51671fc20> triggered tf.function retracing. Tracing is expensive and the excessive number of tracings could be due to (1) creating @tf.function repeatedly in a loop, (2) passing tensors with different shapes, (3) passing Python objects instead of tensors. For (1), please define your @tf.function outside of the loop. For (2), @tf.function has experimental_relax_shapes=True option that relaxes argument shapes that can avoid unnecessary retracing. For (3), please refer to https://www.tensorflow.org/guide/function#controlling_retracing and https://www.tensorflow.org/api_docs/python/tf/function for  more details.\n",
            "WARNING:tensorflow:11 out of the last 11 calls to <function Model.make_predict_function.<locals>.predict_function at 0x7fc5167b1170> triggered tf.function retracing. Tracing is expensive and the excessive number of tracings could be due to (1) creating @tf.function repeatedly in a loop, (2) passing tensors with different shapes, (3) passing Python objects instead of tensors. For (1), please define your @tf.function outside of the loop. For (2), @tf.function has experimental_relax_shapes=True option that relaxes argument shapes that can avoid unnecessary retracing. For (3), please refer to https://www.tensorflow.org/guide/function#controlling_retracing and https://www.tensorflow.org/api_docs/python/tf/function for  more details.\n",
            "WARNING:tensorflow:11 out of the last 11 calls to <function Model.make_predict_function.<locals>.predict_function at 0x7fc56b28af80> triggered tf.function retracing. Tracing is expensive and the excessive number of tracings could be due to (1) creating @tf.function repeatedly in a loop, (2) passing tensors with different shapes, (3) passing Python objects instead of tensors. For (1), please define your @tf.function outside of the loop. For (2), @tf.function has experimental_relax_shapes=True option that relaxes argument shapes that can avoid unnecessary retracing. For (3), please refer to https://www.tensorflow.org/guide/function#controlling_retracing and https://www.tensorflow.org/api_docs/python/tf/function for  more details.\n",
            "WARNING:tensorflow:11 out of the last 11 calls to <function Model.make_predict_function.<locals>.predict_function at 0x7fc560252170> triggered tf.function retracing. Tracing is expensive and the excessive number of tracings could be due to (1) creating @tf.function repeatedly in a loop, (2) passing tensors with different shapes, (3) passing Python objects instead of tensors. For (1), please define your @tf.function outside of the loop. For (2), @tf.function has experimental_relax_shapes=True option that relaxes argument shapes that can avoid unnecessary retracing. For (3), please refer to https://www.tensorflow.org/guide/function#controlling_retracing and https://www.tensorflow.org/api_docs/python/tf/function for  more details.\n",
            "WARNING:tensorflow:11 out of the last 11 calls to <function Model.make_predict_function.<locals>.predict_function at 0x7fc5602528c0> triggered tf.function retracing. Tracing is expensive and the excessive number of tracings could be due to (1) creating @tf.function repeatedly in a loop, (2) passing tensors with different shapes, (3) passing Python objects instead of tensors. For (1), please define your @tf.function outside of the loop. For (2), @tf.function has experimental_relax_shapes=True option that relaxes argument shapes that can avoid unnecessary retracing. For (3), please refer to https://www.tensorflow.org/guide/function#controlling_retracing and https://www.tensorflow.org/api_docs/python/tf/function for  more details.\n",
            "WARNING:tensorflow:11 out of the last 11 calls to <function Model.make_predict_function.<locals>.predict_function at 0x7fc51e159cb0> triggered tf.function retracing. Tracing is expensive and the excessive number of tracings could be due to (1) creating @tf.function repeatedly in a loop, (2) passing tensors with different shapes, (3) passing Python objects instead of tensors. For (1), please define your @tf.function outside of the loop. For (2), @tf.function has experimental_relax_shapes=True option that relaxes argument shapes that can avoid unnecessary retracing. For (3), please refer to https://www.tensorflow.org/guide/function#controlling_retracing and https://www.tensorflow.org/api_docs/python/tf/function for  more details.\n",
            "WARNING:tensorflow:11 out of the last 11 calls to <function Model.make_predict_function.<locals>.predict_function at 0x7fc5601ed170> triggered tf.function retracing. Tracing is expensive and the excessive number of tracings could be due to (1) creating @tf.function repeatedly in a loop, (2) passing tensors with different shapes, (3) passing Python objects instead of tensors. For (1), please define your @tf.function outside of the loop. For (2), @tf.function has experimental_relax_shapes=True option that relaxes argument shapes that can avoid unnecessary retracing. For (3), please refer to https://www.tensorflow.org/guide/function#controlling_retracing and https://www.tensorflow.org/api_docs/python/tf/function for  more details.\n",
            "WARNING:tensorflow:11 out of the last 11 calls to <function Model.make_predict_function.<locals>.predict_function at 0x7fc5165dfd40> triggered tf.function retracing. Tracing is expensive and the excessive number of tracings could be due to (1) creating @tf.function repeatedly in a loop, (2) passing tensors with different shapes, (3) passing Python objects instead of tensors. For (1), please define your @tf.function outside of the loop. For (2), @tf.function has experimental_relax_shapes=True option that relaxes argument shapes that can avoid unnecessary retracing. For (3), please refer to https://www.tensorflow.org/guide/function#controlling_retracing and https://www.tensorflow.org/api_docs/python/tf/function for  more details.\n",
            "WARNING:tensorflow:11 out of the last 11 calls to <function Model.make_predict_function.<locals>.predict_function at 0x7fc560110ef0> triggered tf.function retracing. Tracing is expensive and the excessive number of tracings could be due to (1) creating @tf.function repeatedly in a loop, (2) passing tensors with different shapes, (3) passing Python objects instead of tensors. For (1), please define your @tf.function outside of the loop. For (2), @tf.function has experimental_relax_shapes=True option that relaxes argument shapes that can avoid unnecessary retracing. For (3), please refer to https://www.tensorflow.org/guide/function#controlling_retracing and https://www.tensorflow.org/api_docs/python/tf/function for  more details.\n",
            "WARNING:tensorflow:11 out of the last 11 calls to <function Model.make_predict_function.<locals>.predict_function at 0x7fc516782b00> triggered tf.function retracing. Tracing is expensive and the excessive number of tracings could be due to (1) creating @tf.function repeatedly in a loop, (2) passing tensors with different shapes, (3) passing Python objects instead of tensors. For (1), please define your @tf.function outside of the loop. For (2), @tf.function has experimental_relax_shapes=True option that relaxes argument shapes that can avoid unnecessary retracing. For (3), please refer to https://www.tensorflow.org/guide/function#controlling_retracing and https://www.tensorflow.org/api_docs/python/tf/function for  more details.\n",
            "WARNING:tensorflow:11 out of the last 11 calls to <function Model.make_predict_function.<locals>.predict_function at 0x7fc5601eda70> triggered tf.function retracing. Tracing is expensive and the excessive number of tracings could be due to (1) creating @tf.function repeatedly in a loop, (2) passing tensors with different shapes, (3) passing Python objects instead of tensors. For (1), please define your @tf.function outside of the loop. For (2), @tf.function has experimental_relax_shapes=True option that relaxes argument shapes that can avoid unnecessary retracing. For (3), please refer to https://www.tensorflow.org/guide/function#controlling_retracing and https://www.tensorflow.org/api_docs/python/tf/function for  more details.\n",
            "WARNING:tensorflow:11 out of the last 11 calls to <function Model.make_predict_function.<locals>.predict_function at 0x7fc5600c4290> triggered tf.function retracing. Tracing is expensive and the excessive number of tracings could be due to (1) creating @tf.function repeatedly in a loop, (2) passing tensors with different shapes, (3) passing Python objects instead of tensors. For (1), please define your @tf.function outside of the loop. For (2), @tf.function has experimental_relax_shapes=True option that relaxes argument shapes that can avoid unnecessary retracing. For (3), please refer to https://www.tensorflow.org/guide/function#controlling_retracing and https://www.tensorflow.org/api_docs/python/tf/function for  more details.\n",
            "WARNING:tensorflow:11 out of the last 11 calls to <function Model.make_predict_function.<locals>.predict_function at 0x7fc5165e7cb0> triggered tf.function retracing. Tracing is expensive and the excessive number of tracings could be due to (1) creating @tf.function repeatedly in a loop, (2) passing tensors with different shapes, (3) passing Python objects instead of tensors. For (1), please define your @tf.function outside of the loop. For (2), @tf.function has experimental_relax_shapes=True option that relaxes argument shapes that can avoid unnecessary retracing. For (3), please refer to https://www.tensorflow.org/guide/function#controlling_retracing and https://www.tensorflow.org/api_docs/python/tf/function for  more details.\n",
            "WARNING:tensorflow:11 out of the last 11 calls to <function Model.make_predict_function.<locals>.predict_function at 0x7fc5183a99e0> triggered tf.function retracing. Tracing is expensive and the excessive number of tracings could be due to (1) creating @tf.function repeatedly in a loop, (2) passing tensors with different shapes, (3) passing Python objects instead of tensors. For (1), please define your @tf.function outside of the loop. For (2), @tf.function has experimental_relax_shapes=True option that relaxes argument shapes that can avoid unnecessary retracing. For (3), please refer to https://www.tensorflow.org/guide/function#controlling_retracing and https://www.tensorflow.org/api_docs/python/tf/function for  more details.\n"
          ],
          "name": "stdout"
        }
      ]
    },
    {
      "cell_type": "code",
      "metadata": {
        "id": "ZeW8x2nk7X7c"
      },
      "source": [
        "def plot_roc(y_true,y_preds):\n",
        "  false_ptr, true_ptr, nn_thresholds_keras = roc_curve(y_true, y_preds)\n",
        "  plt.figure(1)\n",
        "  plt.plot([0, 1], [0, 1], 'k--')\n",
        "  plt.plot(false_ptr,true_ptr)\n",
        "  plt.xlabel('False positive rate')\n",
        "  plt.ylabel('True positive rate')\n",
        "  plt.title('ROC curve')\n",
        "  plt.legend(loc='best')\n",
        "  plt.legend(['','ROC'],loc='lower right')\n",
        "  plt.show()\n",
        "  auc_score=roc_auc_score(y_true,y_preds)\n",
        "  print(f'AUC Score : {round(auc_score,3)}')  "
      ],
      "execution_count": null,
      "outputs": []
    },
    {
      "cell_type": "code",
      "metadata": {
        "colab": {
          "base_uri": "https://localhost:8080/",
          "height": 329
        },
        "id": "JRefyJ3A5QNm",
        "outputId": "8c134381-dc9d-42d5-b992-656ca0a013ad"
      },
      "source": [
        "plot_roc(y_true,y_preds)"
      ],
      "execution_count": null,
      "outputs": [
        {
          "output_type": "stream",
          "text": [
            "No handles with labels found to put in legend.\n"
          ],
          "name": "stderr"
        },
        {
          "output_type": "display_data",
          "data": {
            "image/png": "[encoded data removed]",
            "text/plain": [
              "<Figure size 432x288 with 1 Axes>"
            ]
          },
          "metadata": {
            "tags": [],
            "needs_background": "light"
          }
        },
        {
          "output_type": "stream",
          "text": [
            "AUC Score : 0.824\n"
          ],
          "name": "stdout"
        }
      ]
    },
    {
      "cell_type": "markdown",
      "metadata": {
        "id": "SsPLPfYqXlJ1"
      },
      "source": [
        "#**Testing for Cancer vs Normal**"
      ]
    },
    {
      "cell_type": "code",
      "metadata": {
        "id": "r9hAShN3yULC",
        "colab": {
          "base_uri": "https://localhost:8080/"
        },
        "outputId": "0e8504b7-372b-4951-e9d5-4a59d51c868d"
      },
      "source": [
        "'''\n",
        "The final module of the system which basically predicts whether given cell is a blast or normal cell,\n",
        "based on the image and the prediction model file ! First of all, the model decides which model to call based\n",
        "on the falg you give, then the size is set to 300x300,227x277 respectively for Binary and AlexNet and the\n",
        "default size is 224x244.\n",
        "\n",
        "return: Blast or Not \n",
        " \n",
        "params: path to the model and the path to the image !\n",
        "'''\n",
        "\n",
        "def check_for_cancer(model,image_path):                 \n",
        "  result_vector = get_preds(model,image_path)                   \n",
        "  print(result_vector)\n",
        "  return \"Cancerous\" if result_vector[0] <0.5 else \"Normal\"\n",
        "\n",
        "\n",
        "model  = 'VGG 19'\n",
        "print(f'Prediction Based on the {model} Classifier !')\n",
        "print(check_for_cancer(model,'/content/drive/MyDrive/Architecture Datasets/Testing/Blasts/Im006_1.jpg'))\n",
        "print(check_for_cancer(model,'/content/drive/MyDrive/Architecture Datasets/Testing/Normal/Im066_0.jpg'))"
      ],
      "execution_count": null,
      "outputs": [
        {
          "output_type": "stream",
          "text": [
            "Prediction Based on the VGG 19 Classifier !\n",
            "WARNING:tensorflow:11 out of the last 11 calls to <function Model.make_predict_function.<locals>.predict_function at 0x7fc5164b69e0> triggered tf.function retracing. Tracing is expensive and the excessive number of tracings could be due to (1) creating @tf.function repeatedly in a loop, (2) passing tensors with different shapes, (3) passing Python objects instead of tensors. For (1), please define your @tf.function outside of the loop. For (2), @tf.function has experimental_relax_shapes=True option that relaxes argument shapes that can avoid unnecessary retracing. For (3), please refer to https://www.tensorflow.org/guide/function#controlling_retracing and https://www.tensorflow.org/api_docs/python/tf/function for  more details.\n",
            "[0.2]\n",
            "Cancerous\n",
            "WARNING:tensorflow:11 out of the last 11 calls to <function Model.make_predict_function.<locals>.predict_function at 0x7fc51676a290> triggered tf.function retracing. Tracing is expensive and the excessive number of tracings could be due to (1) creating @tf.function repeatedly in a loop, (2) passing tensors with different shapes, (3) passing Python objects instead of tensors. For (1), please define your @tf.function outside of the loop. For (2), @tf.function has experimental_relax_shapes=True option that relaxes argument shapes that can avoid unnecessary retracing. For (3), please refer to https://www.tensorflow.org/guide/function#controlling_retracing and https://www.tensorflow.org/api_docs/python/tf/function for  more details.\n",
            "[0.6]\n",
            "Normal\n"
          ],
          "name": "stdout"
        }
      ]
    },
    {
      "cell_type": "code",
      "metadata": {
        "id": "TitqEKz9nhWV"
      },
      "source": [
        "bin_test    = '/content/drive/MyDrive/Binary Classifier Models /Binary Classifier Model 0/binary_acc.pickle'\n",
        "alexnet_test= '/content/drive/MyDrive/Binary Classifier Models /AlexNet Classifier/alexnet_acc.pickle'\n",
        "vgg16_test  = '/content/drive/MyDrive/Binary Classifier Models /VGG 16/vgg16_acc.pickle'\n",
        "vgg19_test  = '/content/drive/MyDrive/Binary Classifier Models /VGG 19/vgg19v1_acc.pickle'\n",
        "resnet_test = '/content/drive/MyDrive/Binary Classifier Models /ResNet/ResNet_acc.pickle'"
      ],
      "execution_count": null,
      "outputs": []
    },
    {
      "cell_type": "markdown",
      "metadata": {
        "id": "kgto-0NzLjgb"
      },
      "source": [
        "# **Save Testing Accuracy To Pickle File**"
      ]
    },
    {
      "cell_type": "code",
      "metadata": {
        "id": "QoLOpSkUzKd0"
      },
      "source": [
        "'''\n",
        "The optional block of code only run if the accuracy is to be calculated !\n",
        "\n",
        "return: None\n",
        "\n",
        "params: model_path, test_generator, pickle_file path\n",
        "\n",
        "'''\n",
        "\n",
        "def get_accuracy(model_path:str,test_datagen,pickle_file:str)->None:\n",
        "  model = keras.models.load_model(model_path)\n",
        "  loss,accuracy = model.evaluate(test_datagen,batch_size = 128)\n",
        "  with open(pickle_file,'wb') as binary_pickle:\n",
        "    binary_pickle.write(pickle.dumps((loss,accuracy))) #dumping to pickle before writing to pickle file !\n",
        "    print(f'Accuracy Saved to {pickle_file}')\n",
        "\n",
        "get_accuracy(resnet_path,test_images_datagen,resnet_test)"
      ],
      "execution_count": null,
      "outputs": []
    },
    {
      "cell_type": "markdown",
      "metadata": {
        "id": "ggbfLA4e0n9k"
      },
      "source": [
        "# **Retrieve Accuracy From Pickle File**"
      ]
    },
    {
      "cell_type": "markdown",
      "metadata": {
        "id": "VIMLm9Tq0n3m"
      },
      "source": [
        ""
      ]
    },
    {
      "cell_type": "code",
      "metadata": {
        "id": "dX0-qeet_NAe"
      },
      "source": [
        "'''\n",
        "The model accuracy is originally stored in the drive folder for the sake of simplicity, we refer the \n",
        "pickle file path and fetch accuarcy info of the respective model and print their accuracy\n",
        "\n",
        "return:None\n",
        "\n",
        "params:accuracy_path\n",
        "'''\n",
        "\n",
        "def show_accuracy(model:str,acc_path:str)->None:\n",
        "  with open(acc_path,'rb') as pickle_file:\n",
        "    bin = pickle.loads(pickle_file.read())\n",
        "    acc = round(bin[1]*100,3)\n",
        "    print(f'Accuracy for {model}  : {acc}%')"
      ],
      "execution_count": null,
      "outputs": []
    },
    {
      "cell_type": "code",
      "metadata": {
        "colab": {
          "base_uri": "https://localhost:8080/"
        },
        "id": "8XQ9p6myJLso",
        "outputId": "c6a9ffc9-f7fb-4884-fa0e-78e1d40b1b33"
      },
      "source": [
        "show_accuracy('Custom',bin_test)\n",
        "show_accuracy('AlexNet',alexnet_test)\n",
        "show_accuracy('ResNet50',resnet_test)\n",
        "show_accuracy('VGG 19',vgg19_test)\n",
        "show_accuracy('VGG 16',vgg16_test)"
      ],
      "execution_count": null,
      "outputs": [
        {
          "output_type": "stream",
          "text": [
            "Accuracy for Custom  : 93.939%\n",
            "Accuracy for AlexNet  : 90.909%\n",
            "Accuracy for ResNet50  : 93.939%\n",
            "Accuracy for VGG 19  : 96.97%\n",
            "Accuracy for VGG 16  : 93.939%\n"
          ],
          "name": "stdout"
        }
      ]
    },
    {
      "cell_type": "markdown",
      "metadata": {
        "id": "RGMTH0qHy5Po"
      },
      "source": [
        "# **Run Flask App**"
      ]
    },
    {
      "cell_type": "code",
      "metadata": {
        "id": "5wcdpHyyv08L",
        "colab": {
          "base_uri": "https://localhost:8080/"
        },
        "outputId": "22bd6141-5eef-41ba-ccb0-51f42de951cd"
      },
      "source": [
        "!pip install flask_ngrok  #optional step to install the ngrok for flask !"
      ],
      "execution_count": null,
      "outputs": [
        {
          "output_type": "stream",
          "text": [
            "Collecting flask_ngrok\n",
            "  Downloading https://files.pythonhosted.org/packages/af/6c/f54cb686ad1129e27d125d182f90f52b32f284e6c8df58c1bae54fa1adbc/flask_ngrok-0.0.25-py3-none-any.whl\n",
            "Requirement already satisfied: requests in /usr/local/lib/python3.7/dist-packages (from flask_ngrok) (2.23.0)\n",
            "Requirement already satisfied: Flask>=0.8 in /usr/local/lib/python3.7/dist-packages (from flask_ngrok) (1.1.2)\n",
            "Requirement already satisfied: certifi>=2017.4.17 in /usr/local/lib/python3.7/dist-packages (from requests->flask_ngrok) (2020.12.5)\n",
            "Requirement already satisfied: chardet<4,>=3.0.2 in /usr/local/lib/python3.7/dist-packages (from requests->flask_ngrok) (3.0.4)\n",
            "Requirement already satisfied: idna<3,>=2.5 in /usr/local/lib/python3.7/dist-packages (from requests->flask_ngrok) (2.10)\n",
            "Requirement already satisfied: urllib3!=1.25.0,!=1.25.1,<1.26,>=1.21.1 in /usr/local/lib/python3.7/dist-packages (from requests->flask_ngrok) (1.24.3)\n",
            "Requirement already satisfied: Werkzeug>=0.15 in /usr/local/lib/python3.7/dist-packages (from Flask>=0.8->flask_ngrok) (2.0.0)\n",
            "Requirement already satisfied: itsdangerous>=0.24 in /usr/local/lib/python3.7/dist-packages (from Flask>=0.8->flask_ngrok) (2.0.0)\n",
            "Requirement already satisfied: click>=5.1 in /usr/local/lib/python3.7/dist-packages (from Flask>=0.8->flask_ngrok) (8.0.0)\n",
            "Requirement already satisfied: Jinja2>=2.10.1 in /usr/local/lib/python3.7/dist-packages (from Flask>=0.8->flask_ngrok) (2.11.3)\n",
            "Requirement already satisfied: MarkupSafe>=0.23 in /usr/local/lib/python3.7/dist-packages (from Jinja2>=2.10.1->Flask>=0.8->flask_ngrok) (2.0.0)\n",
            "Installing collected packages: flask-ngrok\n",
            "Successfully installed flask-ngrok-0.0.25\n"
          ],
          "name": "stdout"
        }
      ]
    },
    {
      "cell_type": "code",
      "metadata": {
        "id": "eZGc2fRjy42o",
        "colab": {
          "base_uri": "https://localhost:8080/"
        },
        "outputId": "c230688f-887e-4dd4-d9aa-5d6ac81c3c97"
      },
      "source": [
        "!python /content/drive/MyDrive/Web-App/app.py"
      ],
      "execution_count": null,
      "outputs": [
        {
          "output_type": "stream",
          "text": [
            "2021-05-23 11:23:40.393704: I tensorflow/stream_executor/platform/default/dso_loader.cc:49] Successfully opened dynamic library libcudart.so.11.0\n"
          ],
          "name": "stdout"
        }
      ]
    }
  ]
}