{
  "nbformat": 4,
  "nbformat_minor": 0,
  "metadata": {
    "accelerator": "GPU",
    "colab": {
      "name": "ALL_Deep_Learning.ipynb",
      "provenance": [],
      "collapsed_sections": [],
      "toc_visible": true,
      "include_colab_link": true
    },
    "kernelspec": {
      "display_name": "Python 3",
      "name": "python3"
    }
  },
  "cells": [
    {
      "cell_type": "markdown",
      "metadata": {
        "id": "view-in-github",
        "colab_type": "text"
      },
      "source": [
        "<a href=\"https://colab.research.google.com/github/Anonymous1846/ALL-Detection-Using-CNN/blob/master/ALL_Deep_Learning.ipynb\" target=\"_parent\"><img src=\"https://colab.research.google.com/assets/colab-badge.svg\" alt=\"Open In Colab\"/></a>"
      ]
    },
    {
      "cell_type": "markdown",
      "metadata": {
        "id": "bz8z3s6bmZ-L"
      },
      "source": [
        "# **Importing All The Necessary Dependancies.**"
      ]
    },
    {
      "cell_type": "code",
      "metadata": {
        "colab": {
          "base_uri": "https://localhost:8080/"
        },
        "id": "A7XLGtoAl0zO",
        "outputId": "6940b480-381c-4e83-87bb-1332ed3a661a"
      },
      "source": [
        "'''\n",
        "Importing all the necessary dependencies for the Binary Classification model !\n",
        "In the end we have verified the keras installtion, by printing out the keras version.\n",
        "\n",
        "keras/tensorflow - for developing and training the DL(CNN) model !\n",
        "os,random - for selection of the images from the directory !\n",
        "Each Model is stored in its respective directory along with its history file !\n",
        "'''\n",
        "from keras.layers import MaxPooling2D,Conv2D,Dropout,Dense,Flatten,BatchNormalization,MaxPool2D,AveragePooling2D #layers\n",
        "from keras.applications.resnet50 import preprocess_input as res_process           #for augmentation\n",
        "from keras.applications.vgg16 import preprocess_input as vg16pi                   #for vgg16 preporcessing\n",
        "from keras.applications.vgg19 import preprocess_input as vg19pi                   #for vgg19 preporcessing\n",
        "from keras.applications.imagenet_utils import decode_predictions  \n",
        "from keras.callbacks import ModelCheckpoint,EarlyStopping \n",
        "from keras.preprocessing.image import ImageDataGenerator \n",
        "from tensorflow.keras.optimizers import RMSprop,Adam                              # for checkpoint calculation and callback   \n",
        "from keras.applications import ResNet50                                          \n",
        "from keras.preprocessing import image\n",
        "from keras.applications import VGG19\n",
        "from keras.applications import VGG16\n",
        "from keras.models import Sequential\n",
        "import matplotlib.pyplot as plt                                                   # for plotting \n",
        "from sklearn.metrics import classification_report\n",
        "import tensorflow as tf\n",
        "from cv2 import imread\n",
        "import numpy as np\n",
        "import pickle                                                                    #for pickling the history dictionary !\n",
        "import keras\n",
        "import os \n",
        "\n",
        "# reading the image via  a path \n",
        "#causes an error if the keras installtion didn't went well !\n",
        "print(keras.__version__)"
      ],
      "execution_count": 1,
      "outputs": [
        {
          "output_type": "stream",
          "text": [
            "2.4.3\n"
          ],
          "name": "stdout"
        }
      ]
    },
    {
      "cell_type": "markdown",
      "metadata": {
        "id": "Q_JFZFFZFzII"
      },
      "source": [
        "# **Loading the Dataset(i.e Cancer cell images).**"
      ]
    },
    {
      "cell_type": "code",
      "metadata": {
        "colab": {
          "base_uri": "https://localhost:8080/"
        },
        "id": "fm-5FTeSxHP4",
        "outputId": "77d58ce3-268b-4c72-eb2e-159516850e4c"
      },
      "source": [
        "'''\n",
        "This is an optional block of code which can be executed if the \n",
        "google drive needs to be mounted on different account\n",
        "'''\n",
        "\n",
        "from google.colab import drive\n",
        "drive.mount('/content/drive',force_remount=False)"
      ],
      "execution_count": 2,
      "outputs": [
        {
          "output_type": "stream",
          "text": [
            "Mounted at /content/drive\n"
          ],
          "name": "stdout"
        }
      ]
    },
    {
      "cell_type": "code",
      "metadata": {
        "colab": {
          "base_uri": "https://localhost:8080/"
        },
        "id": "ZNvpvCN5TJqy",
        "outputId": "cb97b748-6369-4509-98ed-0f2a011e12c0"
      },
      "source": [
        "'''\n",
        "The Images required for the training, validation, and testing is found in the /Architecture Datasets directory !\n",
        "Architecture Datasets \n",
        "|\n",
        "|\n",
        "|\n",
        " ---- Training(80 %)\n",
        "      |\n",
        "      |\n",
        "      ----Normal \n",
        "      |\n",
        "      ----Blasts\n",
        "|\n",
        "|\n",
        "---- Validation (10 %)\n",
        "      |\n",
        "      |\n",
        "      ----Normal \n",
        "      |\n",
        "      ----Blasts\n",
        "|\n",
        "|\n",
        "---- Testing (10 %)\n",
        "      |\n",
        "      |\n",
        "      ----Normal \n",
        "      |\n",
        "      ----Blasts\n",
        "\n",
        "      The images/dataset is divided into 80% training, 10% testing and 10% validation\n",
        "'''\n",
        "training_data_path    = \"/content/drive/MyDrive/Architecture Datasets/Training\"\n",
        "validation_data_path  = \"/content/drive/MyDrive/Architecture Datasets/Validation\"\n",
        "testing_data_path     = \"/content/drive/MyDrive/Architecture Datasets/Testing\"\n",
        "\n",
        "print(f'The Training Images Path   :  {training_data_path}')\n",
        "print(f'The Validation Images Path :  {validation_data_path}')\n",
        "print(f'The Testing Images Path    :  {testing_data_path}')\n"
      ],
      "execution_count": 3,
      "outputs": [
        {
          "output_type": "stream",
          "text": [
            "The Training Images Path   :  /content/drive/MyDrive/Architecture Datasets/Training\n",
            "The Validation Images Path :  /content/drive/MyDrive/Architecture Datasets/Validation\n",
            "The Testing Images Path    :  /content/drive/MyDrive/Architecture Datasets/Testing\n"
          ],
          "name": "stdout"
        }
      ]
    },
    {
      "cell_type": "markdown",
      "metadata": {
        "id": "9yT7JaUnVPpU"
      },
      "source": [
        "# **Image Preprocessing Custom**"
      ]
    },
    {
      "cell_type": "code",
      "metadata": {
        "id": "qPeiTL-oVTay"
      },
      "source": [
        "'''\n",
        "ALL-IDB1 and ALL IDB2 both contains roughly 334 images, but after spiltting of the images,\n",
        "the size becomes significantly low, and this leads significant amount of overfitting.\n",
        "So, inorder to solve the problem of overfitting, we have to apply data augmentation \n",
        "to increase the number of images, from the previous existing images !\n",
        "'''\n",
        "\n",
        "training_images_preprocessed = ImageDataGenerator(rescale=1./255,\n",
        "                                                  rotation_range=40,\n",
        "                                                  width_shift_range=0.2,\n",
        "                                                  height_shift_range=0.2,\n",
        "                                                  shear_range=0.2,\n",
        "                                                  zoom_range=0.2,\n",
        "                                                  horizontal_flip=True,\n",
        "                                                  vertical_flip=True,\n",
        "                                                  fill_mode='nearest')\n",
        "\n",
        "validate_images_preprocessed = ImageDataGenerator(rescale=1./255)"
      ],
      "execution_count": 4,
      "outputs": []
    },
    {
      "cell_type": "markdown",
      "metadata": {
        "id": "70QLveVNCGv6"
      },
      "source": [
        "# **Preprocessing Via Pre-Process Function (For VGG Pre-Trained Models)**"
      ]
    },
    {
      "cell_type": "code",
      "metadata": {
        "id": "-GM0qi7fCFaB"
      },
      "source": [
        "'''\n",
        "Important Note : If you're running the custom model please run the above function only.\n",
        "This block is only applicable to Transfer Learning  VGG 19 !\n",
        "'''\n",
        "\n",
        "training_images_preprocessed=ImageDataGenerator(preprocessing_function=vg19pi)\n",
        "\n",
        "validate_images_preprocessed = ImageDataGenerator(preprocessing_function=vg19pi)"
      ],
      "execution_count": 22,
      "outputs": []
    },
    {
      "cell_type": "code",
      "metadata": {
        "id": "Ck7dwfIcoH87"
      },
      "source": [
        "'''\n",
        "Important Note : If you're running the custom model please run the above function only.\n",
        "This block is only applicable to Transfer Learning  VGG 16 !\n",
        "'''\n",
        "\n",
        "training_images_preprocessed=ImageDataGenerator(preprocessing_function=vg16pi)\n",
        "\n",
        "validate_images_preprocessed = ImageDataGenerator(preprocessing_function=vg16pi)"
      ],
      "execution_count": null,
      "outputs": []
    },
    {
      "cell_type": "markdown",
      "metadata": {
        "id": "cVD91RrJ36PC"
      },
      "source": [
        "# **Process Input For ResNet50**"
      ]
    },
    {
      "cell_type": "code",
      "metadata": {
        "id": "DdO5HIKZ35wM"
      },
      "source": [
        "\n",
        "from keras.applications.resnet50 import preprocess_input\n",
        "training_images_preprocessed=ImageDataGenerator(preprocessing_function=preprocess_input)\n",
        "\n",
        "validate_images_preprocessed = ImageDataGenerator(preprocessing_function=preprocess_input)"
      ],
      "execution_count": 24,
      "outputs": []
    },
    {
      "cell_type": "markdown",
      "metadata": {
        "id": "FLAop9bDXLv9"
      },
      "source": [
        ""
      ]
    },
    {
      "cell_type": "markdown",
      "metadata": {
        "id": "xGPm_71JXPeC"
      },
      "source": [
        "# **Applying the Image Augmentation to Training and Validation Set !**"
      ]
    },
    {
      "cell_type": "code",
      "metadata": {
        "colab": {
          "base_uri": "https://localhost:8080/"
        },
        "id": "G9G6VPiSXVsR",
        "outputId": "72469bdb-39aa-4147-fea2-902d9c8240ec"
      },
      "source": [
        "'''\n",
        "The function augments the data, according to the processing mode.\n",
        "The processing mode has defined earlier seperately for training and validation set !\n",
        "\n",
        "params: training/validation directory and the processing mode(different for training and validation dataset)\n",
        "\n",
        "return: augmented data \n",
        "'''\n",
        "\n",
        "def apply_augmentation(data_directory,processing_mode,flag):\n",
        "  model_dict = {'AlexNet':(227,227),'Binary':(300,300),'VGG':(224,224),'ResNet':(224,224)}\n",
        "  data_gen = processing_mode.flow_from_directory(\n",
        "  data_directory,                               # the directory as provided to the function as an arguement !\n",
        "  target_size = model_dict[flag],               # 300x 300 pixels for custom,224 for VGG, and 227 for AlexNet \n",
        "  batch_size = 128,                             # Number of Images Excepted at Iteration !\n",
        "  class_mode='binary')\n",
        "  print(f'Image Shape : {model_dict[flag]}')\n",
        "  return data_gen\n",
        "\n",
        "\n",
        "architecture='ResNet'\n",
        "\n",
        "training_images_datagen = apply_augmentation(training_data_path,            #path to training dir\n",
        "                                             training_images_preprocessed,  #mode of processing\n",
        "                                             architecture)                  #architecture\n",
        "\n",
        "valid_images_datagen = apply_augmentation(validation_data_path,             #validation dir\n",
        "                                          validate_images_preprocessed,\n",
        "                                          architecture)\n",
        "\n",
        "test_images_datagen = apply_augmentation(testing_data_path,\n",
        "                                         validate_images_preprocessed,\n",
        "                                         architecture)\n",
        "\n",
        "print(training_images_datagen.class_indices) # class indices refer to the numerical equivalent whether they are cancerours or not !\n"
      ],
      "execution_count": 25,
      "outputs": [
        {
          "output_type": "stream",
          "text": [
            "Found 268 images belonging to 2 classes.\n",
            "Image Shape : (224, 224)\n",
            "Found 33 images belonging to 2 classes.\n",
            "Image Shape : (224, 224)\n",
            "Found 33 images belonging to 2 classes.\n",
            "Image Shape : (224, 224)\n",
            "{'Blasts': 0, 'Normal': 1}\n"
          ],
          "name": "stdout"
        }
      ]
    },
    {
      "cell_type": "markdown",
      "metadata": {
        "id": "lbC-FfxiDtCO"
      },
      "source": [
        "#**Using the mean pixel we have calculated the number of features !**"
      ]
    },
    {
      "cell_type": "code",
      "metadata": {
        "colab": {
          "base_uri": "https://localhost:8080/"
        },
        "id": "wtkmIsQNDssN",
        "outputId": "14669333-8288-4a27-d16f-35dbdef752f6"
      },
      "source": [
        "sample_image0=imread('/content/drive/MyDrive/Architecture Datasets/Training/Blasts/Im031_1.jpg')\n",
        "print(\"The diemensions of the cancer cell: {}\".format(sample_image0.shape))\n",
        "feature_matrix0 = np.zeros((sample_image0.shape[0], sample_image0.shape[1])) # for cancer cell\n",
        "\n",
        "'''\n",
        "The function will calculate the mean pixels values which are essential in understanding the number of possible \n",
        "values/ features in the image !\n",
        "\n",
        "params: fetaure matrix and image\n",
        "\n",
        "return: None\n",
        "'''\n",
        "def show_features(feature_matrix,img):\n",
        "  for i in range(1,img.shape[0]):\n",
        "    for j in range(1,img.shape[1]):\n",
        "        feature_matrix[i][j] = ((int(img[i,j,0]) + int(img[i,j,1]) + int(img[i,j,2]))/3) # mean for three channels !\n",
        "\n",
        "  features = np.reshape(feature_matrix, (img.shape[0]*img.shape[1])) \n",
        "  print(\"The mean pixels values for the cancer cells: {}\".format(features.shape[0]))\n",
        "\n",
        "show_features(feature_matrix0,sample_image0) # for cancer cell \n"
      ],
      "execution_count": null,
      "outputs": [
        {
          "output_type": "stream",
          "text": [
            "The diemensions of the cancer cell: (1368, 1712, 3)\n",
            "The mean pixels values for the cancer cells: 2342016\n"
          ],
          "name": "stdout"
        }
      ]
    },
    {
      "cell_type": "markdown",
      "metadata": {
        "id": "psRQ77sbYuqN"
      },
      "source": [
        "# **Representation of Images.**"
      ]
    },
    {
      "cell_type": "code",
      "metadata": {
        "colab": {
          "base_uri": "https://localhost:8080/",
          "height": 321
        },
        "id": "W3oV8CEwY6p8",
        "outputId": "59873cea-3891-4b73-8f83-e2b46fbfcbee"
      },
      "source": [
        "'''\n",
        "The function is used to plot the augmented figures of the images, for visual demonstartion !\n",
        "\n",
        "params: image object\n",
        "return: 5 plotted images\n",
        "'''\n",
        "def plot(image):\n",
        "  fig,axes=plt.subplots(1,5,figsize=(20,20))# 20 x 20 images \n",
        "  axes=axes.flatten()\n",
        "  for imag,axis in zip(image,axes):\n",
        "    #the zip function takes two params(iteratables and combines then to form a list of tuples !)\n",
        "    axis.imshow(imag)\n",
        "  plt.tight_layout()\n",
        "  plt.show()\n",
        "\n",
        "training_images_datagen.class_indices\n",
        "sample_images=[training_images_datagen[0][0][0] for i in range(5)]\n",
        "plot(sample_images)"
      ],
      "execution_count": null,
      "outputs": [
        {
          "output_type": "stream",
          "text": [
            "Clipping input data to the valid range for imshow with RGB data ([0..1] for floats or [0..255] for integers).\n",
            "Clipping input data to the valid range for imshow with RGB data ([0..1] for floats or [0..255] for integers).\n",
            "Clipping input data to the valid range for imshow with RGB data ([0..1] for floats or [0..255] for integers).\n",
            "Clipping input data to the valid range for imshow with RGB data ([0..1] for floats or [0..255] for integers).\n",
            "Clipping input data to the valid range for imshow with RGB data ([0..1] for floats or [0..255] for integers).\n"
          ],
          "name": "stderr"
        },
        {
          "output_type": "display_data",
          "data": {
            "image/png": "[encoded data removed]",
            "text/plain": [
              "<Figure size 1440x1440 with 5 Axes>"
            ]
          },
          "metadata": {
            "tags": [],
            "needs_background": "light"
          }
        }
      ]
    },
    {
      "cell_type": "markdown",
      "metadata": {
        "id": "6ExfBhm4YE0f"
      },
      "source": [
        "# **Binary CNN Classifier 0!**"
      ]
    },
    {
      "cell_type": "code",
      "metadata": {
        "colab": {
          "base_uri": "https://localhost:8080/"
        },
        "id": "66QFUFr1YNlW",
        "outputId": "9d8e818d-a12b-4224-e93a-487be2ad78a6"
      },
      "source": [
        "'''\n",
        "The CNN model is used to predict whether the given data image is cancerous or not,\n",
        "it contains 5 convolution and corresponding number of maxpooling layers.\n",
        "RelU function is added to each layer so that it can introduce non-linearity and \n",
        "avoid the negative values !\n",
        "'''\n",
        "the_binary_cnn_model0=Sequential([\n",
        "                                    Conv2D(16, (3,3), activation='relu', input_shape=(300, 300, 3)), # relu function is used to negate the negative values from the models, replace them with zeros !\n",
        "                                    MaxPooling2D(2, 2),\n",
        "                                    Conv2D(32, (3,3), activation='relu'),# The second convolution\n",
        "                                    MaxPooling2D(2,2),                                    \n",
        "                                    Conv2D(64, (3,3), activation='relu'),# The third convolution\n",
        "                                    MaxPooling2D(2,2),                                   \n",
        "                                    Conv2D(64, (3,3), activation='relu'), # The fourth convolution\n",
        "                                    MaxPooling2D(2,2),                                   \n",
        "                                    Conv2D(64, (3,3), activation='relu'), # The fifth convolution\n",
        "                                    MaxPooling2D(2,2),                                   \n",
        "                                    Flatten(),                            # Flatten the  results to feed into a DNN                                    \n",
        "                                    Dense(512, activation='relu'),        # 512 neuron hidden layer\n",
        "                                    # Only 1 output neuron. It will contain a value from 0-1 where 0 for 1 class ('normal') and 0 for the other 'cancer'\n",
        "                                    Dense(1, activation='sigmoid') # the output will be the range of -1 and 1(graph will be S shaped !)\n",
        "                                        ])\n",
        "\n",
        "the_binary_cnn_model0.summary()"
      ],
      "execution_count": null,
      "outputs": [
        {
          "output_type": "stream",
          "text": [
            "Model: \"sequential_4\"\n",
            "_________________________________________________________________\n",
            "Layer (type)                 Output Shape              Param #   \n",
            "=================================================================\n",
            "conv2d_20 (Conv2D)           (None, 298, 298, 16)      448       \n",
            "_________________________________________________________________\n",
            "max_pooling2d_20 (MaxPooling (None, 149, 149, 16)      0         \n",
            "_________________________________________________________________\n",
            "conv2d_21 (Conv2D)           (None, 147, 147, 32)      4640      \n",
            "_________________________________________________________________\n",
            "max_pooling2d_21 (MaxPooling (None, 73, 73, 32)        0         \n",
            "_________________________________________________________________\n",
            "conv2d_22 (Conv2D)           (None, 71, 71, 64)        18496     \n",
            "_________________________________________________________________\n",
            "max_pooling2d_22 (MaxPooling (None, 35, 35, 64)        0         \n",
            "_________________________________________________________________\n",
            "conv2d_23 (Conv2D)           (None, 33, 33, 64)        36928     \n",
            "_________________________________________________________________\n",
            "max_pooling2d_23 (MaxPooling (None, 16, 16, 64)        0         \n",
            "_________________________________________________________________\n",
            "conv2d_24 (Conv2D)           (None, 14, 14, 64)        36928     \n",
            "_________________________________________________________________\n",
            "max_pooling2d_24 (MaxPooling (None, 7, 7, 64)          0         \n",
            "_________________________________________________________________\n",
            "flatten_4 (Flatten)          (None, 3136)              0         \n",
            "_________________________________________________________________\n",
            "dense_8 (Dense)              (None, 512)               1606144   \n",
            "_________________________________________________________________\n",
            "dense_9 (Dense)              (None, 1)                 513       \n",
            "=================================================================\n",
            "Total params: 1,704,097\n",
            "Trainable params: 1,704,097\n",
            "Non-trainable params: 0\n",
            "_________________________________________________________________\n"
          ],
          "name": "stdout"
        }
      ]
    },
    {
      "cell_type": "markdown",
      "metadata": {
        "id": "sD7ModzzAYbr"
      },
      "source": [
        "# **Binary Classifier Based On AlexNet Architecture**"
      ]
    },
    {
      "cell_type": "code",
      "metadata": {
        "colab": {
          "base_uri": "https://localhost:8080/"
        },
        "id": "s6K8U_fjAYGC",
        "outputId": "055deeb2-e7b0-4787-acdf-397aa0ebd111"
      },
      "source": [
        "'''\n",
        "Implementation of the AlexNet architecture, which is an common architecture of the CNN model\n",
        "The AlexNet Alrchitecture has been modified since, the original one is capable of classifiying\n",
        "upto 1000 tensors, and requires more computational power !\n",
        "'''\n",
        "alexnet_model =Sequential([\n",
        "                    Conv2D(96, (11, 11), strides=(4,4), activation='relu', input_shape=(227, 227, 3)),\n",
        "                    BatchNormalization(),\n",
        "                    MaxPooling2D((3, 3),strides=(2,2)),\n",
        "                    Conv2D(256, (5, 5),padding='same', activation='relu'),                    \n",
        "                    MaxPooling2D((3, 3),strides=(2, 2)),\n",
        "                    Conv2D(384, (3, 3), padding='same',activation='relu'),\n",
        "                    Conv2D(384, (3, 3), padding='same',activation='relu'),\n",
        "                    Conv2D(256, (3, 3), padding='same',activation='relu'),\n",
        "                    MaxPooling2D((3, 3),strides=(2, 2)),\n",
        "                    Flatten(),\n",
        "                    Dense(4096, activation='relu'),# two sense layers with 4096 nuerons each                 \n",
        "                    Dropout(0.5),\n",
        "                    Dense(4096, activation='relu'),                \n",
        "                    Dropout(0.5),\n",
        "                    Dense(1, activation='sigmoid')# sigmoid used to binary other wise softmax will be used for probabilitic classification!\n",
        "                                                  #Padding calculation = input_size + 2 * padding_size-(filter_size-1)\n",
        "])\n",
        "print(alexnet_model.summary())"
      ],
      "execution_count": null,
      "outputs": [
        {
          "output_type": "stream",
          "text": [
            "Model: \"sequential_10\"\n",
            "_________________________________________________________________\n",
            "Layer (type)                 Output Shape              Param #   \n",
            "=================================================================\n",
            "conv2d_45 (Conv2D)           (None, 55, 55, 96)        34944     \n",
            "_________________________________________________________________\n",
            "batch_normalization_18 (Batc (None, 55, 55, 96)        384       \n",
            "_________________________________________________________________\n",
            "max_pooling2d_27 (MaxPooling (None, 27, 27, 96)        0         \n",
            "_________________________________________________________________\n",
            "conv2d_46 (Conv2D)           (None, 27, 27, 256)       614656    \n",
            "_________________________________________________________________\n",
            "max_pooling2d_28 (MaxPooling (None, 13, 13, 256)       0         \n",
            "_________________________________________________________________\n",
            "conv2d_47 (Conv2D)           (None, 13, 13, 384)       885120    \n",
            "_________________________________________________________________\n",
            "conv2d_48 (Conv2D)           (None, 13, 13, 384)       1327488   \n",
            "_________________________________________________________________\n",
            "conv2d_49 (Conv2D)           (None, 13, 13, 256)       884992    \n",
            "_________________________________________________________________\n",
            "max_pooling2d_29 (MaxPooling (None, 6, 6, 256)         0         \n",
            "_________________________________________________________________\n",
            "flatten_10 (Flatten)         (None, 9216)              0         \n",
            "_________________________________________________________________\n",
            "dense_29 (Dense)             (None, 4096)              37752832  \n",
            "_________________________________________________________________\n",
            "dropout_19 (Dropout)         (None, 4096)              0         \n",
            "_________________________________________________________________\n",
            "dense_30 (Dense)             (None, 4096)              16781312  \n",
            "_________________________________________________________________\n",
            "dropout_20 (Dropout)         (None, 4096)              0         \n",
            "_________________________________________________________________\n",
            "dense_31 (Dense)             (None, 1)                 4097      \n",
            "=================================================================\n",
            "Total params: 58,285,825\n",
            "Trainable params: 58,285,633\n",
            "Non-trainable params: 192\n",
            "_________________________________________________________________\n",
            "None\n"
          ],
          "name": "stdout"
        }
      ]
    },
    {
      "cell_type": "markdown",
      "metadata": {
        "id": "4V9Q4xfeGuBv"
      },
      "source": [
        "# **Binary Classifier Based On VGG 19**"
      ]
    },
    {
      "cell_type": "code",
      "metadata": {
        "colab": {
          "base_uri": "https://localhost:8080/"
        },
        "id": "nSEI99r4Gtzi",
        "outputId": "121f3216-fe11-4056-add0-4276c954281c"
      },
      "source": [
        "vgg_net19 =  VGG19(\n",
        "              weights='imagenet',\n",
        "              include_top=False,\n",
        "              input_shape=(224, 224, 3)\n",
        "                    )\n",
        "\n",
        "trainable = False\n",
        "for layer in vgg_net19.layers:\n",
        "    if layer.name == 'block5_conv1':\n",
        "        trainable = True\n",
        "    if trainable:\n",
        "        layer.trainable = True\n",
        "    else:\n",
        "        layer.trainable = False\n",
        "\n",
        "vggnet_19model = Sequential(\n",
        "                          [vgg_net19,\n",
        "                          Flatten(),\n",
        "                          Dropout(0.3),\n",
        "                          Dense(128,activation='relu'),\n",
        "                          Dense(1,activation='sigmoid')\n",
        "                          ])\n",
        "\n",
        "vggnet_19model.summary()"
      ],
      "execution_count": null,
      "outputs": [
        {
          "output_type": "stream",
          "text": [
            "Model: \"sequential\"\n",
            "_________________________________________________________________\n",
            "Layer (type)                 Output Shape              Param #   \n",
            "=================================================================\n",
            "vgg19 (Functional)           (None, 7, 7, 512)         20024384  \n",
            "_________________________________________________________________\n",
            "flatten (Flatten)            (None, 25088)             0         \n",
            "_________________________________________________________________\n",
            "dropout (Dropout)            (None, 25088)             0         \n",
            "_________________________________________________________________\n",
            "dense (Dense)                (None, 256)               6422784   \n",
            "_________________________________________________________________\n",
            "dense_1 (Dense)              (None, 1)                 257       \n",
            "=================================================================\n",
            "Total params: 26,447,425\n",
            "Trainable params: 15,862,273\n",
            "Non-trainable params: 10,585,152\n",
            "_________________________________________________________________\n"
          ],
          "name": "stdout"
        }
      ]
    },
    {
      "cell_type": "markdown",
      "metadata": {
        "id": "uBDUE7k3bmsx"
      },
      "source": [
        "# **Binary Classifier Based On VGG 16**"
      ]
    },
    {
      "cell_type": "code",
      "metadata": {
        "colab": {
          "base_uri": "https://localhost:8080/"
        },
        "id": "gA2utGcI3CvX",
        "outputId": "48d54c66-8ab0-4f4c-c3c2-de121146a4f4"
      },
      "source": [
        "vgg_net16 =  VGG16(\n",
        "              weights='imagenet',\n",
        "              include_top=False,\n",
        "              input_shape=(224, 224, 3)\n",
        "                    )\n",
        "\n",
        "trainable = False\n",
        "for layer in vgg_net16.layers:\n",
        "    if layer.name == 'block5_conv1':\n",
        "        trainable = True\n",
        "    if trainable:\n",
        "        layer.trainable = True\n",
        "    else:\n",
        "        layer.trainable = False\n",
        "\n",
        "vggnet_16model = Sequential(\n",
        "                          [vgg_net16,\n",
        "                          Flatten(),\n",
        "                          Dropout(0.5),\n",
        "                          Dense(256,activation='relu'),\n",
        "                          Dense(1,activation='sigmoid')\n",
        "                          ])\n",
        "\n",
        "vggnet_16model.summary()"
      ],
      "execution_count": null,
      "outputs": [
        {
          "output_type": "stream",
          "text": [
            "Downloading data from https://storage.googleapis.com/tensorflow/keras-applications/vgg16/vgg16_weights_tf_dim_ordering_tf_kernels_notop.h5\n",
            "58892288/58889256 [==============================] - 0s 0us/step\n",
            "Model: \"sequential_1\"\n",
            "_________________________________________________________________\n",
            "Layer (type)                 Output Shape              Param #   \n",
            "=================================================================\n",
            "vgg16 (Functional)           (None, 7, 7, 512)         14714688  \n",
            "_________________________________________________________________\n",
            "flatten_1 (Flatten)          (None, 25088)             0         \n",
            "_________________________________________________________________\n",
            "dropout_1 (Dropout)          (None, 25088)             0         \n",
            "_________________________________________________________________\n",
            "dense_2 (Dense)              (None, 256)               6422784   \n",
            "_________________________________________________________________\n",
            "dense_3 (Dense)              (None, 1)                 257       \n",
            "=================================================================\n",
            "Total params: 21,137,729\n",
            "Trainable params: 13,502,465\n",
            "Non-trainable params: 7,635,264\n",
            "_________________________________________________________________\n"
          ],
          "name": "stdout"
        }
      ]
    },
    {
      "cell_type": "markdown",
      "metadata": {
        "id": "9DgfCoeE4fa9"
      },
      "source": [
        "# **Model Based On ResNet**"
      ]
    },
    {
      "cell_type": "code",
      "metadata": {
        "colab": {
          "base_uri": "https://localhost:8080/"
        },
        "id": "cT64MEEA4e3H",
        "outputId": "6254f3ba-9b6f-4b7e-86f7-3a52829a0c0e"
      },
      "source": [
        "resnet = ResNet50(\n",
        "    include_top=False,\n",
        "    weights=\"imagenet\",\n",
        "    \n",
        "    input_shape=(224,224,3),\n",
        ")\n",
        "for layer in resnet.layers[:165]:\n",
        "   layer.trainable = False\n",
        "for layer in resnet.layers[165:]:\n",
        "   layer.trainable = True\n",
        "resnet_model = Sequential(\n",
        "                          [resnet,                         \n",
        "                          Flatten(),\n",
        "                          Dropout(0.5),\n",
        "                          Dense(256,activation='relu'),\n",
        "                          Dropout(0.5),\n",
        "                          Dense(1,activation='sigmoid')\n",
        "                          ])\n",
        "resnet_model.summary()"
      ],
      "execution_count": 45,
      "outputs": [
        {
          "output_type": "stream",
          "text": [
            "Model: \"sequential_6\"\n",
            "_________________________________________________________________\n",
            "Layer (type)                 Output Shape              Param #   \n",
            "=================================================================\n",
            "resnet50 (Functional)        (None, 7, 7, 2048)        23587712  \n",
            "_________________________________________________________________\n",
            "flatten_6 (Flatten)          (None, 100352)            0         \n",
            "_________________________________________________________________\n",
            "dropout_12 (Dropout)         (None, 100352)            0         \n",
            "_________________________________________________________________\n",
            "dense_12 (Dense)             (None, 256)               25690368  \n",
            "_________________________________________________________________\n",
            "dropout_13 (Dropout)         (None, 256)               0         \n",
            "_________________________________________________________________\n",
            "dense_13 (Dense)             (None, 1)                 257       \n",
            "=================================================================\n",
            "Total params: 49,278,337\n",
            "Trainable params: 30,156,289\n",
            "Non-trainable params: 19,122,048\n",
            "_________________________________________________________________\n"
          ],
          "name": "stdout"
        }
      ]
    },
    {
      "cell_type": "markdown",
      "metadata": {
        "id": "EVvlM0Zt59cN"
      },
      "source": [
        "# **Compile the model**"
      ]
    },
    {
      "cell_type": "code",
      "metadata": {
        "id": "w5dFUoZ46AMX"
      },
      "source": [
        "'''\n",
        "Compiling the model using the loss function binary crossentropy and RMSProp !\n",
        "\n",
        "return : None\n",
        "\n",
        "params : model object \n",
        "'''\n",
        "def compile_model(model):\n",
        "  model.compile(loss='binary_crossentropy',\n",
        "                optimizer=RMSprop(lr=1e-5), #optionally use the Adam with learning rate 0.001 - 1e-5\n",
        "                metrics=['accuracy'])\n",
        "compile_model(resnet_model)\n"
      ],
      "execution_count": 46,
      "outputs": []
    },
    {
      "cell_type": "markdown",
      "metadata": {
        "id": "5i-9ZzE5qICk"
      },
      "source": [
        "# **Validation and CallBack Lists**"
      ]
    },
    {
      "cell_type": "code",
      "metadata": {
        "id": "lQQikA-3D72T"
      },
      "source": [
        "'''\n",
        "The below callback list is used to moniter the validation accuracy, and the save the best version of the\n",
        "CNN model. The paths has been specified for later use !\n",
        "\n",
        "The Classifier model and the history file are saved in the Binary Classifier Models directory, in the format:\n",
        "\n",
        "Model_Name_Directory\n",
        "                | \n",
        "                |\n",
        "                 ---- Model_File.h5\n",
        "                 ---- Model_History.pickle\n",
        "                 -----Model_Test_Acc.pickle\n",
        "'''\n",
        "\n",
        "model_path    = '/content/drive/MyDrive/Binary Classifier Models /Binary Classifier Model 0/Binary_Classifier_Model.h5'\n",
        "alexnet_path  = '/content/drive/MyDrive/Binary Classifier Models /AlexNet Classifier/AlexNet_Classifier.h5'\n",
        "vgg19_path    = '/content/drive/MyDrive/Binary Classifier Models /VGG 19/VGG_19v1.h5' \n",
        "vgg16_path    = '/content/drive/MyDrive/Binary Classifier Models /VGG 16/VGG_16.h5'\n",
        "resnet_path   = '/content/drive/MyDrive/Binary Classifier Models /ResNet/ResNetv1.h5'"
      ],
      "execution_count": 47,
      "outputs": []
    },
    {
      "cell_type": "code",
      "metadata": {
        "id": "PgWlesAC4SI7"
      },
      "source": [
        "'''\n",
        "Early stopping is a mechanism, which allows to moniter a value, specially the val_loss, and stop the \n",
        "training, at a particular patience level, to avoid overfitting !\n",
        "'''\n",
        "\n",
        "early_call_back = EarlyStopping(monitor=\"val_loss\",patience=4,verbose=1,mode=\"auto\",restore_best_weights=True)"
      ],
      "execution_count": 48,
      "outputs": []
    },
    {
      "cell_type": "code",
      "metadata": {
        "id": "kR2Rgy-AQvml"
      },
      "source": [
        "callback_checkpoint=ModelCheckpoint(resnet_path,monitor='val_accuracy',verbose=1,save_best_only=True,mode='max')\n",
        "callback_checkpoint_list=[callback_checkpoint,early_call_back]#can remove the early stopping if needed !"
      ],
      "execution_count": 49,
      "outputs": []
    },
    {
      "cell_type": "markdown",
      "metadata": {
        "id": "UovyYQST6aey"
      },
      "source": [
        "# **Training the datset based on given model !**"
      ]
    },
    {
      "cell_type": "code",
      "metadata": {
        "id": "IASzW7LI6e7N",
        "colab": {
          "base_uri": "https://localhost:8080/"
        },
        "outputId": "57a26c71-c0c0-47cc-a1a0-d93425ab98be"
      },
      "source": [
        "'''\n",
        "The below function takes in an arguement, which is the model to be trained and it trains the dataset with the specified model\n",
        "epochs:100\n",
        "\n",
        "Params: model object\n",
        "\n",
        "Return the trained object\n",
        "'''\n",
        "\n",
        "def train_the_model(model):\n",
        "  the_final_train = model.fit(\n",
        "                      training_images_datagen,\n",
        "                      callbacks       = callback_checkpoint_list,\n",
        "                      validation_data = valid_images_datagen,\n",
        "                      steps_per_epoch = 3, #the steps per epoch is set to 2, but cannot be set to more than 3(because of error !) \n",
        "                      epochs          = 30,\n",
        "                      verbose         = 2,\n",
        "                    )\n",
        "  return the_final_train\n",
        "\n",
        "\n",
        "trained_model=train_the_model(resnet_model)"
      ],
      "execution_count": 50,
      "outputs": [
        {
          "output_type": "stream",
          "text": [
            "Epoch 1/30\n",
            "3/3 - 12s - loss: 2.0896 - accuracy: 0.5075 - val_loss: 0.1779 - val_accuracy: 0.9394\n",
            "\n",
            "Epoch 00001: val_accuracy improved from -inf to 0.93939, saving model to /content/drive/MyDrive/Binary Classifier Models /ResNet/ResNetv1.h5\n",
            "Epoch 2/30\n",
            "3/3 - 6s - loss: 1.2289 - accuracy: 0.6455 - val_loss: 0.2058 - val_accuracy: 0.9091\n",
            "\n",
            "Epoch 00002: val_accuracy did not improve from 0.93939\n",
            "Epoch 3/30\n",
            "3/3 - 7s - loss: 0.7008 - accuracy: 0.7351 - val_loss: 0.1059 - val_accuracy: 0.9697\n",
            "\n",
            "Epoch 00003: val_accuracy improved from 0.93939 to 0.96970, saving model to /content/drive/MyDrive/Binary Classifier Models /ResNet/ResNetv1.h5\n",
            "Epoch 4/30\n",
            "3/3 - 6s - loss: 0.7155 - accuracy: 0.7500 - val_loss: 0.2710 - val_accuracy: 0.8788\n",
            "\n",
            "Epoch 00004: val_accuracy did not improve from 0.96970\n",
            "Epoch 5/30\n",
            "3/3 - 7s - loss: 0.5498 - accuracy: 0.7836 - val_loss: 0.0976 - val_accuracy: 0.9697\n",
            "\n",
            "Epoch 00005: val_accuracy did not improve from 0.96970\n",
            "Epoch 6/30\n",
            "3/3 - 7s - loss: 0.5040 - accuracy: 0.8321 - val_loss: 0.1460 - val_accuracy: 0.9091\n",
            "\n",
            "Epoch 00006: val_accuracy did not improve from 0.96970\n",
            "Epoch 7/30\n",
            "3/3 - 7s - loss: 0.4502 - accuracy: 0.8470 - val_loss: 0.0856 - val_accuracy: 0.9697\n",
            "\n",
            "Epoch 00007: val_accuracy did not improve from 0.96970\n",
            "Epoch 8/30\n",
            "3/3 - 6s - loss: 0.3421 - accuracy: 0.8769 - val_loss: 0.1349 - val_accuracy: 0.9394\n",
            "\n",
            "Epoch 00008: val_accuracy did not improve from 0.96970\n",
            "Epoch 9/30\n",
            "3/3 - 6s - loss: 0.3485 - accuracy: 0.8582 - val_loss: 0.0933 - val_accuracy: 0.9697\n",
            "\n",
            "Epoch 00009: val_accuracy did not improve from 0.96970\n",
            "Epoch 10/30\n",
            "3/3 - 6s - loss: 0.1855 - accuracy: 0.9328 - val_loss: 0.0937 - val_accuracy: 0.9697\n",
            "\n",
            "Epoch 00010: val_accuracy did not improve from 0.96970\n",
            "Epoch 11/30\n",
            "3/3 - 6s - loss: 0.2453 - accuracy: 0.8843 - val_loss: 0.1017 - val_accuracy: 0.9394\n",
            "\n",
            "Epoch 00011: val_accuracy did not improve from 0.96970\n",
            "Restoring model weights from the end of the best epoch.\n",
            "Epoch 00011: early stopping\n"
          ],
          "name": "stdout"
        }
      ]
    },
    {
      "cell_type": "markdown",
      "metadata": {
        "id": "SnfCsHlkHZzZ"
      },
      "source": [
        "# **Saving History Pickle File !**"
      ]
    },
    {
      "cell_type": "code",
      "metadata": {
        "id": "uevOvCWNHZex"
      },
      "source": [
        "binary_class_pickle  = '/content/drive/MyDrive/Binary Classifier Models /Binary Classifier Model 0/BinaryClass.pickle'\n",
        "alexnet_pickle       = '/content/drive/MyDrive/Binary Classifier Models /AlexNet Classifier/AlexNet.pickle' \n",
        "vgg19_pickle         = '/content/drive/MyDrive/Binary Classifier Models /VGG 19/VGG19v1.pickle'\n",
        "vgg16_pickle         = '/content/drive/MyDrive/Binary Classifier Models /VGG 16/VGG16.pickle'\n",
        "resnet_pickle        = '/content/drive/MyDrive/Binary Classifier Models /ResNet/ResNetv1.pickle'"
      ],
      "execution_count": 51,
      "outputs": []
    },
    {
      "cell_type": "code",
      "metadata": {
        "colab": {
          "base_uri": "https://localhost:8080/"
        },
        "id": "aGvDV7DyW4Ls",
        "outputId": "44e2a201-540a-4a7a-882f-16a017bbec4c"
      },
      "source": [
        "'''\n",
        "The model cannot path cannot be directly used to retrieve the history thats\n",
        "why we are saving the respective model history to a pickle file \n",
        "\n",
        "return : None\n",
        "\n",
        "params : model_history and path of pickle file \n",
        "'''\n",
        "\n",
        "def save_file(pickle_dir,model_history):\n",
        "  with open(pickle_dir,'wb') as binary_pickle:\n",
        "    binary_pickle.write(pickle.dumps(model_history)) #dumping to pickle before writing to pickle file !\n",
        "    print(f'History Saved to {pickle_dir}')\n",
        "\n",
        "save_file(resnet_pickle,trained_model.history) #the path of the model history pickle and the current model history !"
      ],
      "execution_count": 52,
      "outputs": [
        {
          "output_type": "stream",
          "text": [
            "History Saved to /content/drive/MyDrive/Binary Classifier Models /ResNet/ResNetv1.pickle\n"
          ],
          "name": "stdout"
        }
      ]
    },
    {
      "cell_type": "markdown",
      "metadata": {
        "id": "AKqlawEa-J0E"
      },
      "source": [
        "# **Accuracy and Loss Graph !**"
      ]
    },
    {
      "cell_type": "code",
      "metadata": {
        "colab": {
          "base_uri": "https://localhost:8080/",
          "height": 606
        },
        "id": "_8dEYa0P-JQY",
        "outputId": "09064c26-0bfc-434c-af19-5d8f459b6528"
      },
      "source": [
        "with open(resnet_pickle,'rb') as model_history: #opening the pickle file which contains the dictionary !\n",
        "  model_history_dict=model_history.read()\n",
        "'''\n",
        "The accuracy and the losses at each iteration/epoch is evaluated in the graph below\n",
        "matplotlib is used for plotting.\n",
        "\n",
        "return:None\n",
        "\n",
        "params:model history path\n",
        "'''\n",
        "def plot_metrics(model):\n",
        "  model=pickle.loads(model)\n",
        "  plt.plot(model['accuracy'])\n",
        "  plt.plot(model['val_accuracy'])\n",
        "  plt.title('model_accuracy')\n",
        "  plt.ylabel('accuracy')\n",
        "  plt.xlabel('epoch')\n",
        "  plt.legend(['train','test'],loc='lower left')\n",
        "  plt.show()\n",
        "\n",
        "  plt.plot(model['loss'])\n",
        "  plt.plot(model['val_loss'])\n",
        "  plt.title('model_loss')\n",
        "  plt.ylabel('loss')\n",
        "  plt.xlabel('epoch')\n",
        "  plt.legend(['train','val loss'],loc='lower left')\n",
        "  plt.show()\n",
        "\n",
        "\n",
        "plot_metrics(model_history_dict)\n",
        "print(pickle.loads(model_history_dict)['accuracy'][-1]*100)\n",
        "print(pickle.loads(model_history_dict)['val_accuracy'][-1]*100)"
      ],
      "execution_count": 53,
      "outputs": [
        {
          "output_type": "display_data",
          "data": {
            "image/png": "[encoded data removed]",
            "text/plain": [
              "<Figure size 432x288 with 1 Axes>"
            ]
          },
          "metadata": {
            "tags": [],
            "needs_background": "light"
          }
        },
        {
          "output_type": "display_data",
          "data": {
            "image/png": "[encoded data removed]",
            "text/plain": [
              "<Figure size 432x288 with 1 Axes>"
            ]
          },
          "metadata": {
            "tags": [],
            "needs_background": "light"
          }
        },
        {
          "output_type": "stream",
          "text": [
            "88.43283653259277\n",
            "93.9393937587738\n"
          ],
          "name": "stdout"
        }
      ]
    },
    {
      "cell_type": "markdown",
      "metadata": {
        "id": "SsPLPfYqXlJ1"
      },
      "source": [
        "#**Testing for Cancer vs Normal**"
      ]
    },
    {
      "cell_type": "code",
      "metadata": {
        "id": "r9hAShN3yULC",
        "colab": {
          "base_uri": "https://localhost:8080/"
        },
        "outputId": "b2696fe0-871e-405e-d993-83d88af56c17"
      },
      "source": [
        "'''\n",
        "The final module of the system which basically predicts whether given cell is a blast or normal cell,\n",
        "based on the image and the prediction model file !\n",
        "\n",
        "return: Blast or Not \n",
        " \n",
        "params: path to the model and the path to the image !\n",
        "'''\n",
        "\n",
        "def check_for_cancer(model,image_path):\n",
        "  model = keras.models.load_model(model) #loading the model.h5 from the drive !\n",
        "  img = image.load_img(image_path, target_size=(224,224)) # loading the image in 300x300 diemensions(227x227x3 for AlexNet)\n",
        "  img = image.img_to_array(img)\n",
        "  img = np.expand_dims(img, axis=0)#expanding along one axis \n",
        "  result_vector = model.predict(img).round(1) #the array is passed to the model for prediction\n",
        "  print(result_vector)\n",
        "  return \"Cancerous\" if result_vector[0] <0.5 else \"Normal\"\n",
        "\n",
        "# print('Prediction Based on the VGG 19 Classifier !')\n",
        "# print(check_for_cancer(vgg19_path,'/content/drive/MyDrive/Architecture Datasets/Testing/Blasts/Im006_1.jpg'))\n",
        "# print(check_for_cancer(vgg19_path,'/content/drive/MyDrive/Architecture Datasets/Testing/Normal/Im066_0.jpg'))\n",
        "\n",
        "\n",
        "print('Prediction Based on the VGG 16 Classifier !')\n",
        "print(check_for_cancer('/content/drive/MyDrive/Binary Classifier Models /ResNet/ResNet.h5','/content/drive/MyDrive/Architecture Datasets/Testing/Blasts/Im006_1.jpg'))\n",
        "print(check_for_cancer('/content/drive/MyDrive/Binary Classifier Models /ResNet/ResNet.h5','/content/drive/MyDrive/Architecture Datasets/Testing/Normal/Im066_0.jpg'))"
      ],
      "execution_count": 57,
      "outputs": [
        {
          "output_type": "stream",
          "text": [
            "Prediction Based on the VGG 16 Classifier !\n",
            "[[0.]]\n",
            "Cancerous\n",
            "[[0.6]]\n",
            "Normal\n"
          ],
          "name": "stdout"
        }
      ]
    },
    {
      "cell_type": "code",
      "metadata": {
        "id": "TitqEKz9nhWV"
      },
      "source": [
        "bin_test    = '/content/drive/MyDrive/Binary Classifier Models /Binary Classifier Model 0/binary_acc.pickle'\n",
        "alexnet_test= '/content/drive/MyDrive/Binary Classifier Models /AlexNet Classifier/alexnet_acc.pickle'\n",
        "vgg16_test  = '/content/drive/MyDrive/Binary Classifier Models /VGG 16/vgg16_acc.pickle'\n",
        "vgg19_test  = '/content/drive/MyDrive/Binary Classifier Models /VGG 19/vgg19v1_acc.pickle'\n",
        "resnet_test = '/content/drive/MyDrive/Binary Classifier Models /ResNet/ResNetv1_acc.pickle'"
      ],
      "execution_count": 55,
      "outputs": []
    },
    {
      "cell_type": "markdown",
      "metadata": {
        "id": "kgto-0NzLjgb"
      },
      "source": [
        "# **Metrics Analysis**"
      ]
    },
    {
      "cell_type": "code",
      "metadata": {
        "id": "QoLOpSkUzKd0",
        "colab": {
          "base_uri": "https://localhost:8080/"
        },
        "outputId": "c9344a6b-5545-4738-f36e-763fb07898a2"
      },
      "source": [
        "def get_accuracy(model,test_datagen,pickle_file):\n",
        "  model = keras.models.load_model(model)\n",
        "  loss,accuracy = model.evaluate(test_datagen,batch_size = 128)\n",
        "  with open(pickle_file,'wb') as binary_pickle:\n",
        "    binary_pickle.write(pickle.dumps((loss,accuracy))) #dumping to pickle before writing to pickle file !\n",
        "    print(f'Accuracy Saved to {pickle_file}')\n",
        "\n",
        "get_accuracy(resnet_path,test_images_datagen,resnet_test)"
      ],
      "execution_count": 56,
      "outputs": [
        {
          "output_type": "stream",
          "text": [
            "1/1 [==============================] - 2s 2s/step - loss: 0.1467 - accuracy: 0.9394\n",
            "Accuracy Saved to /content/drive/MyDrive/Binary Classifier Models /ResNet/ResNetv1_acc.pickle\n"
          ],
          "name": "stdout"
        }
      ]
    },
    {
      "cell_type": "markdown",
      "metadata": {
        "id": "bPMoOHtuXxV0"
      },
      "source": [
        "# **ROC Curve Graph**"
      ]
    },
    {
      "cell_type": "code",
      "metadata": {
        "id": "xV5hYKsAXxC4",
        "colab": {
          "base_uri": "https://localhost:8080/",
          "height": 399
        },
        "outputId": "5389d1a2-8753-4b54-b6d6-fb02cd438d02"
      },
      "source": [
        "from sklearn import metrics\n",
        "model = keras.models.load_model(alexnet_path)\n",
        "img = image.load_img('/content/drive/MyDrive/Architecture Datasets/Testing/Blasts/Im006_1.jpg', target_size=(227,227)) # loading the image in 300x300 diemensions(227x227x3 for AlexNet)\n",
        "img = image.img_to_array(img)\n",
        "img = np.expand_dims(img, axis=0)#expanding along one axis \n",
        "result_vector = model.predict(img).round(1)\n",
        "y_test = np.array(list(test_images_datagen.class_indices.values()))\n",
        "pred = np.array([result_vector[0],0.7])\n",
        "fpr, tpr, threshold = metrics.roc_curve(y_test, pred)\n",
        "roc_auc = metrics.auc(fpr, tpr)\n",
        "plt.title('Receiver Operating Characteristic')\n",
        "plt.plot(fpr, tpr, 'b', label = 'AUC = %0.2f' % roc_auc)\n",
        "plt.legend(loc = 'lower right')\n",
        "plt.plot([0, 1], [0, 1],'r--')\n",
        "plt.xlim([0, 1])\n",
        "plt.ylim([0, 1])\n",
        "plt.ylabel('True Positive Rate')\n",
        "plt.xlabel('False Positive Rate')\n",
        "plt.show()\n",
        "\n",
        "print(result_vector[0])\n",
        "print(y_test.shape)"
      ],
      "execution_count": 141,
      "outputs": [
        {
          "output_type": "stream",
          "text": [
            "WARNING:tensorflow:11 out of the last 11 calls to <function Model.make_predict_function.<locals>.predict_function at 0x7f71f6a04ef0> triggered tf.function retracing. Tracing is expensive and the excessive number of tracings could be due to (1) creating @tf.function repeatedly in a loop, (2) passing tensors with different shapes, (3) passing Python objects instead of tensors. For (1), please define your @tf.function outside of the loop. For (2), @tf.function has experimental_relax_shapes=True option that relaxes argument shapes that can avoid unnecessary retracing. For (3), please refer to https://www.tensorflow.org/guide/function#controlling_retracing and https://www.tensorflow.org/api_docs/python/tf/function for  more details.\n"
          ],
          "name": "stdout"
        },
        {
          "output_type": "stream",
          "text": [
            "/usr/local/lib/python3.7/dist-packages/ipykernel_launcher.py:8: VisibleDeprecationWarning: Creating an ndarray from ragged nested sequences (which is a list-or-tuple of lists-or-tuples-or ndarrays with different lengths or shapes) is deprecated. If you meant to do this, you must specify 'dtype=object' when creating the ndarray\n",
            "  \n"
          ],
          "name": "stderr"
        },
        {
          "output_type": "display_data",
          "data": {
            "image/png": "[encoded data removed]",
            "text/plain": [
              "<Figure size 432x288 with 1 Axes>"
            ]
          },
          "metadata": {
            "tags": [],
            "needs_background": "light"
          }
        },
        {
          "output_type": "stream",
          "text": [
            "[0.2]\n",
            "(2,)\n"
          ],
          "name": "stdout"
        }
      ]
    },
    {
      "cell_type": "markdown",
      "metadata": {
        "id": "RGMTH0qHy5Po"
      },
      "source": [
        "# **Run Flask App**"
      ]
    },
    {
      "cell_type": "code",
      "metadata": {
        "id": "5wcdpHyyv08L"
      },
      "source": [
        "!pip install flask_ngrok  #optional step to install the ngrok for flask !"
      ],
      "execution_count": null,
      "outputs": []
    },
    {
      "cell_type": "code",
      "metadata": {
        "id": "eZGc2fRjy42o"
      },
      "source": [
        "!python /content/drive/MyDrive/Web-App/app.py"
      ],
      "execution_count": null,
      "outputs": []
    }
  ]
}